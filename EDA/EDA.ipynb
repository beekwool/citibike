{
 "cells": [
  {
   "cell_type": "code",
   "execution_count": 2,
   "metadata": {},
   "outputs": [],
   "source": [
    "import numpy as np\n",
    "import pandas as pd\n",
    "import dask.dataframe as dd\n",
    "import pickle\n",
    "from dask.diagnostics import ProgressBar\n",
    "import re\n",
    "import seaborn as sns\n",
    "import matplotlib.pyplot as plt"
   ]
  },
  {
   "cell_type": "code",
   "execution_count": 2,
   "metadata": {},
   "outputs": [
    {
     "name": "stderr",
     "output_type": "stream",
     "text": [
      "/Users/danielchoy/opt/anaconda3/lib/python3.7/site-packages/IPython/core/interactiveshell.py:3063: DtypeWarning: Columns (15) have mixed types.Specify dtype option on import or set low_memory=False.\n",
      "  interactivity=interactivity, compiler=compiler, result=result)\n"
     ]
    }
   ],
   "source": [
    "rides = pd.read_csv('data/riders_cleaned.csv.gz', usecols = ['starttime', 'tripduration', 'gender', 'season', 'dayofweek','usertype','birth year'])"
   ]
  },
  {
   "cell_type": "code",
   "execution_count": 3,
   "metadata": {},
   "outputs": [
    {
     "data": {
      "text/html": [
       "<div>\n",
       "<style scoped>\n",
       "    .dataframe tbody tr th:only-of-type {\n",
       "        vertical-align: middle;\n",
       "    }\n",
       "\n",
       "    .dataframe tbody tr th {\n",
       "        vertical-align: top;\n",
       "    }\n",
       "\n",
       "    .dataframe thead th {\n",
       "        text-align: right;\n",
       "    }\n",
       "</style>\n",
       "<table border=\"1\" class=\"dataframe\">\n",
       "  <thead>\n",
       "    <tr style=\"text-align: right;\">\n",
       "      <th></th>\n",
       "      <th>tripduration</th>\n",
       "      <th>starttime</th>\n",
       "      <th>usertype</th>\n",
       "      <th>birth year</th>\n",
       "      <th>gender</th>\n",
       "      <th>season</th>\n",
       "      <th>dayofweek</th>\n",
       "    </tr>\n",
       "  </thead>\n",
       "  <tbody>\n",
       "    <tr>\n",
       "      <th>0</th>\n",
       "      <td>362</td>\n",
       "      <td>2017-09-01 00:00:17</td>\n",
       "      <td>Subscriber</td>\n",
       "      <td>1993</td>\n",
       "      <td>1</td>\n",
       "      <td>fall</td>\n",
       "      <td>Friday</td>\n",
       "    </tr>\n",
       "    <tr>\n",
       "      <th>1</th>\n",
       "      <td>188</td>\n",
       "      <td>2017-09-01 00:00:21</td>\n",
       "      <td>Subscriber</td>\n",
       "      <td>1988</td>\n",
       "      <td>1</td>\n",
       "      <td>fall</td>\n",
       "      <td>Friday</td>\n",
       "    </tr>\n",
       "    <tr>\n",
       "      <th>2</th>\n",
       "      <td>305</td>\n",
       "      <td>2017-09-01 00:00:25</td>\n",
       "      <td>Subscriber</td>\n",
       "      <td>1969</td>\n",
       "      <td>1</td>\n",
       "      <td>fall</td>\n",
       "      <td>Friday</td>\n",
       "    </tr>\n",
       "    <tr>\n",
       "      <th>3</th>\n",
       "      <td>223</td>\n",
       "      <td>2017-09-01 00:00:52</td>\n",
       "      <td>Subscriber</td>\n",
       "      <td>1993</td>\n",
       "      <td>1</td>\n",
       "      <td>fall</td>\n",
       "      <td>Friday</td>\n",
       "    </tr>\n",
       "    <tr>\n",
       "      <th>4</th>\n",
       "      <td>758</td>\n",
       "      <td>2017-09-01 00:01:01</td>\n",
       "      <td>Subscriber</td>\n",
       "      <td>1987</td>\n",
       "      <td>1</td>\n",
       "      <td>fall</td>\n",
       "      <td>Friday</td>\n",
       "    </tr>\n",
       "    <tr>\n",
       "      <th>5</th>\n",
       "      <td>2089</td>\n",
       "      <td>2017-09-01 00:01:20</td>\n",
       "      <td>Subscriber</td>\n",
       "      <td>1975</td>\n",
       "      <td>2</td>\n",
       "      <td>fall</td>\n",
       "      <td>Friday</td>\n",
       "    </tr>\n",
       "    <tr>\n",
       "      <th>6</th>\n",
       "      <td>121</td>\n",
       "      <td>2017-09-01 00:01:22</td>\n",
       "      <td>Subscriber</td>\n",
       "      <td>1990</td>\n",
       "      <td>1</td>\n",
       "      <td>fall</td>\n",
       "      <td>Friday</td>\n",
       "    </tr>\n",
       "    <tr>\n",
       "      <th>7</th>\n",
       "      <td>408</td>\n",
       "      <td>2017-09-01 00:01:39</td>\n",
       "      <td>Subscriber</td>\n",
       "      <td>1961</td>\n",
       "      <td>1</td>\n",
       "      <td>fall</td>\n",
       "      <td>Friday</td>\n",
       "    </tr>\n",
       "    <tr>\n",
       "      <th>8</th>\n",
       "      <td>485</td>\n",
       "      <td>2017-09-01 00:01:41</td>\n",
       "      <td>Subscriber</td>\n",
       "      <td>1984</td>\n",
       "      <td>1</td>\n",
       "      <td>fall</td>\n",
       "      <td>Friday</td>\n",
       "    </tr>\n",
       "    <tr>\n",
       "      <th>9</th>\n",
       "      <td>220</td>\n",
       "      <td>2017-09-01 00:01:40</td>\n",
       "      <td>Subscriber</td>\n",
       "      <td>1992</td>\n",
       "      <td>1</td>\n",
       "      <td>fall</td>\n",
       "      <td>Friday</td>\n",
       "    </tr>\n",
       "  </tbody>\n",
       "</table>\n",
       "</div>"
      ],
      "text/plain": [
       "   tripduration            starttime    usertype birth year  gender season  \\\n",
       "0           362  2017-09-01 00:00:17  Subscriber       1993       1   fall   \n",
       "1           188  2017-09-01 00:00:21  Subscriber       1988       1   fall   \n",
       "2           305  2017-09-01 00:00:25  Subscriber       1969       1   fall   \n",
       "3           223  2017-09-01 00:00:52  Subscriber       1993       1   fall   \n",
       "4           758  2017-09-01 00:01:01  Subscriber       1987       1   fall   \n",
       "5          2089  2017-09-01 00:01:20  Subscriber       1975       2   fall   \n",
       "6           121  2017-09-01 00:01:22  Subscriber       1990       1   fall   \n",
       "7           408  2017-09-01 00:01:39  Subscriber       1961       1   fall   \n",
       "8           485  2017-09-01 00:01:41  Subscriber       1984       1   fall   \n",
       "9           220  2017-09-01 00:01:40  Subscriber       1992       1   fall   \n",
       "\n",
       "  dayofweek  \n",
       "0    Friday  \n",
       "1    Friday  \n",
       "2    Friday  \n",
       "3    Friday  \n",
       "4    Friday  \n",
       "5    Friday  \n",
       "6    Friday  \n",
       "7    Friday  \n",
       "8    Friday  \n",
       "9    Friday  "
      ]
     },
     "execution_count": 3,
     "metadata": {},
     "output_type": "execute_result"
    }
   ],
   "source": [
    "rides.head(10)"
   ]
  },
  {
   "cell_type": "markdown",
   "metadata": {},
   "source": [
    "#### Gender"
   ]
  },
  {
   "cell_type": "code",
   "execution_count": 115,
   "metadata": {},
   "outputs": [],
   "source": [
    "genders = ['Unknown', 'Male', 'Female']\n",
    "y_pos = [0, 1, 2]\n",
    "trip_counts = rides.groupby(['gender','usertype'])[['gender']].count().rename(columns={'gender':'counts'}).reset_index()\n",
    "trip_counts['genders'] = trip_counts['gender'].apply(lambda x: 'Unknown' if x == 0 else 'Male' if x == 1 else 'Female')\n",
    "trip_counts['counts_mil'] = trip_counts['counts'] / 1000000"
   ]
  },
  {
   "cell_type": "code",
   "execution_count": 39,
   "metadata": {},
   "outputs": [
    {
     "data": {
      "text/html": [
       "<div>\n",
       "<style scoped>\n",
       "    .dataframe tbody tr th:only-of-type {\n",
       "        vertical-align: middle;\n",
       "    }\n",
       "\n",
       "    .dataframe tbody tr th {\n",
       "        vertical-align: top;\n",
       "    }\n",
       "\n",
       "    .dataframe thead th {\n",
       "        text-align: right;\n",
       "    }\n",
       "</style>\n",
       "<table border=\"1\" class=\"dataframe\">\n",
       "  <thead>\n",
       "    <tr style=\"text-align: right;\">\n",
       "      <th></th>\n",
       "      <th>gender</th>\n",
       "      <th>counts</th>\n",
       "      <th>genders</th>\n",
       "      <th>counts_mil</th>\n",
       "    </tr>\n",
       "  </thead>\n",
       "  <tbody>\n",
       "    <tr>\n",
       "      <th>0</th>\n",
       "      <td>0</td>\n",
       "      <td>11440027</td>\n",
       "      <td>Unknown</td>\n",
       "      <td>11.440027</td>\n",
       "    </tr>\n",
       "    <tr>\n",
       "      <th>1</th>\n",
       "      <td>1</td>\n",
       "      <td>73145691</td>\n",
       "      <td>Male</td>\n",
       "      <td>73.145691</td>\n",
       "    </tr>\n",
       "    <tr>\n",
       "      <th>2</th>\n",
       "      <td>2</td>\n",
       "      <td>25755895</td>\n",
       "      <td>Female</td>\n",
       "      <td>25.755895</td>\n",
       "    </tr>\n",
       "  </tbody>\n",
       "</table>\n",
       "</div>"
      ],
      "text/plain": [
       "   gender    counts  genders  counts_mil\n",
       "0       0  11440027  Unknown   11.440027\n",
       "1       1  73145691     Male   73.145691\n",
       "2       2  25755895   Female   25.755895"
      ]
     },
     "execution_count": 39,
     "metadata": {},
     "output_type": "execute_result"
    }
   ],
   "source": [
    "trip_counts"
   ]
  },
  {
   "cell_type": "code",
   "execution_count": 118,
   "metadata": {},
   "outputs": [
    {
     "data": {
      "text/plain": [
       "Text(0, 0.5, 'Trip Counts in Millions')"
      ]
     },
     "execution_count": 118,
     "metadata": {},
     "output_type": "execute_result"
    },
    {
     "data": {
      "image/png": "[encoded data removed]",
      "text/plain": [
       "<Figure size 576x432 with 1 Axes>"
      ]
     },
     "metadata": {},
     "output_type": "display_data"
    }
   ],
   "source": [
    "sns.set(rc={'axes.facecolor':'#f3f3f3', 'figure.facecolor':'#f3f3f3'})\n",
    "colors = [\"#ea2029\", \"#263571\", \"#ea2029\"]\n",
    "sns.set_palette(sns.color_palette(colors))\n",
    "plt.figure(figsize = (8,6))\n",
    "fig = sns.barplot(x = 'genders', y = 'counts_mil', hue = 'usertype', data = trip_counts)\n",
    "fig.set_title('CitiBike Total Ride Count by Gender', fontsize=12)\n",
    "fig.set_xlabel('Gender', fontsize=12)\n",
    "fig.set_ylabel('Trip Counts in Millions', fontsize=12)"
   ]
  },
  {
   "cell_type": "markdown",
   "metadata": {},
   "source": [
    "#### Number of Trips"
   ]
  },
  {
   "cell_type": "code",
   "execution_count": 5,
   "metadata": {},
   "outputs": [],
   "source": [
    "rides['starttime'] = pd.to_datetime(rides['starttime'])\n",
    "rides['date'] = rides['starttime'].dt.strftime('%Y-%m-%d')\n",
    "rides['date'] = pd.to_datetime(rides['date'])\n",
    "rides['month'] = rides['date'].dt.strftime('%Y-%m')\n",
    "rides['year'] = rides['date'].dt.strftime('%Y')"
   ]
  },
  {
   "cell_type": "code",
   "execution_count": 6,
   "metadata": {},
   "outputs": [],
   "source": [
    "rides['month2'] = rides.starttime.dt.month.apply(lambda x: 'Jan' if x == 1 else 'Feb' if x == 2 else \\\n",
    "    'Mar' if x == 3 else 'Apr' if x == 4 else 'May' if x == 5 else 'Jun' if x == 6 else 'Jul' if x == 7 else \\\n",
    "    'Aug' if x == 8 else 'Sep' if x == 9 else 'Oct' if x == 10 else 'Nov' if x == 11 else 'Dec' )"
   ]
  },
  {
   "cell_type": "code",
   "execution_count": null,
   "metadata": {},
   "outputs": [],
   "source": []
  },
  {
   "cell_type": "code",
   "execution_count": 31,
   "metadata": {},
   "outputs": [],
   "source": [
    "monthly = rides.groupby(['year','month2','usertype'])[['month2']].count().rename(columns={'month2':'counts'}).reset_index()"
   ]
  },
  {
   "cell_type": "code",
   "execution_count": 32,
   "metadata": {},
   "outputs": [],
   "source": [
    "monthly['counts_mil'] = monthly['counts'] / 1000000"
   ]
  },
  {
   "cell_type": "code",
   "execution_count": 33,
   "metadata": {},
   "outputs": [
    {
     "data": {
      "text/html": [
       "<div>\n",
       "<style scoped>\n",
       "    .dataframe tbody tr th:only-of-type {\n",
       "        vertical-align: middle;\n",
       "    }\n",
       "\n",
       "    .dataframe tbody tr th {\n",
       "        vertical-align: top;\n",
       "    }\n",
       "\n",
       "    .dataframe thead th {\n",
       "        text-align: right;\n",
       "    }\n",
       "</style>\n",
       "<table border=\"1\" class=\"dataframe\">\n",
       "  <thead>\n",
       "    <tr style=\"text-align: right;\">\n",
       "      <th></th>\n",
       "      <th>year</th>\n",
       "      <th>month2</th>\n",
       "      <th>usertype</th>\n",
       "      <th>counts</th>\n",
       "      <th>counts_mil</th>\n",
       "    </tr>\n",
       "  </thead>\n",
       "  <tbody>\n",
       "    <tr>\n",
       "      <th>0</th>\n",
       "      <td>2013</td>\n",
       "      <td>Aug</td>\n",
       "      <td>Customer</td>\n",
       "      <td>186056</td>\n",
       "      <td>0.186056</td>\n",
       "    </tr>\n",
       "    <tr>\n",
       "      <th>1</th>\n",
       "      <td>2013</td>\n",
       "      <td>Aug</td>\n",
       "      <td>Subscriber</td>\n",
       "      <td>815902</td>\n",
       "      <td>0.815902</td>\n",
       "    </tr>\n",
       "    <tr>\n",
       "      <th>2</th>\n",
       "      <td>2013</td>\n",
       "      <td>Dec</td>\n",
       "      <td>Customer</td>\n",
       "      <td>19381</td>\n",
       "      <td>0.019381</td>\n",
       "    </tr>\n",
       "    <tr>\n",
       "      <th>3</th>\n",
       "      <td>2013</td>\n",
       "      <td>Dec</td>\n",
       "      <td>Subscriber</td>\n",
       "      <td>424585</td>\n",
       "      <td>0.424585</td>\n",
       "    </tr>\n",
       "    <tr>\n",
       "      <th>4</th>\n",
       "      <td>2013</td>\n",
       "      <td>Jul</td>\n",
       "      <td>Customer</td>\n",
       "      <td>174916</td>\n",
       "      <td>0.174916</td>\n",
       "    </tr>\n",
       "    <tr>\n",
       "      <th>...</th>\n",
       "      <td>...</td>\n",
       "      <td>...</td>\n",
       "      <td>...</td>\n",
       "      <td>...</td>\n",
       "      <td>...</td>\n",
       "    </tr>\n",
       "    <tr>\n",
       "      <th>175</th>\n",
       "      <td>2020</td>\n",
       "      <td>Nov</td>\n",
       "      <td>Subscriber</td>\n",
       "      <td>1362408</td>\n",
       "      <td>1.362408</td>\n",
       "    </tr>\n",
       "    <tr>\n",
       "      <th>176</th>\n",
       "      <td>2020</td>\n",
       "      <td>Oct</td>\n",
       "      <td>Customer</td>\n",
       "      <td>546754</td>\n",
       "      <td>0.546754</td>\n",
       "    </tr>\n",
       "    <tr>\n",
       "      <th>177</th>\n",
       "      <td>2020</td>\n",
       "      <td>Oct</td>\n",
       "      <td>Subscriber</td>\n",
       "      <td>1702115</td>\n",
       "      <td>1.702115</td>\n",
       "    </tr>\n",
       "    <tr>\n",
       "      <th>178</th>\n",
       "      <td>2020</td>\n",
       "      <td>Sep</td>\n",
       "      <td>Customer</td>\n",
       "      <td>670551</td>\n",
       "      <td>0.670551</td>\n",
       "    </tr>\n",
       "    <tr>\n",
       "      <th>179</th>\n",
       "      <td>2020</td>\n",
       "      <td>Sep</td>\n",
       "      <td>Subscriber</td>\n",
       "      <td>1817674</td>\n",
       "      <td>1.817674</td>\n",
       "    </tr>\n",
       "  </tbody>\n",
       "</table>\n",
       "<p>180 rows × 5 columns</p>\n",
       "</div>"
      ],
      "text/plain": [
       "     year month2    usertype   counts  counts_mil\n",
       "0    2013    Aug    Customer   186056    0.186056\n",
       "1    2013    Aug  Subscriber   815902    0.815902\n",
       "2    2013    Dec    Customer    19381    0.019381\n",
       "3    2013    Dec  Subscriber   424585    0.424585\n",
       "4    2013    Jul    Customer   174916    0.174916\n",
       "..    ...    ...         ...      ...         ...\n",
       "175  2020    Nov  Subscriber  1362408    1.362408\n",
       "176  2020    Oct    Customer   546754    0.546754\n",
       "177  2020    Oct  Subscriber  1702115    1.702115\n",
       "178  2020    Sep    Customer   670551    0.670551\n",
       "179  2020    Sep  Subscriber  1817674    1.817674\n",
       "\n",
       "[180 rows x 5 columns]"
      ]
     },
     "execution_count": 33,
     "metadata": {},
     "output_type": "execute_result"
    }
   ],
   "source": [
    "monthly"
   ]
  },
  {
   "cell_type": "code",
   "execution_count": 116,
   "metadata": {},
   "outputs": [
    {
     "data": {
      "text/plain": [
       "Text(0, 0.5, 'Number of Bike Rides (Million)')"
      ]
     },
     "execution_count": 116,
     "metadata": {},
     "output_type": "execute_result"
    },
    {
     "data": {
      "image/png": "[encoded data removed]",
      "text/plain": [
       "<Figure size 1008x504 with 1 Axes>"
      ]
     },
     "metadata": {},
     "output_type": "display_data"
    }
   ],
   "source": [
    "sns.set(rc={'axes.facecolor':'#f3f3f3', 'figure.facecolor':'#f3f3f3'})\n",
    "colors = [\"#39a2e1\",\"#263571\",\"#343335\",\"#7a6155\",\"#574746\",\"#60645f\",\"#8e8c8e\",\"#ea2029\",\"#ea2029\",\"#263571\",\"#263571\",\"#263571\"]\n",
    "sns.set_palette(sns.color_palette(colors))\n",
    "plt.figure(figsize = (16,6))\n",
    "fig = sns.barplot(x = 'month2', y = 'counts_mil', hue = 'year', data = monthly, order = ['Jan', 'Feb', 'Mar', 'Apr', 'May', 'Jun',\\\n",
    "                                                                      'Jul', 'Aug', 'Sep', 'Oct', 'Nov', 'Dec'],\n",
    "                 alpha = 0.9, palette = None)\n",
    "fig.set_title('Number of Bike Rides by Year and Month', fontsize=12)\n",
    "fig.set_xlabel('Month', fontsize=12)\n",
    "fig.set_ylabel('Number of Bike Rides (Million)', fontsize=12)"
   ]
  },
  {
   "cell_type": "code",
   "execution_count": 34,
   "metadata": {},
   "outputs": [],
   "source": [
    "monthly2 = monthly.groupby(['month2', 'usertype'])[['counts_mil']].mean().rename(columns={'counts_mil':'average'}).reset_index()"
   ]
  },
  {
   "cell_type": "code",
   "execution_count": 35,
   "metadata": {},
   "outputs": [
    {
     "data": {
      "text/html": [
       "<div>\n",
       "<style scoped>\n",
       "    .dataframe tbody tr th:only-of-type {\n",
       "        vertical-align: middle;\n",
       "    }\n",
       "\n",
       "    .dataframe tbody tr th {\n",
       "        vertical-align: top;\n",
       "    }\n",
       "\n",
       "    .dataframe thead th {\n",
       "        text-align: right;\n",
       "    }\n",
       "</style>\n",
       "<table border=\"1\" class=\"dataframe\">\n",
       "  <thead>\n",
       "    <tr style=\"text-align: right;\">\n",
       "      <th></th>\n",
       "      <th>month2</th>\n",
       "      <th>usertype</th>\n",
       "      <th>average</th>\n",
       "    </tr>\n",
       "  </thead>\n",
       "  <tbody>\n",
       "    <tr>\n",
       "      <th>0</th>\n",
       "      <td>Apr</td>\n",
       "      <td>Customer</td>\n",
       "      <td>0.141942</td>\n",
       "    </tr>\n",
       "    <tr>\n",
       "      <th>1</th>\n",
       "      <td>Apr</td>\n",
       "      <td>Subscriber</td>\n",
       "      <td>0.916361</td>\n",
       "    </tr>\n",
       "    <tr>\n",
       "      <th>2</th>\n",
       "      <td>Aug</td>\n",
       "      <td>Customer</td>\n",
       "      <td>0.299217</td>\n",
       "    </tr>\n",
       "    <tr>\n",
       "      <th>3</th>\n",
       "      <td>Aug</td>\n",
       "      <td>Subscriber</td>\n",
       "      <td>1.346794</td>\n",
       "    </tr>\n",
       "    <tr>\n",
       "      <th>4</th>\n",
       "      <td>Dec</td>\n",
       "      <td>Customer</td>\n",
       "      <td>0.044198</td>\n",
       "    </tr>\n",
       "    <tr>\n",
       "      <th>5</th>\n",
       "      <td>Dec</td>\n",
       "      <td>Subscriber</td>\n",
       "      <td>0.715167</td>\n",
       "    </tr>\n",
       "    <tr>\n",
       "      <th>6</th>\n",
       "      <td>Feb</td>\n",
       "      <td>Customer</td>\n",
       "      <td>0.036190</td>\n",
       "    </tr>\n",
       "    <tr>\n",
       "      <th>7</th>\n",
       "      <td>Feb</td>\n",
       "      <td>Subscriber</td>\n",
       "      <td>0.635279</td>\n",
       "    </tr>\n",
       "    <tr>\n",
       "      <th>8</th>\n",
       "      <td>Jan</td>\n",
       "      <td>Customer</td>\n",
       "      <td>0.031071</td>\n",
       "    </tr>\n",
       "    <tr>\n",
       "      <th>9</th>\n",
       "      <td>Jan</td>\n",
       "      <td>Subscriber</td>\n",
       "      <td>0.646896</td>\n",
       "    </tr>\n",
       "    <tr>\n",
       "      <th>10</th>\n",
       "      <td>Jul</td>\n",
       "      <td>Customer</td>\n",
       "      <td>0.271956</td>\n",
       "    </tr>\n",
       "    <tr>\n",
       "      <th>11</th>\n",
       "      <td>Jul</td>\n",
       "      <td>Subscriber</td>\n",
       "      <td>1.254805</td>\n",
       "    </tr>\n",
       "    <tr>\n",
       "      <th>12</th>\n",
       "      <td>Jun</td>\n",
       "      <td>Customer</td>\n",
       "      <td>0.257451</td>\n",
       "    </tr>\n",
       "    <tr>\n",
       "      <th>13</th>\n",
       "      <td>Jun</td>\n",
       "      <td>Subscriber</td>\n",
       "      <td>1.191349</td>\n",
       "    </tr>\n",
       "    <tr>\n",
       "      <th>14</th>\n",
       "      <td>Mar</td>\n",
       "      <td>Customer</td>\n",
       "      <td>0.067975</td>\n",
       "    </tr>\n",
       "    <tr>\n",
       "      <th>15</th>\n",
       "      <td>Mar</td>\n",
       "      <td>Subscriber</td>\n",
       "      <td>0.760092</td>\n",
       "    </tr>\n",
       "    <tr>\n",
       "      <th>16</th>\n",
       "      <td>May</td>\n",
       "      <td>Customer</td>\n",
       "      <td>0.233980</td>\n",
       "    </tr>\n",
       "    <tr>\n",
       "      <th>17</th>\n",
       "      <td>May</td>\n",
       "      <td>Subscriber</td>\n",
       "      <td>1.166136</td>\n",
       "    </tr>\n",
       "    <tr>\n",
       "      <th>18</th>\n",
       "      <td>Nov</td>\n",
       "      <td>Customer</td>\n",
       "      <td>0.121263</td>\n",
       "    </tr>\n",
       "    <tr>\n",
       "      <th>19</th>\n",
       "      <td>Nov</td>\n",
       "      <td>Subscriber</td>\n",
       "      <td>1.026606</td>\n",
       "    </tr>\n",
       "    <tr>\n",
       "      <th>20</th>\n",
       "      <td>Oct</td>\n",
       "      <td>Customer</td>\n",
       "      <td>0.213274</td>\n",
       "    </tr>\n",
       "    <tr>\n",
       "      <th>21</th>\n",
       "      <td>Oct</td>\n",
       "      <td>Subscriber</td>\n",
       "      <td>1.380737</td>\n",
       "    </tr>\n",
       "    <tr>\n",
       "      <th>22</th>\n",
       "      <td>Sep</td>\n",
       "      <td>Customer</td>\n",
       "      <td>0.284582</td>\n",
       "    </tr>\n",
       "    <tr>\n",
       "      <th>23</th>\n",
       "      <td>Sep</td>\n",
       "      <td>Subscriber</td>\n",
       "      <td>1.417317</td>\n",
       "    </tr>\n",
       "  </tbody>\n",
       "</table>\n",
       "</div>"
      ],
      "text/plain": [
       "   month2    usertype   average\n",
       "0     Apr    Customer  0.141942\n",
       "1     Apr  Subscriber  0.916361\n",
       "2     Aug    Customer  0.299217\n",
       "3     Aug  Subscriber  1.346794\n",
       "4     Dec    Customer  0.044198\n",
       "5     Dec  Subscriber  0.715167\n",
       "6     Feb    Customer  0.036190\n",
       "7     Feb  Subscriber  0.635279\n",
       "8     Jan    Customer  0.031071\n",
       "9     Jan  Subscriber  0.646896\n",
       "10    Jul    Customer  0.271956\n",
       "11    Jul  Subscriber  1.254805\n",
       "12    Jun    Customer  0.257451\n",
       "13    Jun  Subscriber  1.191349\n",
       "14    Mar    Customer  0.067975\n",
       "15    Mar  Subscriber  0.760092\n",
       "16    May    Customer  0.233980\n",
       "17    May  Subscriber  1.166136\n",
       "18    Nov    Customer  0.121263\n",
       "19    Nov  Subscriber  1.026606\n",
       "20    Oct    Customer  0.213274\n",
       "21    Oct  Subscriber  1.380737\n",
       "22    Sep    Customer  0.284582\n",
       "23    Sep  Subscriber  1.417317"
      ]
     },
     "execution_count": 35,
     "metadata": {},
     "output_type": "execute_result"
    }
   ],
   "source": [
    "monthly2"
   ]
  },
  {
   "cell_type": "code",
   "execution_count": 117,
   "metadata": {},
   "outputs": [
    {
     "data": {
      "text/plain": [
       "Text(0, 0.5, 'Average Number of Bike Rides (Million)')"
      ]
     },
     "execution_count": 117,
     "metadata": {},
     "output_type": "execute_result"
    },
    {
     "data": {
      "image/png": "[encoded data removed]",
      "text/plain": [
       "<Figure size 576x432 with 1 Axes>"
      ]
     },
     "metadata": {},
     "output_type": "display_data"
    }
   ],
   "source": [
    "sns.set(rc={'axes.facecolor':'#f3f3f3', 'figure.facecolor':'#f3f3f3'})\n",
    "colors = [\"#ea2029\",\"#263571\",\"#263571\",\"#263571\",\"#263571\",\"#263571\",\"#263571\",\"#263571\",\"#ea2029\",\"#263571\",\"#263571\",\"#263571\"]\n",
    "sns.set_palette(sns.color_palette(colors))\n",
    "plt.figure(figsize = (8,6))\n",
    "fig = sns.barplot(x = 'month2', y = 'average', hue = 'usertype', data = monthly2, order = ['Jan', 'Feb', 'Mar', 'Apr', 'May', 'Jun',\\\n",
    "                                                                      'Jul', 'Aug', 'Sep', 'Oct', 'Nov', 'Dec'],\n",
    "                 alpha = 0.9, palette = None)\n",
    "fig.set_title('Average Number of Bike Rides by Month', fontsize=12)\n",
    "fig.set_xlabel('Month', fontsize=12)\n",
    "fig.set_ylabel('Average Number of Bike Rides (Million)', fontsize=12)\n",
    "plt.legend(['Customer','Subscirber'],\n",
    "           title = 'User Type')"
   ]
  },
  {
   "cell_type": "markdown",
   "metadata": {},
   "source": [
    "#### Distribution of Duration"
   ]
  },
  {
   "cell_type": "code",
   "execution_count": 119,
   "metadata": {},
   "outputs": [],
   "source": [
    "duration_mins = rides.loc[(rides.tripduration / 60 < 60)][['tripduration']]\n",
    "duration_mins = duration_mins / 60"
   ]
  },
  {
   "cell_type": "code",
   "execution_count": 120,
   "metadata": {},
   "outputs": [
    {
     "data": {
      "text/html": [
       "<div>\n",
       "<style scoped>\n",
       "    .dataframe tbody tr th:only-of-type {\n",
       "        vertical-align: middle;\n",
       "    }\n",
       "\n",
       "    .dataframe tbody tr th {\n",
       "        vertical-align: top;\n",
       "    }\n",
       "\n",
       "    .dataframe thead th {\n",
       "        text-align: right;\n",
       "    }\n",
       "</style>\n",
       "<table border=\"1\" class=\"dataframe\">\n",
       "  <thead>\n",
       "    <tr style=\"text-align: right;\">\n",
       "      <th></th>\n",
       "      <th>tripduration</th>\n",
       "    </tr>\n",
       "  </thead>\n",
       "  <tbody>\n",
       "    <tr>\n",
       "      <th>0</th>\n",
       "      <td>6.033333</td>\n",
       "    </tr>\n",
       "    <tr>\n",
       "      <th>1</th>\n",
       "      <td>3.133333</td>\n",
       "    </tr>\n",
       "    <tr>\n",
       "      <th>2</th>\n",
       "      <td>5.083333</td>\n",
       "    </tr>\n",
       "    <tr>\n",
       "      <th>3</th>\n",
       "      <td>3.716667</td>\n",
       "    </tr>\n",
       "    <tr>\n",
       "      <th>4</th>\n",
       "      <td>12.633333</td>\n",
       "    </tr>\n",
       "    <tr>\n",
       "      <th>...</th>\n",
       "      <td>...</td>\n",
       "    </tr>\n",
       "    <tr>\n",
       "      <th>110341608</th>\n",
       "      <td>26.450000</td>\n",
       "    </tr>\n",
       "    <tr>\n",
       "      <th>110341609</th>\n",
       "      <td>3.700000</td>\n",
       "    </tr>\n",
       "    <tr>\n",
       "      <th>110341610</th>\n",
       "      <td>2.716667</td>\n",
       "    </tr>\n",
       "    <tr>\n",
       "      <th>110341611</th>\n",
       "      <td>5.450000</td>\n",
       "    </tr>\n",
       "    <tr>\n",
       "      <th>110341612</th>\n",
       "      <td>8.066667</td>\n",
       "    </tr>\n",
       "  </tbody>\n",
       "</table>\n",
       "<p>108984248 rows × 1 columns</p>\n",
       "</div>"
      ],
      "text/plain": [
       "           tripduration\n",
       "0              6.033333\n",
       "1              3.133333\n",
       "2              5.083333\n",
       "3              3.716667\n",
       "4             12.633333\n",
       "...                 ...\n",
       "110341608     26.450000\n",
       "110341609      3.700000\n",
       "110341610      2.716667\n",
       "110341611      5.450000\n",
       "110341612      8.066667\n",
       "\n",
       "[108984248 rows x 1 columns]"
      ]
     },
     "execution_count": 120,
     "metadata": {},
     "output_type": "execute_result"
    }
   ],
   "source": [
    "duration_mins"
   ]
  },
  {
   "cell_type": "code",
   "execution_count": 121,
   "metadata": {},
   "outputs": [
    {
     "data": {
      "text/plain": [
       "Text(0, 0.5, 'Trip counts')"
      ]
     },
     "execution_count": 121,
     "metadata": {},
     "output_type": "execute_result"
    },
    {
     "data": {
      "image/png": "[encoded data removed]",
      "text/plain": [
       "<Figure size 576x432 with 1 Axes>"
      ]
     },
     "metadata": {},
     "output_type": "display_data"
    }
   ],
   "source": [
    "colors = [\"#263571\"]\n",
    "sns.set_palette(sns.color_palette(colors))\n",
    "duration_mins.hist(figsize = (8,6), bins = 30)\n",
    "plt.tick_params(axis = 'both', which = 'major')\n",
    "plt.title('Distribution of Trip Duration less than 1 Hour ')\n",
    "plt.xlabel('Duration (minutes)')\n",
    "plt.ylabel('Trip counts')"
   ]
  },
  {
   "cell_type": "markdown",
   "metadata": {},
   "source": [
    "#### Weekdays vs Weekends"
   ]
  },
  {
   "cell_type": "code",
   "execution_count": null,
   "metadata": {},
   "outputs": [],
   "source": [
    "# Calculate trip counts per hour on weekdays and weekends\n",
    "rides_sub = rides.loc[:, ['tripduration', 'starttime']]\n",
    "rides_sub.index = rides_sub['starttime']\n",
    "weekdays = rides_sub[rides_sub.index.weekday < 5]\n",
    "weekends = rides_sub[rides_sub.index.weekday > 4]\n",
    "weekday_ridesPerHr = weekdays.groupby(weekdays.index.hour).size()\n",
    "weekend_ridesPerHr = weekends.groupby(weekends.index.hour).size()"
   ]
  },
  {
   "cell_type": "code",
   "execution_count": 76,
   "metadata": {},
   "outputs": [],
   "source": [
    "rides['weekdays'] = rides.starttime.dt.weekday.apply(lambda x: 'Weekdays' if x <= 5 else 'Weekend')"
   ]
  },
  {
   "cell_type": "code",
   "execution_count": 78,
   "metadata": {},
   "outputs": [],
   "source": [
    "weekdays_df = rides[['tripduration', 'weekdays', 'starttime']]"
   ]
  },
  {
   "cell_type": "code",
   "execution_count": 83,
   "metadata": {},
   "outputs": [
    {
     "name": "stderr",
     "output_type": "stream",
     "text": [
      "/Users/danielchoy/opt/anaconda3/lib/python3.7/site-packages/ipykernel_launcher.py:1: SettingWithCopyWarning: \n",
      "A value is trying to be set on a copy of a slice from a DataFrame.\n",
      "Try using .loc[row_indexer,col_indexer] = value instead\n",
      "\n",
      "See the caveats in the documentation: https://pandas.pydata.org/pandas-docs/stable/user_guide/indexing.html#returning-a-view-versus-a-copy\n",
      "  \"\"\"Entry point for launching an IPython kernel.\n"
     ]
    }
   ],
   "source": [
    "weekdays_df['start_hour'] = weekdays_df.starttime.dt.hour"
   ]
  },
  {
   "cell_type": "code",
   "execution_count": 84,
   "metadata": {},
   "outputs": [
    {
     "data": {
      "text/html": [
       "<div>\n",
       "<style scoped>\n",
       "    .dataframe tbody tr th:only-of-type {\n",
       "        vertical-align: middle;\n",
       "    }\n",
       "\n",
       "    .dataframe tbody tr th {\n",
       "        vertical-align: top;\n",
       "    }\n",
       "\n",
       "    .dataframe thead th {\n",
       "        text-align: right;\n",
       "    }\n",
       "</style>\n",
       "<table border=\"1\" class=\"dataframe\">\n",
       "  <thead>\n",
       "    <tr style=\"text-align: right;\">\n",
       "      <th></th>\n",
       "      <th>tripduration</th>\n",
       "      <th>weekdays</th>\n",
       "      <th>starttime</th>\n",
       "      <th>start_hour</th>\n",
       "    </tr>\n",
       "  </thead>\n",
       "  <tbody>\n",
       "    <tr>\n",
       "      <th>0</th>\n",
       "      <td>362</td>\n",
       "      <td>Weekdays</td>\n",
       "      <td>2017-09-01 00:00:17.000</td>\n",
       "      <td>0</td>\n",
       "    </tr>\n",
       "    <tr>\n",
       "      <th>1</th>\n",
       "      <td>188</td>\n",
       "      <td>Weekdays</td>\n",
       "      <td>2017-09-01 00:00:21.000</td>\n",
       "      <td>0</td>\n",
       "    </tr>\n",
       "    <tr>\n",
       "      <th>2</th>\n",
       "      <td>305</td>\n",
       "      <td>Weekdays</td>\n",
       "      <td>2017-09-01 00:00:25.000</td>\n",
       "      <td>0</td>\n",
       "    </tr>\n",
       "    <tr>\n",
       "      <th>3</th>\n",
       "      <td>223</td>\n",
       "      <td>Weekdays</td>\n",
       "      <td>2017-09-01 00:00:52.000</td>\n",
       "      <td>0</td>\n",
       "    </tr>\n",
       "    <tr>\n",
       "      <th>4</th>\n",
       "      <td>758</td>\n",
       "      <td>Weekdays</td>\n",
       "      <td>2017-09-01 00:01:01.000</td>\n",
       "      <td>0</td>\n",
       "    </tr>\n",
       "    <tr>\n",
       "      <th>...</th>\n",
       "      <td>...</td>\n",
       "      <td>...</td>\n",
       "      <td>...</td>\n",
       "      <td>...</td>\n",
       "    </tr>\n",
       "    <tr>\n",
       "      <th>110341608</th>\n",
       "      <td>1587</td>\n",
       "      <td>Weekdays</td>\n",
       "      <td>2020-01-31 23:59:26.882</td>\n",
       "      <td>23</td>\n",
       "    </tr>\n",
       "    <tr>\n",
       "      <th>110341609</th>\n",
       "      <td>222</td>\n",
       "      <td>Weekdays</td>\n",
       "      <td>2020-01-31 23:59:32.641</td>\n",
       "      <td>23</td>\n",
       "    </tr>\n",
       "    <tr>\n",
       "      <th>110341610</th>\n",
       "      <td>163</td>\n",
       "      <td>Weekdays</td>\n",
       "      <td>2020-01-31 23:59:39.178</td>\n",
       "      <td>23</td>\n",
       "    </tr>\n",
       "    <tr>\n",
       "      <th>110341611</th>\n",
       "      <td>327</td>\n",
       "      <td>Weekdays</td>\n",
       "      <td>2020-01-31 23:59:49.231</td>\n",
       "      <td>23</td>\n",
       "    </tr>\n",
       "    <tr>\n",
       "      <th>110341612</th>\n",
       "      <td>484</td>\n",
       "      <td>Weekdays</td>\n",
       "      <td>2020-01-31 23:59:57.036</td>\n",
       "      <td>23</td>\n",
       "    </tr>\n",
       "  </tbody>\n",
       "</table>\n",
       "<p>110341613 rows × 4 columns</p>\n",
       "</div>"
      ],
      "text/plain": [
       "           tripduration  weekdays               starttime  start_hour\n",
       "0                   362  Weekdays 2017-09-01 00:00:17.000           0\n",
       "1                   188  Weekdays 2017-09-01 00:00:21.000           0\n",
       "2                   305  Weekdays 2017-09-01 00:00:25.000           0\n",
       "3                   223  Weekdays 2017-09-01 00:00:52.000           0\n",
       "4                   758  Weekdays 2017-09-01 00:01:01.000           0\n",
       "...                 ...       ...                     ...         ...\n",
       "110341608          1587  Weekdays 2020-01-31 23:59:26.882          23\n",
       "110341609           222  Weekdays 2020-01-31 23:59:32.641          23\n",
       "110341610           163  Weekdays 2020-01-31 23:59:39.178          23\n",
       "110341611           327  Weekdays 2020-01-31 23:59:49.231          23\n",
       "110341612           484  Weekdays 2020-01-31 23:59:57.036          23\n",
       "\n",
       "[110341613 rows x 4 columns]"
      ]
     },
     "execution_count": 84,
     "metadata": {},
     "output_type": "execute_result"
    }
   ],
   "source": [
    "weekdays_df"
   ]
  },
  {
   "cell_type": "code",
   "execution_count": 88,
   "metadata": {},
   "outputs": [],
   "source": [
    "weekdays_DF = weekdays_df.groupby(['start_hour', 'weekdays'])[['start_hour']].count().rename(columns={'start_hour':'counts'}).reset_index()"
   ]
  },
  {
   "cell_type": "code",
   "execution_count": 101,
   "metadata": {},
   "outputs": [],
   "source": [
    "weekdays_DF['start_hour'] = weekdays_DF['start_hour'].astype(str)"
   ]
  },
  {
   "cell_type": "code",
   "execution_count": 111,
   "metadata": {},
   "outputs": [],
   "source": [
    "weekdays_DF['counts_mil'] = weekdays_DF['counts'] / 1000000"
   ]
  },
  {
   "cell_type": "code",
   "execution_count": 81,
   "metadata": {},
   "outputs": [],
   "source": [
    "weekdays_rides = weekdays_df[weekdays_df['weekdays'] == 'Weekdays']\n",
    "weekend_rides = weekdays_df[weekdays_df['weekdays'] == \"Weekend\"]"
   ]
  },
  {
   "cell_type": "code",
   "execution_count": 113,
   "metadata": {},
   "outputs": [
    {
     "data": {
      "text/plain": [
       "Text(0, 0.5, 'Number of Bike Rides (Million)')"
      ]
     },
     "execution_count": 113,
     "metadata": {},
     "output_type": "execute_result"
    },
    {
     "data": {
      "image/png": "[encoded data removed]",
      "text/plain": [
       "<Figure size 576x360 with 1 Axes>"
      ]
     },
     "metadata": {},
     "output_type": "display_data"
    }
   ],
   "source": [
    "colors = [\"#263571\", '#ea2029']\n",
    "sns.set_palette(sns.color_palette(colors))\n",
    "plt.figure(figsize = (11,6))\n",
    "fig = sns.barplot(x = 'start_hour', y = 'counts_mil', hue = 'weekdays',\n",
    "                  order = ['1','2','3','4','5','6','7','8','9','10','11','12','13','14',\\\n",
    "                  '15','16','17','18','19','20','21','22','23'],data = weekdays_DF)\n",
    "fig.set_title('Number of Bike Rides by Hour', fontsize=12)\n",
    "fig.set_xlabel('Time of day', fontsize=12)\n",
    "fig.set_ylabel('Number of Bike Rides (Million)', fontsize=12)\n",
    "plt.legend(['Weekdays','Weekend'],\n",
    "           title = 'Weekdays/Weekend', fontsize = 12)"
   ]
  },
  {
   "cell_type": "markdown",
   "metadata": {},
   "source": [
    "#### Basic summary data"
   ]
  },
  {
   "cell_type": "code",
   "execution_count": 39,
   "metadata": {},
   "outputs": [
    {
     "data": {
      "text/html": [
       "<div>\n",
       "<style scoped>\n",
       "    .dataframe tbody tr th:only-of-type {\n",
       "        vertical-align: middle;\n",
       "    }\n",
       "\n",
       "    .dataframe tbody tr th {\n",
       "        vertical-align: top;\n",
       "    }\n",
       "\n",
       "    .dataframe thead th {\n",
       "        text-align: right;\n",
       "    }\n",
       "</style>\n",
       "<table border=\"1\" class=\"dataframe\">\n",
       "  <thead>\n",
       "    <tr style=\"text-align: right;\">\n",
       "      <th></th>\n",
       "      <th>tripduration</th>\n",
       "      <th>starttime</th>\n",
       "      <th>usertype</th>\n",
       "      <th>birth year</th>\n",
       "      <th>gender</th>\n",
       "      <th>season</th>\n",
       "      <th>dayofweek</th>\n",
       "      <th>date</th>\n",
       "      <th>month</th>\n",
       "      <th>year</th>\n",
       "      <th>month2</th>\n",
       "    </tr>\n",
       "  </thead>\n",
       "  <tbody>\n",
       "    <tr>\n",
       "      <th>0</th>\n",
       "      <td>362</td>\n",
       "      <td>2017-09-01 00:00:17</td>\n",
       "      <td>Subscriber</td>\n",
       "      <td>1993</td>\n",
       "      <td>1</td>\n",
       "      <td>fall</td>\n",
       "      <td>Friday</td>\n",
       "      <td>2017-09-01</td>\n",
       "      <td>2017-09</td>\n",
       "      <td>2017</td>\n",
       "      <td>Sep</td>\n",
       "    </tr>\n",
       "    <tr>\n",
       "      <th>1</th>\n",
       "      <td>188</td>\n",
       "      <td>2017-09-01 00:00:21</td>\n",
       "      <td>Subscriber</td>\n",
       "      <td>1988</td>\n",
       "      <td>1</td>\n",
       "      <td>fall</td>\n",
       "      <td>Friday</td>\n",
       "      <td>2017-09-01</td>\n",
       "      <td>2017-09</td>\n",
       "      <td>2017</td>\n",
       "      <td>Sep</td>\n",
       "    </tr>\n",
       "    <tr>\n",
       "      <th>2</th>\n",
       "      <td>305</td>\n",
       "      <td>2017-09-01 00:00:25</td>\n",
       "      <td>Subscriber</td>\n",
       "      <td>1969</td>\n",
       "      <td>1</td>\n",
       "      <td>fall</td>\n",
       "      <td>Friday</td>\n",
       "      <td>2017-09-01</td>\n",
       "      <td>2017-09</td>\n",
       "      <td>2017</td>\n",
       "      <td>Sep</td>\n",
       "    </tr>\n",
       "    <tr>\n",
       "      <th>3</th>\n",
       "      <td>223</td>\n",
       "      <td>2017-09-01 00:00:52</td>\n",
       "      <td>Subscriber</td>\n",
       "      <td>1993</td>\n",
       "      <td>1</td>\n",
       "      <td>fall</td>\n",
       "      <td>Friday</td>\n",
       "      <td>2017-09-01</td>\n",
       "      <td>2017-09</td>\n",
       "      <td>2017</td>\n",
       "      <td>Sep</td>\n",
       "    </tr>\n",
       "    <tr>\n",
       "      <th>4</th>\n",
       "      <td>758</td>\n",
       "      <td>2017-09-01 00:01:01</td>\n",
       "      <td>Subscriber</td>\n",
       "      <td>1987</td>\n",
       "      <td>1</td>\n",
       "      <td>fall</td>\n",
       "      <td>Friday</td>\n",
       "      <td>2017-09-01</td>\n",
       "      <td>2017-09</td>\n",
       "      <td>2017</td>\n",
       "      <td>Sep</td>\n",
       "    </tr>\n",
       "    <tr>\n",
       "      <th>5</th>\n",
       "      <td>2089</td>\n",
       "      <td>2017-09-01 00:01:20</td>\n",
       "      <td>Subscriber</td>\n",
       "      <td>1975</td>\n",
       "      <td>2</td>\n",
       "      <td>fall</td>\n",
       "      <td>Friday</td>\n",
       "      <td>2017-09-01</td>\n",
       "      <td>2017-09</td>\n",
       "      <td>2017</td>\n",
       "      <td>Sep</td>\n",
       "    </tr>\n",
       "    <tr>\n",
       "      <th>6</th>\n",
       "      <td>121</td>\n",
       "      <td>2017-09-01 00:01:22</td>\n",
       "      <td>Subscriber</td>\n",
       "      <td>1990</td>\n",
       "      <td>1</td>\n",
       "      <td>fall</td>\n",
       "      <td>Friday</td>\n",
       "      <td>2017-09-01</td>\n",
       "      <td>2017-09</td>\n",
       "      <td>2017</td>\n",
       "      <td>Sep</td>\n",
       "    </tr>\n",
       "    <tr>\n",
       "      <th>7</th>\n",
       "      <td>408</td>\n",
       "      <td>2017-09-01 00:01:39</td>\n",
       "      <td>Subscriber</td>\n",
       "      <td>1961</td>\n",
       "      <td>1</td>\n",
       "      <td>fall</td>\n",
       "      <td>Friday</td>\n",
       "      <td>2017-09-01</td>\n",
       "      <td>2017-09</td>\n",
       "      <td>2017</td>\n",
       "      <td>Sep</td>\n",
       "    </tr>\n",
       "    <tr>\n",
       "      <th>8</th>\n",
       "      <td>485</td>\n",
       "      <td>2017-09-01 00:01:41</td>\n",
       "      <td>Subscriber</td>\n",
       "      <td>1984</td>\n",
       "      <td>1</td>\n",
       "      <td>fall</td>\n",
       "      <td>Friday</td>\n",
       "      <td>2017-09-01</td>\n",
       "      <td>2017-09</td>\n",
       "      <td>2017</td>\n",
       "      <td>Sep</td>\n",
       "    </tr>\n",
       "    <tr>\n",
       "      <th>9</th>\n",
       "      <td>220</td>\n",
       "      <td>2017-09-01 00:01:40</td>\n",
       "      <td>Subscriber</td>\n",
       "      <td>1992</td>\n",
       "      <td>1</td>\n",
       "      <td>fall</td>\n",
       "      <td>Friday</td>\n",
       "      <td>2017-09-01</td>\n",
       "      <td>2017-09</td>\n",
       "      <td>2017</td>\n",
       "      <td>Sep</td>\n",
       "    </tr>\n",
       "  </tbody>\n",
       "</table>\n",
       "</div>"
      ],
      "text/plain": [
       "   tripduration           starttime    usertype birth year  gender season  \\\n",
       "0           362 2017-09-01 00:00:17  Subscriber       1993       1   fall   \n",
       "1           188 2017-09-01 00:00:21  Subscriber       1988       1   fall   \n",
       "2           305 2017-09-01 00:00:25  Subscriber       1969       1   fall   \n",
       "3           223 2017-09-01 00:00:52  Subscriber       1993       1   fall   \n",
       "4           758 2017-09-01 00:01:01  Subscriber       1987       1   fall   \n",
       "5          2089 2017-09-01 00:01:20  Subscriber       1975       2   fall   \n",
       "6           121 2017-09-01 00:01:22  Subscriber       1990       1   fall   \n",
       "7           408 2017-09-01 00:01:39  Subscriber       1961       1   fall   \n",
       "8           485 2017-09-01 00:01:41  Subscriber       1984       1   fall   \n",
       "9           220 2017-09-01 00:01:40  Subscriber       1992       1   fall   \n",
       "\n",
       "  dayofweek       date    month  year month2  \n",
       "0    Friday 2017-09-01  2017-09  2017    Sep  \n",
       "1    Friday 2017-09-01  2017-09  2017    Sep  \n",
       "2    Friday 2017-09-01  2017-09  2017    Sep  \n",
       "3    Friday 2017-09-01  2017-09  2017    Sep  \n",
       "4    Friday 2017-09-01  2017-09  2017    Sep  \n",
       "5    Friday 2017-09-01  2017-09  2017    Sep  \n",
       "6    Friday 2017-09-01  2017-09  2017    Sep  \n",
       "7    Friday 2017-09-01  2017-09  2017    Sep  \n",
       "8    Friday 2017-09-01  2017-09  2017    Sep  \n",
       "9    Friday 2017-09-01  2017-09  2017    Sep  "
      ]
     },
     "execution_count": 39,
     "metadata": {},
     "output_type": "execute_result"
    }
   ],
   "source": [
    "rides.head(10)"
   ]
  },
  {
   "cell_type": "code",
   "execution_count": 40,
   "metadata": {},
   "outputs": [],
   "source": [
    "rides['day'] = rides['date'].dt.strftime('%d')"
   ]
  },
  {
   "cell_type": "code",
   "execution_count": 41,
   "metadata": {},
   "outputs": [],
   "source": [
    "daily = rides.groupby(['day'])[['tripduration']].mean().rename(columns={'tripduration':'average'}).reset_index()"
   ]
  },
  {
   "cell_type": "code",
   "execution_count": 43,
   "metadata": {},
   "outputs": [
    {
     "data": {
      "text/html": [
       "<div>\n",
       "<style scoped>\n",
       "    .dataframe tbody tr th:only-of-type {\n",
       "        vertical-align: middle;\n",
       "    }\n",
       "\n",
       "    .dataframe tbody tr th {\n",
       "        vertical-align: top;\n",
       "    }\n",
       "\n",
       "    .dataframe thead th {\n",
       "        text-align: right;\n",
       "    }\n",
       "</style>\n",
       "<table border=\"1\" class=\"dataframe\">\n",
       "  <thead>\n",
       "    <tr style=\"text-align: right;\">\n",
       "      <th></th>\n",
       "      <th>tripduration</th>\n",
       "      <th>gender</th>\n",
       "    </tr>\n",
       "  </thead>\n",
       "  <tbody>\n",
       "    <tr>\n",
       "      <th>count</th>\n",
       "      <td>1.103416e+08</td>\n",
       "      <td>1.103416e+08</td>\n",
       "    </tr>\n",
       "    <tr>\n",
       "      <th>mean</th>\n",
       "      <td>1.025989e+03</td>\n",
       "      <td>1.129741e+00</td>\n",
       "    </tr>\n",
       "    <tr>\n",
       "      <th>std</th>\n",
       "      <td>1.307206e+04</td>\n",
       "      <td>5.659197e-01</td>\n",
       "    </tr>\n",
       "    <tr>\n",
       "      <th>min</th>\n",
       "      <td>6.000000e+01</td>\n",
       "      <td>0.000000e+00</td>\n",
       "    </tr>\n",
       "    <tr>\n",
       "      <th>25%</th>\n",
       "      <td>3.810000e+02</td>\n",
       "      <td>1.000000e+00</td>\n",
       "    </tr>\n",
       "    <tr>\n",
       "      <th>50%</th>\n",
       "      <td>6.440000e+02</td>\n",
       "      <td>1.000000e+00</td>\n",
       "    </tr>\n",
       "    <tr>\n",
       "      <th>75%</th>\n",
       "      <td>1.121000e+03</td>\n",
       "      <td>1.000000e+00</td>\n",
       "    </tr>\n",
       "    <tr>\n",
       "      <th>max</th>\n",
       "      <td>1.951005e+07</td>\n",
       "      <td>2.000000e+00</td>\n",
       "    </tr>\n",
       "  </tbody>\n",
       "</table>\n",
       "</div>"
      ],
      "text/plain": [
       "       tripduration        gender\n",
       "count  1.103416e+08  1.103416e+08\n",
       "mean   1.025989e+03  1.129741e+00\n",
       "std    1.307206e+04  5.659197e-01\n",
       "min    6.000000e+01  0.000000e+00\n",
       "25%    3.810000e+02  1.000000e+00\n",
       "50%    6.440000e+02  1.000000e+00\n",
       "75%    1.121000e+03  1.000000e+00\n",
       "max    1.951005e+07  2.000000e+00"
      ]
     },
     "execution_count": 43,
     "metadata": {},
     "output_type": "execute_result"
    }
   ],
   "source": [
    "rides.describe()"
   ]
  },
  {
   "cell_type": "code",
   "execution_count": 45,
   "metadata": {},
   "outputs": [
    {
     "data": {
      "text/plain": [
       "17.099816666666666"
      ]
     },
     "execution_count": 45,
     "metadata": {},
     "output_type": "execute_result"
    }
   ],
   "source": [
    "1.025989e+03 / 60"
   ]
  },
  {
   "cell_type": "code",
   "execution_count": 55,
   "metadata": {},
   "outputs": [
    {
     "data": {
      "text/plain": [
       "325167.5"
      ]
     },
     "execution_count": 55,
     "metadata": {},
     "output_type": "execute_result"
    }
   ],
   "source": [
    "1.951005e+07 /60"
   ]
  },
  {
   "cell_type": "code",
   "execution_count": 46,
   "metadata": {},
   "outputs": [],
   "source": [
    "dailyrides = rides.groupby(['date'])[['date']].count().rename(columns={'date':'count'}).reset_index()"
   ]
  },
  {
   "cell_type": "code",
   "execution_count": 49,
   "metadata": {},
   "outputs": [
    {
     "data": {
      "text/html": [
       "<div>\n",
       "<style scoped>\n",
       "    .dataframe tbody tr th:only-of-type {\n",
       "        vertical-align: middle;\n",
       "    }\n",
       "\n",
       "    .dataframe tbody tr th {\n",
       "        vertical-align: top;\n",
       "    }\n",
       "\n",
       "    .dataframe thead th {\n",
       "        text-align: right;\n",
       "    }\n",
       "</style>\n",
       "<table border=\"1\" class=\"dataframe\">\n",
       "  <thead>\n",
       "    <tr style=\"text-align: right;\">\n",
       "      <th></th>\n",
       "      <th>count</th>\n",
       "    </tr>\n",
       "  </thead>\n",
       "  <tbody>\n",
       "    <tr>\n",
       "      <th>count</th>\n",
       "      <td>2732.000000</td>\n",
       "    </tr>\n",
       "    <tr>\n",
       "      <th>mean</th>\n",
       "      <td>40388.584553</td>\n",
       "    </tr>\n",
       "    <tr>\n",
       "      <th>std</th>\n",
       "      <td>21321.406302</td>\n",
       "    </tr>\n",
       "    <tr>\n",
       "      <th>min</th>\n",
       "      <td>876.000000</td>\n",
       "    </tr>\n",
       "    <tr>\n",
       "      <th>25%</th>\n",
       "      <td>24560.500000</td>\n",
       "    </tr>\n",
       "    <tr>\n",
       "      <th>50%</th>\n",
       "      <td>36775.000000</td>\n",
       "    </tr>\n",
       "    <tr>\n",
       "      <th>75%</th>\n",
       "      <td>56220.500000</td>\n",
       "    </tr>\n",
       "    <tr>\n",
       "      <th>max</th>\n",
       "      <td>101462.000000</td>\n",
       "    </tr>\n",
       "  </tbody>\n",
       "</table>\n",
       "</div>"
      ],
      "text/plain": [
       "               count\n",
       "count    2732.000000\n",
       "mean    40388.584553\n",
       "std     21321.406302\n",
       "min       876.000000\n",
       "25%     24560.500000\n",
       "50%     36775.000000\n",
       "75%     56220.500000\n",
       "max    101462.000000"
      ]
     },
     "execution_count": 49,
     "metadata": {},
     "output_type": "execute_result"
    }
   ],
   "source": [
    "dailyrides.describe()"
   ]
  },
  {
   "cell_type": "code",
   "execution_count": 51,
   "metadata": {},
   "outputs": [
    {
     "data": {
      "text/html": [
       "<div>\n",
       "<style scoped>\n",
       "    .dataframe tbody tr th:only-of-type {\n",
       "        vertical-align: middle;\n",
       "    }\n",
       "\n",
       "    .dataframe tbody tr th {\n",
       "        vertical-align: top;\n",
       "    }\n",
       "\n",
       "    .dataframe thead th {\n",
       "        text-align: right;\n",
       "    }\n",
       "</style>\n",
       "<table border=\"1\" class=\"dataframe\">\n",
       "  <thead>\n",
       "    <tr style=\"text-align: right;\">\n",
       "      <th></th>\n",
       "      <th>usertype</th>\n",
       "      <th>count</th>\n",
       "    </tr>\n",
       "  </thead>\n",
       "  <tbody>\n",
       "    <tr>\n",
       "      <th>0</th>\n",
       "      <td>Customer</td>\n",
       "      <td>15469438</td>\n",
       "    </tr>\n",
       "    <tr>\n",
       "      <th>1</th>\n",
       "      <td>Subscriber</td>\n",
       "      <td>94820395</td>\n",
       "    </tr>\n",
       "  </tbody>\n",
       "</table>\n",
       "</div>"
      ],
      "text/plain": [
       "     usertype     count\n",
       "0    Customer  15469438\n",
       "1  Subscriber  94820395"
      ]
     },
     "execution_count": 51,
     "metadata": {},
     "output_type": "execute_result"
    }
   ],
   "source": [
    "rides.groupby(['usertype'])[['usertype']].count().rename(columns={'usertype':'count'}).reset_index()"
   ]
  },
  {
   "cell_type": "code",
   "execution_count": 52,
   "metadata": {},
   "outputs": [
    {
     "data": {
      "text/plain": [
       "110289833"
      ]
     },
     "execution_count": 52,
     "metadata": {},
     "output_type": "execute_result"
    }
   ],
   "source": [
    "15469438 + 94820395"
   ]
  },
  {
   "cell_type": "code",
   "execution_count": 53,
   "metadata": {},
   "outputs": [
    {
     "data": {
      "text/plain": [
       "85.97383133221355"
      ]
     },
     "execution_count": 53,
     "metadata": {},
     "output_type": "execute_result"
    }
   ],
   "source": [
    "94820395 / 110289833 * 100"
   ]
  },
  {
   "cell_type": "code",
   "execution_count": 56,
   "metadata": {},
   "outputs": [],
   "source": [
    "age = rides.groupby(['birth year'])[['birth year']].count().rename(columns={'birth year': 'count'}).reset_index()"
   ]
  },
  {
   "cell_type": "code",
   "execution_count": 57,
   "metadata": {},
   "outputs": [
    {
     "data": {
      "text/html": [
       "<div>\n",
       "<style scoped>\n",
       "    .dataframe tbody tr th:only-of-type {\n",
       "        vertical-align: middle;\n",
       "    }\n",
       "\n",
       "    .dataframe tbody tr th {\n",
       "        vertical-align: top;\n",
       "    }\n",
       "\n",
       "    .dataframe thead th {\n",
       "        text-align: right;\n",
       "    }\n",
       "</style>\n",
       "<table border=\"1\" class=\"dataframe\">\n",
       "  <thead>\n",
       "    <tr style=\"text-align: right;\">\n",
       "      <th></th>\n",
       "      <th>birth year</th>\n",
       "      <th>count</th>\n",
       "    </tr>\n",
       "  </thead>\n",
       "  <tbody>\n",
       "    <tr>\n",
       "      <th>0</th>\n",
       "      <td>1857</td>\n",
       "      <td>6</td>\n",
       "    </tr>\n",
       "    <tr>\n",
       "      <th>1</th>\n",
       "      <td>1858</td>\n",
       "      <td>1</td>\n",
       "    </tr>\n",
       "    <tr>\n",
       "      <th>2</th>\n",
       "      <td>1863</td>\n",
       "      <td>2</td>\n",
       "    </tr>\n",
       "    <tr>\n",
       "      <th>3</th>\n",
       "      <td>1873</td>\n",
       "      <td>43</td>\n",
       "    </tr>\n",
       "    <tr>\n",
       "      <th>4</th>\n",
       "      <td>1874</td>\n",
       "      <td>11</td>\n",
       "    </tr>\n",
       "    <tr>\n",
       "      <th>...</th>\n",
       "      <td>...</td>\n",
       "      <td>...</td>\n",
       "    </tr>\n",
       "    <tr>\n",
       "      <th>295</th>\n",
       "      <td>2001</td>\n",
       "      <td>1192</td>\n",
       "    </tr>\n",
       "    <tr>\n",
       "      <th>296</th>\n",
       "      <td>2002</td>\n",
       "      <td>594</td>\n",
       "    </tr>\n",
       "    <tr>\n",
       "      <th>297</th>\n",
       "      <td>2003</td>\n",
       "      <td>172</td>\n",
       "    </tr>\n",
       "    <tr>\n",
       "      <th>298</th>\n",
       "      <td>2004</td>\n",
       "      <td>54</td>\n",
       "    </tr>\n",
       "    <tr>\n",
       "      <th>299</th>\n",
       "      <td>\\N</td>\n",
       "      <td>1247644</td>\n",
       "    </tr>\n",
       "  </tbody>\n",
       "</table>\n",
       "<p>300 rows × 2 columns</p>\n",
       "</div>"
      ],
      "text/plain": [
       "    birth year    count\n",
       "0         1857        6\n",
       "1         1858        1\n",
       "2         1863        2\n",
       "3         1873       43\n",
       "4         1874       11\n",
       "..         ...      ...\n",
       "295       2001     1192\n",
       "296       2002      594\n",
       "297       2003      172\n",
       "298       2004       54\n",
       "299         \\N  1247644\n",
       "\n",
       "[300 rows x 2 columns]"
      ]
     },
     "execution_count": 57,
     "metadata": {},
     "output_type": "execute_result"
    }
   ],
   "source": [
    "age"
   ]
  },
  {
   "cell_type": "code",
   "execution_count": 66,
   "metadata": {},
   "outputs": [
    {
     "data": {
      "text/plain": [
       "2517000"
      ]
     },
     "execution_count": 66,
     "metadata": {},
     "output_type": "execute_result"
    }
   ],
   "source": [
    "83900 * 30"
   ]
  },
  {
   "cell_type": "code",
   "execution_count": null,
   "metadata": {},
   "outputs": [],
   "source": []
  },
  {
   "cell_type": "code",
   "execution_count": 67,
   "metadata": {},
   "outputs": [],
   "source": [
    "rides['day_of_week'] = rides['starttime'].dt.day_name()\n",
    "rides['datehour'] = rides['starttime'].dt.hour"
   ]
  },
  {
   "cell_type": "code",
   "execution_count": 68,
   "metadata": {},
   "outputs": [],
   "source": [
    "weekday_hourly = rides.groupby(['day_of_week','datehour']).size().reset_index(name='total_rides')\n"
   ]
  },
  {
   "cell_type": "code",
   "execution_count": 86,
   "metadata": {},
   "outputs": [
    {
     "name": "stderr",
     "output_type": "stream",
     "text": [
      "/Users/danielchoy/opt/anaconda3/lib/python3.7/site-packages/seaborn/relational.py:1656: UserWarning: relplot is a figure-level function and does not accept target axes. You may wish to try lineplot\n",
      "  warnings.warn(msg, UserWarning)\n"
     ]
    },
    {
     "data": {
      "text/plain": [
       "<seaborn.axisgrid.FacetGrid at 0x7f8070e519d0>"
      ]
     },
     "execution_count": 86,
     "metadata": {},
     "output_type": "execute_result"
    },
    {
     "data": {
      "text/plain": [
       "<Figure size 1008x504 with 0 Axes>"
      ]
     },
     "metadata": {},
     "output_type": "display_data"
    },
    {
     "data": {
      "image/png": "[encoded data removed]",
      "text/plain": [
       "<Figure size 464.6x360 with 1 Axes>"
      ]
     },
     "metadata": {},
     "output_type": "display_data"
    }
   ],
   "source": [
    "sns.set(rc={'axes.facecolor':'#f3f3f3', 'figure.facecolor':'#f3f3f3'})\n",
    "colors = [\"#39a2e1\",\"#263571\",\"#ea2029\",\"#ea2029\",\"#574746\",\"#60645f\",\"#8e8c8e\",\"#ea2029\"]\n",
    "plt.figure(figsize = (14,7))\n",
    "sns.relplot(ax = ax, x=\"datehour\", y=\"total_rides\", data = weekday_hourly, hue=\"day_of_week\", kind=\"line\")"
   ]
  },
  {
   "cell_type": "code",
   "execution_count": 114,
   "metadata": {},
   "outputs": [
    {
     "data": {
      "text/plain": [
       "<matplotlib.legend.Legend at 0x7f773c2f4250>"
      ]
     },
     "execution_count": 114,
     "metadata": {},
     "output_type": "execute_result"
    },
    {
     "data": {
      "image/png": "[encoded data removed]",
      "text/plain": [
       "<Figure size 720x504 with 1 Axes>"
      ]
     },
     "metadata": {},
     "output_type": "display_data"
    }
   ],
   "source": [
    "sns.set(rc={'axes.facecolor':'#f3f3f3', 'figure.facecolor':'#f3f3f3'})\n",
    "colors = [\"#39a2e1\",\"#263571\",\"#343335\",\"#7a6155\",\"#8e8c8e\",\"#60645f\",\"#ea2029\"]\n",
    "plt.subplots(figsize = (12,6))\n",
    "sns.set_palette(sns.color_palette(colors))\n",
    "fig = sns.lineplot(x=\"datehour\", y=\"total_rides\", data = weekday_hourly, hue=\"day_of_week\",\n",
    "            hue_order = ['Monday','Tuesday','Wednesday','Thursday','Friday','Saturday','Sunday'], legend = False)\n",
    "fig.set_title('Number of Rides by Day of Week', fontsize=12)\n",
    "fig.set_xlabel('Time of Day ', fontsize=12)\n",
    "fig.set_ylabel('Number of Bike Rides', fontsize=12)\n",
    "plt.legend(['Monday','Tuesday','Wednesday','Thursday','Friday','Saturday','Sunday'],\n",
    "           title = 'Day of Week')"
   ]
  },
  {
   "cell_type": "code",
   "execution_count": 12,
   "metadata": {},
   "outputs": [],
   "source": [
    "rides_start = pd.read_csv('../data/riders_cleaned.csv.gz', \n",
    "                       usecols = ['start station id', 'start station name', 'start station latitude', \\\n",
    "                                  'start station longitude', 'tripduration']).reset_index()"
   ]
  },
  {
   "cell_type": "code",
   "execution_count": 5,
   "metadata": {},
   "outputs": [],
   "source": [
    "rides_end = pd.read_csv('../data/riders_cleaned.csv.gz', \n",
    "                       usecols = ['end station id', 'end station name', 'end station latitude', \\\n",
    "                                  'end station longitude', 'tripduration'])"
   ]
  },
  {
   "cell_type": "code",
   "execution_count": 19,
   "metadata": {},
   "outputs": [],
   "source": [
    "rides_start_df = rides_start.copy()"
   ]
  },
  {
   "cell_type": "code",
   "execution_count": 20,
   "metadata": {},
   "outputs": [
    {
     "data": {
      "text/html": [
       "<div>\n",
       "<style scoped>\n",
       "    .dataframe tbody tr th:only-of-type {\n",
       "        vertical-align: middle;\n",
       "    }\n",
       "\n",
       "    .dataframe tbody tr th {\n",
       "        vertical-align: top;\n",
       "    }\n",
       "\n",
       "    .dataframe thead th {\n",
       "        text-align: right;\n",
       "    }\n",
       "</style>\n",
       "<table border=\"1\" class=\"dataframe\">\n",
       "  <thead>\n",
       "    <tr style=\"text-align: right;\">\n",
       "      <th></th>\n",
       "      <th>index</th>\n",
       "      <th>tripduration</th>\n",
       "      <th>start station id</th>\n",
       "      <th>start station name</th>\n",
       "      <th>start station latitude</th>\n",
       "      <th>start station longitude</th>\n",
       "      <th>trip_count</th>\n",
       "      <th>mean_duration</th>\n",
       "    </tr>\n",
       "    <tr>\n",
       "      <th>start station id</th>\n",
       "      <th></th>\n",
       "      <th></th>\n",
       "      <th></th>\n",
       "      <th></th>\n",
       "      <th></th>\n",
       "      <th></th>\n",
       "      <th></th>\n",
       "      <th></th>\n",
       "    </tr>\n",
       "  </thead>\n",
       "  <tbody>\n",
       "    <tr>\n",
       "      <th>3331</th>\n",
       "      <td>0</td>\n",
       "      <td>362</td>\n",
       "      <td>3331</td>\n",
       "      <td>Riverside Dr &amp; W 104 St</td>\n",
       "      <td>40.801343</td>\n",
       "      <td>-73.971146</td>\n",
       "      <td>72550</td>\n",
       "      <td>1554.021406</td>\n",
       "    </tr>\n",
       "    <tr>\n",
       "      <th>3101</th>\n",
       "      <td>1</td>\n",
       "      <td>188</td>\n",
       "      <td>3101</td>\n",
       "      <td>N 12 St &amp; Bedford Ave</td>\n",
       "      <td>40.720798</td>\n",
       "      <td>-73.954847</td>\n",
       "      <td>84803</td>\n",
       "      <td>1066.021603</td>\n",
       "    </tr>\n",
       "    <tr>\n",
       "      <th>3140</th>\n",
       "      <td>2</td>\n",
       "      <td>305</td>\n",
       "      <td>3140</td>\n",
       "      <td>1 Ave &amp; E 78 St</td>\n",
       "      <td>40.771404</td>\n",
       "      <td>-73.953517</td>\n",
       "      <td>226841</td>\n",
       "      <td>965.674389</td>\n",
       "    </tr>\n",
       "    <tr>\n",
       "      <th>236</th>\n",
       "      <td>3</td>\n",
       "      <td>223</td>\n",
       "      <td>236</td>\n",
       "      <td>St Marks Pl &amp; 2 Ave</td>\n",
       "      <td>40.728419</td>\n",
       "      <td>-73.987140</td>\n",
       "      <td>364489</td>\n",
       "      <td>844.568920</td>\n",
       "    </tr>\n",
       "    <tr>\n",
       "      <th>3427</th>\n",
       "      <td>4</td>\n",
       "      <td>758</td>\n",
       "      <td>3427</td>\n",
       "      <td>Lafayette St &amp; Jersey St</td>\n",
       "      <td>40.724305</td>\n",
       "      <td>-73.996010</td>\n",
       "      <td>184680</td>\n",
       "      <td>859.607207</td>\n",
       "    </tr>\n",
       "  </tbody>\n",
       "</table>\n",
       "</div>"
      ],
      "text/plain": [
       "                  index  tripduration  start station id  \\\n",
       "start station id                                          \n",
       "3331                  0           362              3331   \n",
       "3101                  1           188              3101   \n",
       "3140                  2           305              3140   \n",
       "236                   3           223               236   \n",
       "3427                  4           758              3427   \n",
       "\n",
       "                        start station name  start station latitude  \\\n",
       "start station id                                                     \n",
       "3331               Riverside Dr & W 104 St               40.801343   \n",
       "3101                 N 12 St & Bedford Ave               40.720798   \n",
       "3140                       1 Ave & E 78 St               40.771404   \n",
       "236                    St Marks Pl & 2 Ave               40.728419   \n",
       "3427              Lafayette St & Jersey St               40.724305   \n",
       "\n",
       "                  start station longitude  trip_count  mean_duration  \n",
       "start station id                                                      \n",
       "3331                           -73.971146       72550    1554.021406  \n",
       "3101                           -73.954847       84803    1066.021603  \n",
       "3140                           -73.953517      226841     965.674389  \n",
       "236                            -73.987140      364489     844.568920  \n",
       "3427                           -73.996010      184680     859.607207  "
      ]
     },
     "execution_count": 20,
     "metadata": {},
     "output_type": "execute_result"
    }
   ],
   "source": [
    "rides_start_df.index = rides_start['start station id']\n",
    "rides_start_df['trip_count'] = rides_start.groupby('start station id')['start station id'].count()\n",
    "rides_start_df['mean_duration'] = rides_start.groupby('start station id')['tripduration'].mean()\n",
    "rides_start_df = rides_start_df.drop_duplicates()\n",
    "rides_start_df.head()"
   ]
  },
  {
   "cell_type": "code",
   "execution_count": null,
   "metadata": {},
   "outputs": [],
   "source": [
    "import folium\n",
    "from matplotlib.colors import Normalize, rgb2hex\n",
    "import matplotlib.cm as cm\n",
    "\n",
    "norm = Normalize(rides_start_df['trip_count'].min(), rides_start_df['trip_count'].max())\n",
    "# Get dark tileset from CartoBD (https://cartodb.com/basemaps)\n",
    "tileset = r'http://{s}.basemaps.cartocdn.com/light_all/{z}/{x}/{y}.png'\n",
    "\n",
    "start_station_map = folium.Map(location = [40.74, -73.97], width = 600, height = 600,\n",
    "                               tiles = tileset,\n",
    "                               attr = '&copy; <a href=\"http://www.openstreetmap.org/copyright\">OpenStreetMap</a> contributors, &copy; <a href=\"http://cartodb.com/attributions\">CartoDB</a>',\n",
    "                               zoom_start = 12)\n",
    "\n",
    "for index, row in rides_start_df.iterrows():\n",
    "    color = rgb2hex(cm.YlOrRd(norm(row['trip_count'])))\n",
    "    folium.CircleMarker(location = [row['start station latitude'],\n",
    "                                                row['start station longitude']],\n",
    "                                    popup = row['start station id'],\n",
    "                                    radius = row['mean_duration'] / 1000,\n",
    "                                    fill_color = '#00FFFF', line_color = '#00FFFF').add_to(start_station_map)\n",
    "    \n",
    "start_station_map.save(outfile = 'start_station_map.html')\n",
    "\n",
    "del start_station_map"
   ]
  },
  {
   "cell_type": "code",
   "execution_count": 14,
   "metadata": {},
   "outputs": [
    {
     "data": {
      "text/html": [
       "<div>\n",
       "<style scoped>\n",
       "    .dataframe tbody tr th:only-of-type {\n",
       "        vertical-align: middle;\n",
       "    }\n",
       "\n",
       "    .dataframe tbody tr th {\n",
       "        vertical-align: top;\n",
       "    }\n",
       "\n",
       "    .dataframe thead th {\n",
       "        text-align: right;\n",
       "    }\n",
       "</style>\n",
       "<table border=\"1\" class=\"dataframe\">\n",
       "  <thead>\n",
       "    <tr style=\"text-align: right;\">\n",
       "      <th></th>\n",
       "      <th>tripduration</th>\n",
       "      <th>end station id</th>\n",
       "      <th>end station name</th>\n",
       "      <th>end station latitude</th>\n",
       "      <th>end station longitude</th>\n",
       "    </tr>\n",
       "  </thead>\n",
       "  <tbody>\n",
       "    <tr>\n",
       "      <th>0</th>\n",
       "      <td>362</td>\n",
       "      <td>3328</td>\n",
       "      <td>W 100 St &amp; Manhattan Ave</td>\n",
       "      <td>40.795000</td>\n",
       "      <td>-73.964500</td>\n",
       "    </tr>\n",
       "    <tr>\n",
       "      <th>1</th>\n",
       "      <td>188</td>\n",
       "      <td>3100</td>\n",
       "      <td>Nassau Ave &amp; Newell St</td>\n",
       "      <td>40.724813</td>\n",
       "      <td>-73.947526</td>\n",
       "    </tr>\n",
       "    <tr>\n",
       "      <th>2</th>\n",
       "      <td>305</td>\n",
       "      <td>3141</td>\n",
       "      <td>1 Ave &amp; E 68 St</td>\n",
       "      <td>40.765005</td>\n",
       "      <td>-73.958185</td>\n",
       "    </tr>\n",
       "    <tr>\n",
       "      <th>3</th>\n",
       "      <td>223</td>\n",
       "      <td>473</td>\n",
       "      <td>Rivington St &amp; Chrystie St</td>\n",
       "      <td>40.721101</td>\n",
       "      <td>-73.991925</td>\n",
       "    </tr>\n",
       "    <tr>\n",
       "      <th>4</th>\n",
       "      <td>758</td>\n",
       "      <td>3431</td>\n",
       "      <td>E 35 St &amp; 3 Ave</td>\n",
       "      <td>40.746524</td>\n",
       "      <td>-73.977885</td>\n",
       "    </tr>\n",
       "    <tr>\n",
       "      <th>...</th>\n",
       "      <td>...</td>\n",
       "      <td>...</td>\n",
       "      <td>...</td>\n",
       "      <td>...</td>\n",
       "      <td>...</td>\n",
       "    </tr>\n",
       "    <tr>\n",
       "      <th>110341608</th>\n",
       "      <td>1587</td>\n",
       "      <td>3092</td>\n",
       "      <td>Berry St &amp; N 8 St</td>\n",
       "      <td>40.719009</td>\n",
       "      <td>-73.958525</td>\n",
       "    </tr>\n",
       "    <tr>\n",
       "      <th>110341609</th>\n",
       "      <td>222</td>\n",
       "      <td>383</td>\n",
       "      <td>Greenwich Ave &amp; Charles St</td>\n",
       "      <td>40.735238</td>\n",
       "      <td>-74.000271</td>\n",
       "    </tr>\n",
       "    <tr>\n",
       "      <th>110341610</th>\n",
       "      <td>163</td>\n",
       "      <td>411</td>\n",
       "      <td>E 6 St &amp; Avenue D</td>\n",
       "      <td>40.722281</td>\n",
       "      <td>-73.976687</td>\n",
       "    </tr>\n",
       "    <tr>\n",
       "      <th>110341611</th>\n",
       "      <td>327</td>\n",
       "      <td>3718</td>\n",
       "      <td>E 11 St &amp; Avenue B</td>\n",
       "      <td>40.727464</td>\n",
       "      <td>-73.979504</td>\n",
       "    </tr>\n",
       "    <tr>\n",
       "      <th>110341612</th>\n",
       "      <td>484</td>\n",
       "      <td>534</td>\n",
       "      <td>Water - Whitehall Plaza</td>\n",
       "      <td>40.702551</td>\n",
       "      <td>-74.012723</td>\n",
       "    </tr>\n",
       "  </tbody>\n",
       "</table>\n",
       "<p>110341613 rows × 5 columns</p>\n",
       "</div>"
      ],
      "text/plain": [
       "           tripduration  end station id            end station name  \\\n",
       "0                   362            3328    W 100 St & Manhattan Ave   \n",
       "1                   188            3100      Nassau Ave & Newell St   \n",
       "2                   305            3141             1 Ave & E 68 St   \n",
       "3                   223             473  Rivington St & Chrystie St   \n",
       "4                   758            3431             E 35 St & 3 Ave   \n",
       "...                 ...             ...                         ...   \n",
       "110341608          1587            3092           Berry St & N 8 St   \n",
       "110341609           222             383  Greenwich Ave & Charles St   \n",
       "110341610           163             411           E 6 St & Avenue D   \n",
       "110341611           327            3718          E 11 St & Avenue B   \n",
       "110341612           484             534     Water - Whitehall Plaza   \n",
       "\n",
       "           end station latitude  end station longitude  \n",
       "0                     40.795000             -73.964500  \n",
       "1                     40.724813             -73.947526  \n",
       "2                     40.765005             -73.958185  \n",
       "3                     40.721101             -73.991925  \n",
       "4                     40.746524             -73.977885  \n",
       "...                         ...                    ...  \n",
       "110341608             40.719009             -73.958525  \n",
       "110341609             40.735238             -74.000271  \n",
       "110341610             40.722281             -73.976687  \n",
       "110341611             40.727464             -73.979504  \n",
       "110341612             40.702551             -74.012723  \n",
       "\n",
       "[110341613 rows x 5 columns]"
      ]
     },
     "execution_count": 14,
     "metadata": {},
     "output_type": "execute_result"
    }
   ],
   "source": [
    "rides_end"
   ]
  },
  {
   "cell_type": "code",
   "execution_count": 18,
   "metadata": {},
   "outputs": [
    {
     "ename": "ValueError",
     "evalue": "'end station id' is both an index level and a column label, which is ambiguous.",
     "output_type": "error",
     "traceback": [
      "\u001b[0;31m---------------------------------------------------------------------------\u001b[0m",
      "\u001b[0;31mValueError\u001b[0m                                Traceback (most recent call last)",
      "\u001b[0;32m<ipython-input-18-b45a728b81ae>\u001b[0m in \u001b[0;36m<module>\u001b[0;34m\u001b[0m\n\u001b[1;32m      1\u001b[0m \u001b[0mrides_end\u001b[0m\u001b[0;34m.\u001b[0m\u001b[0mindex\u001b[0m \u001b[0;34m=\u001b[0m \u001b[0mrides_end\u001b[0m\u001b[0;34m[\u001b[0m\u001b[0;34m'end station id'\u001b[0m\u001b[0;34m]\u001b[0m\u001b[0;34m\u001b[0m\u001b[0;34m\u001b[0m\u001b[0m\n\u001b[1;32m      2\u001b[0m \u001b[0mrides_end\u001b[0m \u001b[0;34m=\u001b[0m \u001b[0mrides_end\u001b[0m\u001b[0;34m.\u001b[0m\u001b[0mdrop_duplicates\u001b[0m\u001b[0;34m(\u001b[0m\u001b[0;34m)\u001b[0m\u001b[0;34m\u001b[0m\u001b[0;34m\u001b[0m\u001b[0m\n\u001b[0;32m----> 3\u001b[0;31m \u001b[0mrides_end\u001b[0m\u001b[0;34m[\u001b[0m\u001b[0;34m'trip_count'\u001b[0m\u001b[0;34m]\u001b[0m \u001b[0;34m=\u001b[0m \u001b[0mrides_end\u001b[0m\u001b[0;34m.\u001b[0m\u001b[0mgroupby\u001b[0m\u001b[0;34m(\u001b[0m\u001b[0;34m'end station id'\u001b[0m\u001b[0;34m)\u001b[0m\u001b[0;34m[\u001b[0m\u001b[0;34m'end station id'\u001b[0m\u001b[0;34m]\u001b[0m\u001b[0;34m.\u001b[0m\u001b[0mcount\u001b[0m\u001b[0;34m(\u001b[0m\u001b[0;34m)\u001b[0m\u001b[0;34m\u001b[0m\u001b[0;34m\u001b[0m\u001b[0m\n\u001b[0m\u001b[1;32m      4\u001b[0m \u001b[0mrides_end\u001b[0m\u001b[0;34m[\u001b[0m\u001b[0;34m'mean_duration'\u001b[0m\u001b[0;34m]\u001b[0m \u001b[0;34m=\u001b[0m \u001b[0mrides_end\u001b[0m\u001b[0;34m.\u001b[0m\u001b[0mgroupby\u001b[0m\u001b[0;34m(\u001b[0m\u001b[0;34m'end station id'\u001b[0m\u001b[0;34m)\u001b[0m\u001b[0;34m[\u001b[0m\u001b[0;34m'tripduration'\u001b[0m\u001b[0;34m]\u001b[0m\u001b[0;34m.\u001b[0m\u001b[0mmean\u001b[0m\u001b[0;34m(\u001b[0m\u001b[0;34m)\u001b[0m\u001b[0;34m\u001b[0m\u001b[0;34m\u001b[0m\u001b[0m\n\u001b[1;32m      5\u001b[0m \u001b[0mrides_end\u001b[0m\u001b[0;34m.\u001b[0m\u001b[0mhead\u001b[0m\u001b[0;34m(\u001b[0m\u001b[0;34m)\u001b[0m\u001b[0;34m\u001b[0m\u001b[0;34m\u001b[0m\u001b[0m\n",
      "\u001b[0;32m~/opt/anaconda3/lib/python3.7/site-packages/pandas/core/frame.py\u001b[0m in \u001b[0;36mgroupby\u001b[0;34m(self, by, axis, level, as_index, sort, group_keys, squeeze, observed, dropna)\u001b[0m\n\u001b[1;32m   6523\u001b[0m             \u001b[0msqueeze\u001b[0m\u001b[0;34m=\u001b[0m\u001b[0msqueeze\u001b[0m\u001b[0;34m,\u001b[0m\u001b[0;34m\u001b[0m\u001b[0;34m\u001b[0m\u001b[0m\n\u001b[1;32m   6524\u001b[0m             \u001b[0mobserved\u001b[0m\u001b[0;34m=\u001b[0m\u001b[0mobserved\u001b[0m\u001b[0;34m,\u001b[0m\u001b[0;34m\u001b[0m\u001b[0;34m\u001b[0m\u001b[0m\n\u001b[0;32m-> 6525\u001b[0;31m             \u001b[0mdropna\u001b[0m\u001b[0;34m=\u001b[0m\u001b[0mdropna\u001b[0m\u001b[0;34m,\u001b[0m\u001b[0;34m\u001b[0m\u001b[0;34m\u001b[0m\u001b[0m\n\u001b[0m\u001b[1;32m   6526\u001b[0m         )\n\u001b[1;32m   6527\u001b[0m \u001b[0;34m\u001b[0m\u001b[0m\n",
      "\u001b[0;32m~/opt/anaconda3/lib/python3.7/site-packages/pandas/core/groupby/groupby.py\u001b[0m in \u001b[0;36m__init__\u001b[0;34m(self, obj, keys, axis, level, grouper, exclusions, selection, as_index, sort, group_keys, squeeze, observed, mutated, dropna)\u001b[0m\n\u001b[1;32m    531\u001b[0m                 \u001b[0mobserved\u001b[0m\u001b[0;34m=\u001b[0m\u001b[0mobserved\u001b[0m\u001b[0;34m,\u001b[0m\u001b[0;34m\u001b[0m\u001b[0;34m\u001b[0m\u001b[0m\n\u001b[1;32m    532\u001b[0m                 \u001b[0mmutated\u001b[0m\u001b[0;34m=\u001b[0m\u001b[0mself\u001b[0m\u001b[0;34m.\u001b[0m\u001b[0mmutated\u001b[0m\u001b[0;34m,\u001b[0m\u001b[0;34m\u001b[0m\u001b[0;34m\u001b[0m\u001b[0m\n\u001b[0;32m--> 533\u001b[0;31m                 \u001b[0mdropna\u001b[0m\u001b[0;34m=\u001b[0m\u001b[0mself\u001b[0m\u001b[0;34m.\u001b[0m\u001b[0mdropna\u001b[0m\u001b[0;34m,\u001b[0m\u001b[0;34m\u001b[0m\u001b[0;34m\u001b[0m\u001b[0m\n\u001b[0m\u001b[1;32m    534\u001b[0m             )\n\u001b[1;32m    535\u001b[0m \u001b[0;34m\u001b[0m\u001b[0m\n",
      "\u001b[0;32m~/opt/anaconda3/lib/python3.7/site-packages/pandas/core/groupby/grouper.py\u001b[0m in \u001b[0;36mget_grouper\u001b[0;34m(obj, key, axis, level, sort, observed, mutated, validate, dropna)\u001b[0m\n\u001b[1;32m    778\u001b[0m             \u001b[0;32mif\u001b[0m \u001b[0mgpr\u001b[0m \u001b[0;32min\u001b[0m \u001b[0mobj\u001b[0m\u001b[0;34m:\u001b[0m\u001b[0;34m\u001b[0m\u001b[0;34m\u001b[0m\u001b[0m\n\u001b[1;32m    779\u001b[0m                 \u001b[0;32mif\u001b[0m \u001b[0mvalidate\u001b[0m\u001b[0;34m:\u001b[0m\u001b[0;34m\u001b[0m\u001b[0;34m\u001b[0m\u001b[0m\n\u001b[0;32m--> 780\u001b[0;31m                     \u001b[0mobj\u001b[0m\u001b[0;34m.\u001b[0m\u001b[0m_check_label_or_level_ambiguity\u001b[0m\u001b[0;34m(\u001b[0m\u001b[0mgpr\u001b[0m\u001b[0;34m,\u001b[0m \u001b[0maxis\u001b[0m\u001b[0;34m=\u001b[0m\u001b[0maxis\u001b[0m\u001b[0;34m)\u001b[0m\u001b[0;34m\u001b[0m\u001b[0;34m\u001b[0m\u001b[0m\n\u001b[0m\u001b[1;32m    781\u001b[0m                 \u001b[0min_axis\u001b[0m\u001b[0;34m,\u001b[0m \u001b[0mname\u001b[0m\u001b[0;34m,\u001b[0m \u001b[0mgpr\u001b[0m \u001b[0;34m=\u001b[0m \u001b[0;32mTrue\u001b[0m\u001b[0;34m,\u001b[0m \u001b[0mgpr\u001b[0m\u001b[0;34m,\u001b[0m \u001b[0mobj\u001b[0m\u001b[0;34m[\u001b[0m\u001b[0mgpr\u001b[0m\u001b[0;34m]\u001b[0m\u001b[0;34m\u001b[0m\u001b[0;34m\u001b[0m\u001b[0m\n\u001b[1;32m    782\u001b[0m                 \u001b[0mexclusions\u001b[0m\u001b[0;34m.\u001b[0m\u001b[0mappend\u001b[0m\u001b[0;34m(\u001b[0m\u001b[0mname\u001b[0m\u001b[0;34m)\u001b[0m\u001b[0;34m\u001b[0m\u001b[0;34m\u001b[0m\u001b[0m\n",
      "\u001b[0;32m~/opt/anaconda3/lib/python3.7/site-packages/pandas/core/generic.py\u001b[0m in \u001b[0;36m_check_label_or_level_ambiguity\u001b[0;34m(self, key, axis)\u001b[0m\n\u001b[1;32m   1516\u001b[0m                 \u001b[0;34mf\"{label_article} {label_type} label, which is ambiguous.\"\u001b[0m\u001b[0;34m\u001b[0m\u001b[0;34m\u001b[0m\u001b[0m\n\u001b[1;32m   1517\u001b[0m             )\n\u001b[0;32m-> 1518\u001b[0;31m             \u001b[0;32mraise\u001b[0m \u001b[0mValueError\u001b[0m\u001b[0;34m(\u001b[0m\u001b[0mmsg\u001b[0m\u001b[0;34m)\u001b[0m\u001b[0;34m\u001b[0m\u001b[0;34m\u001b[0m\u001b[0m\n\u001b[0m\u001b[1;32m   1519\u001b[0m \u001b[0;34m\u001b[0m\u001b[0m\n\u001b[1;32m   1520\u001b[0m     \u001b[0;32mdef\u001b[0m \u001b[0m_get_label_or_level_values\u001b[0m\u001b[0;34m(\u001b[0m\u001b[0mself\u001b[0m\u001b[0;34m,\u001b[0m \u001b[0mkey\u001b[0m\u001b[0;34m:\u001b[0m \u001b[0mstr\u001b[0m\u001b[0;34m,\u001b[0m \u001b[0maxis\u001b[0m\u001b[0;34m:\u001b[0m \u001b[0mint\u001b[0m \u001b[0;34m=\u001b[0m \u001b[0;36m0\u001b[0m\u001b[0;34m)\u001b[0m \u001b[0;34m->\u001b[0m \u001b[0mnp\u001b[0m\u001b[0;34m.\u001b[0m\u001b[0mndarray\u001b[0m\u001b[0;34m:\u001b[0m\u001b[0;34m\u001b[0m\u001b[0;34m\u001b[0m\u001b[0m\n",
      "\u001b[0;31mValueError\u001b[0m: 'end station id' is both an index level and a column label, which is ambiguous."
     ]
    }
   ],
   "source": [
    "rides_end.index = rides_end['end station id']\n",
    "rides_end = rides_end.drop_duplicates()\n",
    "rides_end['trip_count'] = rides_end.groupby('end station id')['end station id'].count()\n",
    "rides_end['mean_duration'] = rides_end.groupby('end station id')['tripduration'].mean()\n",
    "rides_end.head()"
   ]
  },
  {
   "cell_type": "code",
   "execution_count": null,
   "metadata": {},
   "outputs": [],
   "source": [
    "tileset = r'http://{s}.basemaps.cartocdn.com/dark_all/{z}/{x}/{y}.png'\n",
    "end_station_map = folium.Map(location = [40.74, -73.97], width = 600, height = 600,\n",
    "                               tiles = tileset,\n",
    "                               attr = '&copy; <a href=\"http://www.openstreetmap.org/copyright\">OpenStreetMap</a> contributors, &copy; <a href=\"http://cartodb.com/attributions\">CartoDB</a>',\n",
    "                               zoom_start = 12)\n",
    "\n",
    "for index, row in end_station.iterrows():\n",
    "    color = rgb2hex(cm.YlOrRd(norm(row['trip_count'])))\n",
    "    folium.CircleMarker(location = [row['end station latitude'],\n",
    "                                                row['end station longitude']],\n",
    "                                    popup = row['end station name'],\n",
    "                                    radius = row['trip_count'] / 10000,\n",
    "                                    fill_color = '#00FFFF', line_color = '#00FFFF').add_to(end_station_map)\n",
    "    \n",
    "end_station_map.save(outfile = 'end_station_map.html')\n",
    "\n",
    "del end_station_map\n",
    "\n",
    "IFrame('end_station_map.html', width = 600, height = 600)"
   ]
  }
 ],
 "metadata": {
  "kernelspec": {
   "display_name": "Python 3",
   "language": "python",
   "name": "python3"
  },
  "language_info": {
   "codemirror_mode": {
    "name": "ipython",
    "version": 3
   },
   "file_extension": ".py",
   "mimetype": "text/x-python",
   "name": "python",
   "nbconvert_exporter": "python",
   "pygments_lexer": "ipython3",
   "version": "3.7.6"
  },
  "toc": {
   "base_numbering": 1,
   "nav_menu": {},
   "number_sections": false,
   "sideBar": true,
   "skip_h1_title": false,
   "title_cell": "Table of Contents",
   "title_sidebar": "Contents",
   "toc_cell": false,
   "toc_position": {},
   "toc_section_display": true,
   "toc_window_display": false
  }
 },
 "nbformat": 4,
 "nbformat_minor": 4
}
