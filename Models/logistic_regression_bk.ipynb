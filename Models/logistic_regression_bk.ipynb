{
 "cells": [
  {
   "cell_type": "code",
   "execution_count": 5,
   "metadata": {},
   "outputs": [
    {
     "name": "stderr",
     "output_type": "stream",
     "text": [
      "/Users/bkuo/anaconda3/lib/python3.6/site-packages/IPython/core/interactiveshell.py:3072: DtypeWarning: Columns (11) have mixed types.Specify dtype option on import or set low_memory=False.\n",
      "  interactivity=interactivity, compiler=compiler, result=result)\n"
     ]
    }
   ],
   "source": [
    "stations_cleaned = pd.read_csv('/Users/bkuo/Local Documents/Bootcamp 2020/Project/Capstone/CitiBikeCapStone/Data/Dock station data/stations_cleaned.csv')\n",
    "#             delim_whitespace = True)\n"
   ]
  },
  {
   "cell_type": "code",
   "execution_count": 6,
   "metadata": {},
   "outputs": [
    {
     "data": {
      "text/html": [
       "<div>\n",
       "<style scoped>\n",
       "    .dataframe tbody tr th:only-of-type {\n",
       "        vertical-align: middle;\n",
       "    }\n",
       "\n",
       "    .dataframe tbody tr th {\n",
       "        vertical-align: top;\n",
       "    }\n",
       "\n",
       "    .dataframe thead th {\n",
       "        text-align: right;\n",
       "    }\n",
       "</style>\n",
       "<table border=\"1\" class=\"dataframe\">\n",
       "  <thead>\n",
       "    <tr style=\"text-align: right;\">\n",
       "      <th></th>\n",
       "      <th>dock_id</th>\n",
       "      <th>dock_name</th>\n",
       "      <th>avail_bikes</th>\n",
       "      <th>avail_docks</th>\n",
       "      <th>tot_docks</th>\n",
       "      <th>_lat</th>\n",
       "      <th>_long</th>\n",
       "      <th>in_service</th>\n",
       "      <th>status_key</th>\n",
       "      <th>dock_status</th>\n",
       "      <th>dayofweek</th>\n",
       "      <th>dayofweek2</th>\n",
       "      <th>season</th>\n",
       "      <th>datetime</th>\n",
       "    </tr>\n",
       "  </thead>\n",
       "  <tbody>\n",
       "    <tr>\n",
       "      <th>0</th>\n",
       "      <td>72</td>\n",
       "      <td>W 52 St &amp; 11 Ave</td>\n",
       "      <td>8</td>\n",
       "      <td>31</td>\n",
       "      <td>39</td>\n",
       "      <td>40.767272</td>\n",
       "      <td>-73.993929</td>\n",
       "      <td>1</td>\n",
       "      <td>1</td>\n",
       "      <td>Empty Alert</td>\n",
       "      <td>6</td>\n",
       "      <td>Sunday</td>\n",
       "      <td>spring</td>\n",
       "      <td>2015-03-01 01:06:00</td>\n",
       "    </tr>\n",
       "    <tr>\n",
       "      <th>1</th>\n",
       "      <td>72</td>\n",
       "      <td>W 52 St &amp; 11 Ave</td>\n",
       "      <td>8</td>\n",
       "      <td>31</td>\n",
       "      <td>39</td>\n",
       "      <td>40.767272</td>\n",
       "      <td>-73.993929</td>\n",
       "      <td>1</td>\n",
       "      <td>1</td>\n",
       "      <td>Empty Alert</td>\n",
       "      <td>6</td>\n",
       "      <td>Sunday</td>\n",
       "      <td>spring</td>\n",
       "      <td>2015-03-01 01:16:00</td>\n",
       "    </tr>\n",
       "    <tr>\n",
       "      <th>2</th>\n",
       "      <td>72</td>\n",
       "      <td>W 52 St &amp; 11 Ave</td>\n",
       "      <td>8</td>\n",
       "      <td>30</td>\n",
       "      <td>38</td>\n",
       "      <td>40.767272</td>\n",
       "      <td>-73.993929</td>\n",
       "      <td>1</td>\n",
       "      <td>1</td>\n",
       "      <td>Empty Alert</td>\n",
       "      <td>6</td>\n",
       "      <td>Sunday</td>\n",
       "      <td>spring</td>\n",
       "      <td>2015-03-01 01:25:00</td>\n",
       "    </tr>\n",
       "    <tr>\n",
       "      <th>3</th>\n",
       "      <td>72</td>\n",
       "      <td>W 52 St &amp; 11 Ave</td>\n",
       "      <td>8</td>\n",
       "      <td>30</td>\n",
       "      <td>38</td>\n",
       "      <td>40.767272</td>\n",
       "      <td>-73.993929</td>\n",
       "      <td>1</td>\n",
       "      <td>1</td>\n",
       "      <td>Empty Alert</td>\n",
       "      <td>6</td>\n",
       "      <td>Sunday</td>\n",
       "      <td>spring</td>\n",
       "      <td>2015-03-01 01:35:00</td>\n",
       "    </tr>\n",
       "    <tr>\n",
       "      <th>4</th>\n",
       "      <td>72</td>\n",
       "      <td>W 52 St &amp; 11 Ave</td>\n",
       "      <td>8</td>\n",
       "      <td>30</td>\n",
       "      <td>38</td>\n",
       "      <td>40.767272</td>\n",
       "      <td>-73.993929</td>\n",
       "      <td>1</td>\n",
       "      <td>1</td>\n",
       "      <td>Empty Alert</td>\n",
       "      <td>6</td>\n",
       "      <td>Sunday</td>\n",
       "      <td>spring</td>\n",
       "      <td>2015-03-01 01:45:00</td>\n",
       "    </tr>\n",
       "  </tbody>\n",
       "</table>\n",
       "</div>"
      ],
      "text/plain": [
       "   dock_id         dock_name  avail_bikes  avail_docks  tot_docks       _lat  \\\n",
       "0       72  W 52 St & 11 Ave            8           31         39  40.767272   \n",
       "1       72  W 52 St & 11 Ave            8           31         39  40.767272   \n",
       "2       72  W 52 St & 11 Ave            8           30         38  40.767272   \n",
       "3       72  W 52 St & 11 Ave            8           30         38  40.767272   \n",
       "4       72  W 52 St & 11 Ave            8           30         38  40.767272   \n",
       "\n",
       "       _long  in_service status_key  dock_status  dayofweek dayofweek2  \\\n",
       "0 -73.993929           1          1  Empty Alert          6     Sunday   \n",
       "1 -73.993929           1          1  Empty Alert          6     Sunday   \n",
       "2 -73.993929           1          1  Empty Alert          6     Sunday   \n",
       "3 -73.993929           1          1  Empty Alert          6     Sunday   \n",
       "4 -73.993929           1          1  Empty Alert          6     Sunday   \n",
       "\n",
       "   season            datetime  \n",
       "0  spring 2015-03-01 01:06:00  \n",
       "1  spring 2015-03-01 01:16:00  \n",
       "2  spring 2015-03-01 01:25:00  \n",
       "3  spring 2015-03-01 01:35:00  \n",
       "4  spring 2015-03-01 01:45:00  "
      ]
     },
     "execution_count": 6,
     "metadata": {},
     "output_type": "execute_result"
    }
   ],
   "source": [
    "dock = stations_cleaned.copy()\n",
    "dock.hour = dock.hour.astype(str).apply(lambda x: x.zfill(2))\n",
    "dock.loc[dock['hour'] == '24', 'hour'] = '00'\n",
    "dock.minute = dock.minute.astype(str).apply(lambda x: x.zfill(2))\n",
    "dock['time'] = dock.hour + ':' + dock.minute + ':' +  '00'\n",
    "dock['datetime'] = pd.to_datetime(dock['date'] + ' ' + dock['time'])\n",
    "dock = dock.drop(['date', 'hour', 'minute', 'time'], axis = 1)\n",
    "dock.head()"
   ]
  },
  {
   "cell_type": "code",
   "execution_count": 45,
   "metadata": {},
   "outputs": [],
   "source": [
    "# adding features, making target and input data\n",
    "target = dock.dock_status\n",
    "target = target.replace(['Empty Alert', 'Healthy', 'Full Alert'], [0, 1, 2])\n",
    "logit_input = dock[['in_service', 'avail_bikes', 'avail_docks', 'dayofweek', 'season', 'datetime']]\n",
    "logit_input = pd.get_dummies(logit_input, columns = ['season'], drop_first = True)\n",
    "logit_input['month'] = logit_input.datetime.dt.month\n",
    "logit_input['hour'] = logit_input.datetime.dt.hour\n",
    "logit_input['peak'] = [1 if hr > 5 and hr < 20 else 0 for hr in logit_input['hour']]\n",
    "logit_input = logit_input.drop('datetime', axis = 1)"
   ]
  },
  {
   "cell_type": "code",
   "execution_count": 46,
   "metadata": {},
   "outputs": [],
   "source": [
    "# model fitting\n",
    "from sklearn.linear_model import LogisticRegression\n",
    "from sklearn.model_selection import GridSearchCV\n",
    "from sklearn.metrics import confusion_matrix \n",
    "\n",
    "logit = LogisticRegression(multi_class='ovr', solver='liblinear')\n",
    "params = {'C':np.logspace(-4,4, 20)}\n",
    "gs_logit = GridSearchCV(logit, params, cv=3, iid=True)"
   ]
  },
  {
   "cell_type": "code",
   "execution_count": 47,
   "metadata": {},
   "outputs": [
    {
     "data": {
      "text/html": [
       "<div>\n",
       "<style scoped>\n",
       "    .dataframe tbody tr th:only-of-type {\n",
       "        vertical-align: middle;\n",
       "    }\n",
       "\n",
       "    .dataframe tbody tr th {\n",
       "        vertical-align: top;\n",
       "    }\n",
       "\n",
       "    .dataframe thead th {\n",
       "        text-align: right;\n",
       "    }\n",
       "</style>\n",
       "<table border=\"1\" class=\"dataframe\">\n",
       "  <thead>\n",
       "    <tr style=\"text-align: right;\">\n",
       "      <th></th>\n",
       "      <th>in_service</th>\n",
       "      <th>avail_bikes</th>\n",
       "      <th>avail_docks</th>\n",
       "      <th>dayofweek</th>\n",
       "      <th>season_spring</th>\n",
       "      <th>season_summer</th>\n",
       "      <th>season_winter</th>\n",
       "      <th>month</th>\n",
       "      <th>hour</th>\n",
       "      <th>peak</th>\n",
       "    </tr>\n",
       "  </thead>\n",
       "  <tbody>\n",
       "    <tr>\n",
       "      <th>0</th>\n",
       "      <td>1</td>\n",
       "      <td>8</td>\n",
       "      <td>31</td>\n",
       "      <td>6</td>\n",
       "      <td>1</td>\n",
       "      <td>0</td>\n",
       "      <td>0</td>\n",
       "      <td>3</td>\n",
       "      <td>1</td>\n",
       "      <td>0</td>\n",
       "    </tr>\n",
       "    <tr>\n",
       "      <th>1</th>\n",
       "      <td>1</td>\n",
       "      <td>8</td>\n",
       "      <td>31</td>\n",
       "      <td>6</td>\n",
       "      <td>1</td>\n",
       "      <td>0</td>\n",
       "      <td>0</td>\n",
       "      <td>3</td>\n",
       "      <td>1</td>\n",
       "      <td>0</td>\n",
       "    </tr>\n",
       "    <tr>\n",
       "      <th>2</th>\n",
       "      <td>1</td>\n",
       "      <td>8</td>\n",
       "      <td>30</td>\n",
       "      <td>6</td>\n",
       "      <td>1</td>\n",
       "      <td>0</td>\n",
       "      <td>0</td>\n",
       "      <td>3</td>\n",
       "      <td>1</td>\n",
       "      <td>0</td>\n",
       "    </tr>\n",
       "    <tr>\n",
       "      <th>3</th>\n",
       "      <td>1</td>\n",
       "      <td>8</td>\n",
       "      <td>30</td>\n",
       "      <td>6</td>\n",
       "      <td>1</td>\n",
       "      <td>0</td>\n",
       "      <td>0</td>\n",
       "      <td>3</td>\n",
       "      <td>1</td>\n",
       "      <td>0</td>\n",
       "    </tr>\n",
       "    <tr>\n",
       "      <th>4</th>\n",
       "      <td>1</td>\n",
       "      <td>8</td>\n",
       "      <td>30</td>\n",
       "      <td>6</td>\n",
       "      <td>1</td>\n",
       "      <td>0</td>\n",
       "      <td>0</td>\n",
       "      <td>3</td>\n",
       "      <td>1</td>\n",
       "      <td>0</td>\n",
       "    </tr>\n",
       "  </tbody>\n",
       "</table>\n",
       "</div>"
      ],
      "text/plain": [
       "   in_service  avail_bikes  avail_docks  dayofweek  season_spring  \\\n",
       "0           1            8           31          6              1   \n",
       "1           1            8           31          6              1   \n",
       "2           1            8           30          6              1   \n",
       "3           1            8           30          6              1   \n",
       "4           1            8           30          6              1   \n",
       "\n",
       "   season_summer  season_winter  month  hour  peak  \n",
       "0              0              0      3     1     0  \n",
       "1              0              0      3     1     0  \n",
       "2              0              0      3     1     0  \n",
       "3              0              0      3     1     0  \n",
       "4              0              0      3     1     0  "
      ]
     },
     "execution_count": 47,
     "metadata": {},
     "output_type": "execute_result"
    }
   ],
   "source": [
    "logit_input.head()"
   ]
  },
  {
   "cell_type": "code",
   "execution_count": 48,
   "metadata": {},
   "outputs": [
    {
     "data": {
      "text/plain": [
       "0.9662842824956646"
      ]
     },
     "execution_count": 48,
     "metadata": {},
     "output_type": "execute_result"
    }
   ],
   "source": [
    "# logistic = LogisticRegression(C=1e4, solver='liblinear', multi_class='auto')\n",
    "# logistic.fit(logit_input, target)\n",
    "# logistic.score(logit_input, target)"
   ]
  },
  {
   "cell_type": "code",
   "execution_count": 49,
   "metadata": {},
   "outputs": [
    {
     "name": "stderr",
     "output_type": "stream",
     "text": [
      "/Users/bkuo/anaconda3/lib/python3.6/site-packages/sklearn/model_selection/_search.py:849: FutureWarning: The parameter 'iid' is deprecated in 0.22 and will be removed in 0.24.\n",
      "  \"removed in 0.24.\", FutureWarning\n"
     ]
    },
    {
     "data": {
      "text/plain": [
       "GridSearchCV(cv=3,\n",
       "             estimator=LogisticRegression(multi_class='ovr',\n",
       "                                          solver='liblinear'),\n",
       "             iid=True,\n",
       "             param_grid={'C': array([1.00000000e-04, 2.63665090e-04, 6.95192796e-04, 1.83298071e-03,\n",
       "       4.83293024e-03, 1.27427499e-02, 3.35981829e-02, 8.85866790e-02,\n",
       "       2.33572147e-01, 6.15848211e-01, 1.62377674e+00, 4.28133240e+00,\n",
       "       1.12883789e+01, 2.97635144e+01, 7.84759970e+01, 2.06913808e+02,\n",
       "       5.45559478e+02, 1.43844989e+03, 3.79269019e+03, 1.00000000e+04])})"
      ]
     },
     "execution_count": 49,
     "metadata": {},
     "output_type": "execute_result"
    }
   ],
   "source": [
    "gs_logit.fit(logit_input, target)"
   ]
  },
  {
   "cell_type": "code",
   "execution_count": 50,
   "metadata": {},
   "outputs": [
    {
     "data": {
      "text/plain": [
       "{'C': 0.004832930238571752}"
      ]
     },
     "execution_count": 50,
     "metadata": {},
     "output_type": "execute_result"
    }
   ],
   "source": [
    "gs_logit.best_params_"
   ]
  },
  {
   "cell_type": "code",
   "execution_count": 51,
   "metadata": {},
   "outputs": [
    {
     "data": {
      "text/plain": [
       "0.9652149870177045"
      ]
     },
     "execution_count": 51,
     "metadata": {},
     "output_type": "execute_result"
    }
   ],
   "source": [
    "gs_logit.best_score_"
   ]
  },
  {
   "cell_type": "code",
   "execution_count": 53,
   "metadata": {},
   "outputs": [
    {
     "data": {
      "text/plain": [
       "0.9663049978573031"
      ]
     },
     "execution_count": 53,
     "metadata": {},
     "output_type": "execute_result"
    }
   ],
   "source": [
    "gs_logit.best_estimator_.score(logit_input, target)"
   ]
  },
  {
   "cell_type": "code",
   "execution_count": 54,
   "metadata": {},
   "outputs": [
    {
     "data": {
      "text/plain": [
       "array([[15708898,   187066,      840],\n",
       "       [  326774,  9973496,   322195],\n",
       "       [       0,   254554,  5617598]])"
      ]
     },
     "execution_count": 54,
     "metadata": {},
     "output_type": "execute_result"
    }
   ],
   "source": [
    "cm = confusion_matrix(target, gs_logit.best_estimator_.predict(logit_input))\n",
    "cm"
   ]
  },
  {
   "cell_type": "code",
   "execution_count": 55,
   "metadata": {},
   "outputs": [
    {
     "data": {
      "text/plain": [
       "array([0.98817964, 0.93890599, 0.95665065])"
      ]
     },
     "execution_count": 55,
     "metadata": {},
     "output_type": "execute_result"
    }
   ],
   "source": [
    "## The accuracy against each rating class 0, 1, 2\n",
    "np.diag(cm/cm.sum(axis=1).reshape((-1,1)))"
   ]
  },
  {
   "cell_type": "code",
   "execution_count": 56,
   "metadata": {},
   "outputs": [
    {
     "data": {
      "text/plain": [
       "array([[ 2.42214383e+00, -2.71607636e+00,  1.16788503e+00,\n",
       "         5.63011548e-03, -4.94131801e-01, -4.31637343e-01,\n",
       "        -3.72195760e-01, -4.31772301e-02,  2.92827043e-03,\n",
       "        -4.26901206e-02],\n",
       "       [-4.27015068e-01,  9.70112549e-03, -4.61229741e-02,\n",
       "         3.11261273e-02,  7.79127822e-03, -8.85460468e-03,\n",
       "         7.54879742e-02,  5.35114675e-03,  1.13800995e-03,\n",
       "         3.49723396e-02],\n",
       "       [ 3.83597499e+00,  3.36364915e-01, -7.71052846e-01,\n",
       "        -3.93787045e-03,  3.78307960e-01, -1.07656600e-01,\n",
       "         4.80400000e-02, -2.79455200e-02, -1.10454767e-02,\n",
       "        -1.17059620e-02]])"
      ]
     },
     "execution_count": 56,
     "metadata": {},
     "output_type": "execute_result"
    }
   ],
   "source": [
    "gs_logit.best_estimator_.coef_"
   ]
  },
  {
   "cell_type": "code",
   "execution_count": null,
   "metadata": {},
   "outputs": [],
   "source": []
  }
 ],
 "metadata": {
  "kernelspec": {
   "display_name": "Python 3",
   "language": "python",
   "name": "python3"
  },
  "language_info": {
   "codemirror_mode": {
    "name": "ipython",
    "version": 3
   },
   "file_extension": ".py",
   "mimetype": "text/x-python",
   "name": "python",
   "nbconvert_exporter": "python",
   "pygments_lexer": "ipython3",
   "version": "3.6.8"
  }
 },
 "nbformat": 4,
 "nbformat_minor": 4
}
