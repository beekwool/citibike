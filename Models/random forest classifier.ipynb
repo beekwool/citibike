{
 "cells": [
  {
   "cell_type": "code",
   "execution_count": 1,
   "metadata": {},
   "outputs": [],
   "source": [
    "import pandas as pd\n",
    "import numpy as np\n",
    "from joblib import load\n",
    "import glob\n",
    "from datetime import datetime\n",
    "import seaborn as sns\n",
    "import matplotlib.pyplot as plt\n",
    "from scipy.stats import zscore\n",
    "from scipy import stats\n",
    "from sklearn.model_selection import train_test_split\n",
    "from sklearn.ensemble import RandomForestClassifier\n",
    "from sklearn import metrics\n",
    "import random\n",
    "import sklearn.model_selection as ms\n",
    "from sklearn import ensemble"
   ]
  },
  {
   "cell_type": "code",
   "execution_count": 2,
   "metadata": {},
   "outputs": [
    {
     "name": "stderr",
     "output_type": "stream",
     "text": [
      "/Users/danielchoy/opt/anaconda3/lib/python3.7/site-packages/IPython/core/interactiveshell.py:3063: DtypeWarning: Columns (43,44,48,53,57,58) have mixed types.Specify dtype option on import or set low_memory=False.\n",
      "  interactivity=interactivity, compiler=compiler, result=result)\n",
      "/Users/danielchoy/opt/anaconda3/lib/python3.7/site-packages/IPython/core/interactiveshell.py:3063: DtypeWarning: Columns (45,46,50,55,59,88,90) have mixed types.Specify dtype option on import or set low_memory=False.\n",
      "  interactivity=interactivity, compiler=compiler, result=result)\n",
      "/Users/danielchoy/opt/anaconda3/lib/python3.7/site-packages/IPython/core/interactiveshell.py:3063: DtypeWarning: Columns (42,43,44,45,56,57,64,90) have mixed types.Specify dtype option on import or set low_memory=False.\n",
      "  interactivity=interactivity, compiler=compiler, result=result)\n",
      "/Users/danielchoy/opt/anaconda3/lib/python3.7/site-packages/IPython/core/interactiveshell.py:3063: DtypeWarning: Columns (42,43,44,45,49,54,58,59) have mixed types.Specify dtype option on import or set low_memory=False.\n",
      "  interactivity=interactivity, compiler=compiler, result=result)\n",
      "/Users/danielchoy/opt/anaconda3/lib/python3.7/site-packages/IPython/core/interactiveshell.py:3063: DtypeWarning: Columns (44,53,86,87) have mixed types.Specify dtype option on import or set low_memory=False.\n",
      "  interactivity=interactivity, compiler=compiler, result=result)\n",
      "/Users/danielchoy/opt/anaconda3/lib/python3.7/site-packages/IPython/core/interactiveshell.py:3063: DtypeWarning: Columns (43,47,52,56,87,88) have mixed types.Specify dtype option on import or set low_memory=False.\n",
      "  interactivity=interactivity, compiler=compiler, result=result)\n",
      "/Users/danielchoy/opt/anaconda3/lib/python3.7/site-packages/IPython/core/interactiveshell.py:3063: DtypeWarning: Columns (44,45,58,89) have mixed types.Specify dtype option on import or set low_memory=False.\n",
      "  interactivity=interactivity, compiler=compiler, result=result)\n",
      "/Users/danielchoy/opt/anaconda3/lib/python3.7/site-packages/IPython/core/interactiveshell.py:3063: DtypeWarning: Columns (44,45,46) have mixed types.Specify dtype option on import or set low_memory=False.\n",
      "  interactivity=interactivity, compiler=compiler, result=result)\n"
     ]
    }
   ],
   "source": [
    "path = '../data/weatherdata'\n",
    "all_files = glob.glob(path + \"/*.csv\")\n",
    "\n",
    "li = []\n",
    "\n",
    "for filename in all_files:\n",
    "    df = pd.read_csv(filename, index_col=None, header=0)\n",
    "    li.append(df)\n",
    "\n",
    "weather_df = pd.concat(li, axis=0, ignore_index=True)"
   ]
  },
  {
   "cell_type": "code",
   "execution_count": 3,
   "metadata": {},
   "outputs": [],
   "source": [
    "def downsampling():\n",
    "    sampled_list = []\n",
    "    n = 0\n",
    "    while n <= 3:\n",
    "        print(n)\n",
    "        p = 0.01  # 1% of the lines\n",
    "        # keep the header, then take only 1% of lines\n",
    "        # if random from [0,1] interval is greater than 0.01 the row will be skipped\n",
    "        df = pd.read_csv('../data/stations_cleaned.csv.gz', skiprows=lambda i: i>0 and random.random() > p,\n",
    "                         parse_dates = ['date'])\n",
    "        df['Sample_num'] = n\n",
    "        sampled_list.append(df)\n",
    "        n += 1\n",
    "    return pd.concat(sampled_list)"
   ]
  },
  {
   "cell_type": "code",
   "execution_count": 4,
   "metadata": {},
   "outputs": [
    {
     "name": "stdout",
     "output_type": "stream",
     "text": [
      "0\n"
     ]
    },
    {
     "name": "stderr",
     "output_type": "stream",
     "text": [
      "/Users/danielchoy/opt/anaconda3/lib/python3.7/site-packages/IPython/core/interactiveshell.py:3254: DtypeWarning: Columns (11) have mixed types.Specify dtype option on import or set low_memory=False.\n",
      "  if (await self.run_code(code, result,  async_=asy)):\n"
     ]
    },
    {
     "name": "stdout",
     "output_type": "stream",
     "text": [
      "1\n",
      "2\n",
      "3\n"
     ]
    }
   ],
   "source": [
    "dock_sample = downsampling()"
   ]
  },
  {
   "cell_type": "code",
   "execution_count": 36,
   "metadata": {},
   "outputs": [
    {
     "name": "stderr",
     "output_type": "stream",
     "text": [
      "/Users/danielchoy/opt/anaconda3/lib/python3.7/site-packages/IPython/core/interactiveshell.py:3063: DtypeWarning: Columns (11) have mixed types.Specify dtype option on import or set low_memory=False.\n",
      "  interactivity=interactivity, compiler=compiler, result=result)\n"
     ]
    }
   ],
   "source": [
    "#dock = pd.read_csv('../data/stations_cleaned.csv.gz')"
   ]
  },
  {
   "cell_type": "code",
   "execution_count": 5,
   "metadata": {},
   "outputs": [],
   "source": [
    "def to_milesperhour(num):\n",
    "    \"\"\"A function to convert wind speed from meters/second to miles/hour. The conversion is done by using the \n",
    "    above formula\n",
    "    \"\"\"\n",
    "    convert = (num * 3600)/(1000 * 1.6)\n",
    "    return convert"
   ]
  },
  {
   "cell_type": "code",
   "execution_count": 6,
   "metadata": {},
   "outputs": [],
   "source": [
    "def clean_weatherdata(df):\n",
    "    \"\"\"This function will clean the weather data from any given year or years (the merged weather data)\n",
    "    Weather data was obtained from NOAA( National Oceanic and Atmospheric Administration ) \n",
    "    https://www.ncei.noaa.gov/data/global-hourly/archive/csv/.\n",
    "    Additional websites were also used as references in order to interpret the numbers from the data and to\n",
    "    engineer new features such as windy and rainy. The column windy and its values (breeze, gale, force...)\n",
    "    were all based on information from NOAA https://www.weather.gov/pqr/wind. \n",
    "    https://www.visualcrossing.com/resources/documentation/weather-data/how-we-process-integrated-surface-database-historical-weather-data/\n",
    "    was used to interpret the numbers of the data.\n",
    "    \"\"\"\n",
    "    # Make a copy\n",
    "    nyweather= df.copy()\n",
    "    \n",
    "    # Select the columns that will be used\n",
    "    nyweather = nyweather[['DATE', 'SOURCE', 'LATITUDE', 'LONGITUDE', 'ELEVATION', 'NAME', 'WND', 'TMP',\n",
    "             'DEW', 'SLP', 'AA1','AA2']]\n",
    "    \n",
    "    # Clean DATE column\n",
    "    nyweather['DATE'] = nyweather['DATE'].str.replace('T', ' ')\n",
    "    \n",
    "    # Clean TMP (temperature) column. Please refer to \n",
    "    # Interpreting the numbers are based on \n",
    "    #https://www.visualcrossing.com/resources/documentation/weather-data/how-we-process-integrated-surface-database-historical-weather-data/\n",
    "\n",
    "    nyweather['TMP'] = nyweather['TMP'].astype(str)\n",
    "    nyweather['TMP'] = nyweather['TMP'].str.slice(0, -2)\n",
    "    nyweather['TMP'] = nyweather['TMP'].str.replace('+','')\n",
    "    nyweather = nyweather.drop(nyweather[nyweather.TMP == '9999'].index)\n",
    "    nyweather['TMP'] = nyweather['TMP'].astype(int)\n",
    "    nyweather['TMP'] = nyweather['TMP']/10\n",
    "    print('complete part 1')\n",
    "    \n",
    "    # Clean WND column\n",
    "    # Please refer to https://www.weather.gov/pqr/wind\n",
    "    nyweather['WND'] = nyweather['WND'].astype(str)\n",
    "    nyweather = pd.concat([nyweather, nyweather.WND.str.split(',', expand = True)],1)\n",
    "    nyweather = nyweather.rename(columns={3:'wind_speed'})\n",
    "    nyweather['wind_speed'] = nyweather['wind_speed'].astype(int)\n",
    "    nyweather['wind_speed'] = nyweather['wind_speed']/10\n",
    "    nyweather['wind_speed'] = nyweather['wind_speed'].map(to_milesperhour)\n",
    "    \n",
    "    # Engineered a new feature called windy\n",
    "    nyweather['windy'] = nyweather['wind_speed'].apply(lambda x: 'calm' if x < 4 else 'breeze' if x < 12 else \\\n",
    "                                        'moderate breeze' if x < 24 else 'strong breeze' if x < 31 else \\\n",
    "                                        'gale' if x < 63 else 'storm force')\n",
    "    nyweather = nyweather[['DATE', 'SOURCE', 'LATITUDE', 'LONGITUDE', 'ELEVATION', 'NAME', 'WND', 'TMP',\\\n",
    "                           'DEW', 'SLP', 'AA1','AA2', 'wind_speed', 'windy']]\n",
    "    \n",
    "    print('complete part 2')\n",
    "    \n",
    "    # Clean the AA1 column that has precipitation information\n",
    "    nyweather['AA1'] = nyweather['AA1'].fillna('0,0,0,0')\n",
    "    nyweather['AA1'] = nyweather['AA1'].astype(str)\n",
    "    nyweather = pd.concat([nyweather, nyweather.AA1.str.split(',', expand = True)],1)\n",
    "    nyweather = nyweather.rename(columns={1:'precipitation'})\n",
    "    nyweather['precipitation'] = nyweather['precipitation'].astype(int)\n",
    "    nyweather['precipitation'] = nyweather['precipitation']/10\n",
    "    nyweather = nyweather[['DATE', 'SOURCE', 'LATITUDE', 'LONGITUDE', 'ELEVATION', 'NAME', 'WND', 'TMP',\\\n",
    "                           'DEW', 'SLP', 'wind_speed', 'windy', 'precipitation']]\n",
    "    \n",
    "    # Engineered a new feature called rainy\n",
    "    nyweather['rainy'] = nyweather['precipitation'].apply(lambda x: 'rainy' if x > 0 else 'not rainy')\n",
    "    \n",
    "    \n",
    "    # Clean DATE column\n",
    "    # Generate new features - month, date, hour and month2\n",
    "    nyweather['DATE'] = nyweather['DATE'].apply(lambda x: datetime.strptime(x, '%Y-%m-%d %H:%M:%S'))\n",
    "    nyweather['month'] = nyweather.DATE.dt.month\n",
    "    nyweather['date'] = nyweather.DATE.dt.date\n",
    "    nyweather['hour'] = nyweather.DATE.dt.hour\n",
    "    nyweather['month2'] = nyweather.DATE.dt.month.apply(lambda x: 'Jan' if x == 1 else 'Feb' if x == 2 else \\\n",
    "    'Mar' if x == 3 else 'Apr' if x == 4 else 'May' if x == 5 else 'Jun' if x == 6 else 'Jul' if x == 7 else \\\n",
    "    'Aug' if x == 8 else 'Sep' if x == 9 else 'Oct' if x == 10 else 'Nov' if x == 11 else 'Dec' )\n",
    "    \n",
    "    # Generate cleaned dataframe\n",
    "    return nyweather"
   ]
  },
  {
   "cell_type": "code",
   "execution_count": 7,
   "metadata": {},
   "outputs": [
    {
     "name": "stdout",
     "output_type": "stream",
     "text": [
      "complete part 1\n",
      "complete part 2\n"
     ]
    }
   ],
   "source": [
    "weather_df = clean_weatherdata(weather_df)"
   ]
  },
  {
   "cell_type": "code",
   "execution_count": 8,
   "metadata": {},
   "outputs": [
    {
     "data": {
      "text/html": [
       "<div>\n",
       "<style scoped>\n",
       "    .dataframe tbody tr th:only-of-type {\n",
       "        vertical-align: middle;\n",
       "    }\n",
       "\n",
       "    .dataframe tbody tr th {\n",
       "        vertical-align: top;\n",
       "    }\n",
       "\n",
       "    .dataframe thead th {\n",
       "        text-align: right;\n",
       "    }\n",
       "</style>\n",
       "<table border=\"1\" class=\"dataframe\">\n",
       "  <thead>\n",
       "    <tr style=\"text-align: right;\">\n",
       "      <th></th>\n",
       "      <th>dock_id</th>\n",
       "      <th>dock_name</th>\n",
       "      <th>date</th>\n",
       "      <th>hour</th>\n",
       "      <th>minute</th>\n",
       "      <th>avail_bikes</th>\n",
       "      <th>avail_docks</th>\n",
       "      <th>tot_docks</th>\n",
       "      <th>_lat</th>\n",
       "      <th>_long</th>\n",
       "      <th>in_service</th>\n",
       "      <th>status_key</th>\n",
       "      <th>dock_status</th>\n",
       "      <th>time</th>\n",
       "      <th>dayofweek</th>\n",
       "      <th>dayofweek2</th>\n",
       "      <th>season</th>\n",
       "      <th>Sample_num</th>\n",
       "    </tr>\n",
       "  </thead>\n",
       "  <tbody>\n",
       "    <tr>\n",
       "      <th>0</th>\n",
       "      <td>72</td>\n",
       "      <td>W 52 St &amp; 11 Ave</td>\n",
       "      <td>2015-03-01</td>\n",
       "      <td>22</td>\n",
       "      <td>13</td>\n",
       "      <td>9</td>\n",
       "      <td>30</td>\n",
       "      <td>39</td>\n",
       "      <td>40.767272</td>\n",
       "      <td>-73.993929</td>\n",
       "      <td>1</td>\n",
       "      <td>1</td>\n",
       "      <td>Empty Alert</td>\n",
       "      <td>22:13</td>\n",
       "      <td>6</td>\n",
       "      <td>Sunday</td>\n",
       "      <td>spring</td>\n",
       "      <td>0</td>\n",
       "    </tr>\n",
       "    <tr>\n",
       "      <th>1</th>\n",
       "      <td>72</td>\n",
       "      <td>W 52 St &amp; 11 Ave</td>\n",
       "      <td>2015-03-02</td>\n",
       "      <td>19</td>\n",
       "      <td>37</td>\n",
       "      <td>6</td>\n",
       "      <td>33</td>\n",
       "      <td>39</td>\n",
       "      <td>40.767272</td>\n",
       "      <td>-73.993929</td>\n",
       "      <td>1</td>\n",
       "      <td>1</td>\n",
       "      <td>Empty Alert</td>\n",
       "      <td>19:37</td>\n",
       "      <td>0</td>\n",
       "      <td>Monday</td>\n",
       "      <td>spring</td>\n",
       "      <td>0</td>\n",
       "    </tr>\n",
       "    <tr>\n",
       "      <th>2</th>\n",
       "      <td>72</td>\n",
       "      <td>W 52 St &amp; 11 Ave</td>\n",
       "      <td>2015-03-03</td>\n",
       "      <td>8</td>\n",
       "      <td>41</td>\n",
       "      <td>8</td>\n",
       "      <td>31</td>\n",
       "      <td>39</td>\n",
       "      <td>40.767272</td>\n",
       "      <td>-73.993929</td>\n",
       "      <td>1</td>\n",
       "      <td>1</td>\n",
       "      <td>Empty Alert</td>\n",
       "      <td>8:41</td>\n",
       "      <td>1</td>\n",
       "      <td>Tuesday</td>\n",
       "      <td>spring</td>\n",
       "      <td>0</td>\n",
       "    </tr>\n",
       "    <tr>\n",
       "      <th>3</th>\n",
       "      <td>72</td>\n",
       "      <td>W 52 St &amp; 11 Ave</td>\n",
       "      <td>2015-03-04</td>\n",
       "      <td>8</td>\n",
       "      <td>28</td>\n",
       "      <td>8</td>\n",
       "      <td>31</td>\n",
       "      <td>39</td>\n",
       "      <td>40.767272</td>\n",
       "      <td>-73.993929</td>\n",
       "      <td>1</td>\n",
       "      <td>1</td>\n",
       "      <td>Empty Alert</td>\n",
       "      <td>8:28</td>\n",
       "      <td>2</td>\n",
       "      <td>Wednesday</td>\n",
       "      <td>spring</td>\n",
       "      <td>0</td>\n",
       "    </tr>\n",
       "    <tr>\n",
       "      <th>4</th>\n",
       "      <td>72</td>\n",
       "      <td>W 52 St &amp; 11 Ave</td>\n",
       "      <td>2015-03-04</td>\n",
       "      <td>12</td>\n",
       "      <td>13</td>\n",
       "      <td>3</td>\n",
       "      <td>36</td>\n",
       "      <td>39</td>\n",
       "      <td>40.767272</td>\n",
       "      <td>-73.993929</td>\n",
       "      <td>1</td>\n",
       "      <td>1</td>\n",
       "      <td>Empty Alert</td>\n",
       "      <td>12:13</td>\n",
       "      <td>2</td>\n",
       "      <td>Wednesday</td>\n",
       "      <td>spring</td>\n",
       "      <td>0</td>\n",
       "    </tr>\n",
       "    <tr>\n",
       "      <th>...</th>\n",
       "      <td>...</td>\n",
       "      <td>...</td>\n",
       "      <td>...</td>\n",
       "      <td>...</td>\n",
       "      <td>...</td>\n",
       "      <td>...</td>\n",
       "      <td>...</td>\n",
       "      <td>...</td>\n",
       "      <td>...</td>\n",
       "      <td>...</td>\n",
       "      <td>...</td>\n",
       "      <td>...</td>\n",
       "      <td>...</td>\n",
       "      <td>...</td>\n",
       "      <td>...</td>\n",
       "      <td>...</td>\n",
       "      <td>...</td>\n",
       "      <td>...</td>\n",
       "    </tr>\n",
       "    <tr>\n",
       "      <th>322914</th>\n",
       "      <td>3533</td>\n",
       "      <td>St. Nicholas Ave &amp; W 126 St</td>\n",
       "      <td>2019-01-29</td>\n",
       "      <td>13</td>\n",
       "      <td>43</td>\n",
       "      <td>8</td>\n",
       "      <td>26</td>\n",
       "      <td>34</td>\n",
       "      <td>40.811432</td>\n",
       "      <td>-73.951878</td>\n",
       "      <td>1</td>\n",
       "      <td>1</td>\n",
       "      <td>Empty Alert</td>\n",
       "      <td>13:43</td>\n",
       "      <td>1</td>\n",
       "      <td>Tuesday</td>\n",
       "      <td>winter</td>\n",
       "      <td>3</td>\n",
       "    </tr>\n",
       "    <tr>\n",
       "      <th>322915</th>\n",
       "      <td>3533</td>\n",
       "      <td>St. Nicholas Ave &amp; W 126 St</td>\n",
       "      <td>2019-01-30</td>\n",
       "      <td>4</td>\n",
       "      <td>59</td>\n",
       "      <td>8</td>\n",
       "      <td>26</td>\n",
       "      <td>34</td>\n",
       "      <td>40.811432</td>\n",
       "      <td>-73.951878</td>\n",
       "      <td>1</td>\n",
       "      <td>1</td>\n",
       "      <td>Empty Alert</td>\n",
       "      <td>4:59</td>\n",
       "      <td>2</td>\n",
       "      <td>Wednesday</td>\n",
       "      <td>winter</td>\n",
       "      <td>3</td>\n",
       "    </tr>\n",
       "    <tr>\n",
       "      <th>322916</th>\n",
       "      <td>3534</td>\n",
       "      <td>Frederick Douglass Blvd &amp; W 117 St</td>\n",
       "      <td>2019-01-16</td>\n",
       "      <td>14</td>\n",
       "      <td>42</td>\n",
       "      <td>4</td>\n",
       "      <td>33</td>\n",
       "      <td>39</td>\n",
       "      <td>40.805159</td>\n",
       "      <td>-73.954692</td>\n",
       "      <td>1</td>\n",
       "      <td>1</td>\n",
       "      <td>Empty Alert</td>\n",
       "      <td>14:42</td>\n",
       "      <td>2</td>\n",
       "      <td>Wednesday</td>\n",
       "      <td>winter</td>\n",
       "      <td>3</td>\n",
       "    </tr>\n",
       "    <tr>\n",
       "      <th>322917</th>\n",
       "      <td>3534</td>\n",
       "      <td>Frederick Douglass Blvd &amp; W 117 St</td>\n",
       "      <td>2019-01-18</td>\n",
       "      <td>23</td>\n",
       "      <td>46</td>\n",
       "      <td>20</td>\n",
       "      <td>18</td>\n",
       "      <td>39</td>\n",
       "      <td>40.805159</td>\n",
       "      <td>-73.954692</td>\n",
       "      <td>1</td>\n",
       "      <td>1</td>\n",
       "      <td>Healthy</td>\n",
       "      <td>23:46</td>\n",
       "      <td>4</td>\n",
       "      <td>Friday</td>\n",
       "      <td>winter</td>\n",
       "      <td>3</td>\n",
       "    </tr>\n",
       "    <tr>\n",
       "      <th>322918</th>\n",
       "      <td>3534</td>\n",
       "      <td>Frederick Douglass Blvd &amp; W 117 St</td>\n",
       "      <td>2019-01-21</td>\n",
       "      <td>3</td>\n",
       "      <td>25</td>\n",
       "      <td>24</td>\n",
       "      <td>14</td>\n",
       "      <td>39</td>\n",
       "      <td>40.805159</td>\n",
       "      <td>-73.954692</td>\n",
       "      <td>1</td>\n",
       "      <td>1</td>\n",
       "      <td>Healthy</td>\n",
       "      <td>3:25</td>\n",
       "      <td>0</td>\n",
       "      <td>Monday</td>\n",
       "      <td>winter</td>\n",
       "      <td>3</td>\n",
       "    </tr>\n",
       "  </tbody>\n",
       "</table>\n",
       "<p>1294188 rows × 18 columns</p>\n",
       "</div>"
      ],
      "text/plain": [
       "        dock_id                           dock_name       date  hour  minute  \\\n",
       "0            72                    W 52 St & 11 Ave 2015-03-01    22      13   \n",
       "1            72                    W 52 St & 11 Ave 2015-03-02    19      37   \n",
       "2            72                    W 52 St & 11 Ave 2015-03-03     8      41   \n",
       "3            72                    W 52 St & 11 Ave 2015-03-04     8      28   \n",
       "4            72                    W 52 St & 11 Ave 2015-03-04    12      13   \n",
       "...         ...                                 ...        ...   ...     ...   \n",
       "322914     3533         St. Nicholas Ave & W 126 St 2019-01-29    13      43   \n",
       "322915     3533         St. Nicholas Ave & W 126 St 2019-01-30     4      59   \n",
       "322916     3534  Frederick Douglass Blvd & W 117 St 2019-01-16    14      42   \n",
       "322917     3534  Frederick Douglass Blvd & W 117 St 2019-01-18    23      46   \n",
       "322918     3534  Frederick Douglass Blvd & W 117 St 2019-01-21     3      25   \n",
       "\n",
       "        avail_bikes  avail_docks  tot_docks       _lat      _long  in_service  \\\n",
       "0                 9           30         39  40.767272 -73.993929           1   \n",
       "1                 6           33         39  40.767272 -73.993929           1   \n",
       "2                 8           31         39  40.767272 -73.993929           1   \n",
       "3                 8           31         39  40.767272 -73.993929           1   \n",
       "4                 3           36         39  40.767272 -73.993929           1   \n",
       "...             ...          ...        ...        ...        ...         ...   \n",
       "322914            8           26         34  40.811432 -73.951878           1   \n",
       "322915            8           26         34  40.811432 -73.951878           1   \n",
       "322916            4           33         39  40.805159 -73.954692           1   \n",
       "322917           20           18         39  40.805159 -73.954692           1   \n",
       "322918           24           14         39  40.805159 -73.954692           1   \n",
       "\n",
       "       status_key  dock_status   time  dayofweek dayofweek2  season  \\\n",
       "0               1  Empty Alert  22:13          6     Sunday  spring   \n",
       "1               1  Empty Alert  19:37          0     Monday  spring   \n",
       "2               1  Empty Alert   8:41          1    Tuesday  spring   \n",
       "3               1  Empty Alert   8:28          2  Wednesday  spring   \n",
       "4               1  Empty Alert  12:13          2  Wednesday  spring   \n",
       "...           ...          ...    ...        ...        ...     ...   \n",
       "322914          1  Empty Alert  13:43          1    Tuesday  winter   \n",
       "322915          1  Empty Alert   4:59          2  Wednesday  winter   \n",
       "322916          1  Empty Alert  14:42          2  Wednesday  winter   \n",
       "322917          1      Healthy  23:46          4     Friday  winter   \n",
       "322918          1      Healthy   3:25          0     Monday  winter   \n",
       "\n",
       "        Sample_num  \n",
       "0                0  \n",
       "1                0  \n",
       "2                0  \n",
       "3                0  \n",
       "4                0  \n",
       "...            ...  \n",
       "322914           3  \n",
       "322915           3  \n",
       "322916           3  \n",
       "322917           3  \n",
       "322918           3  \n",
       "\n",
       "[1294188 rows x 18 columns]"
      ]
     },
     "execution_count": 8,
     "metadata": {},
     "output_type": "execute_result"
    }
   ],
   "source": [
    "dock_sample"
   ]
  },
  {
   "cell_type": "code",
   "execution_count": 47,
   "metadata": {},
   "outputs": [],
   "source": [
    "dock_sample2 = dock_sample.groupby(['dock_status'])[['dock_status']].count()"
   ]
  },
  {
   "cell_type": "code",
   "execution_count": 48,
   "metadata": {},
   "outputs": [
    {
     "data": {
      "text/html": [
       "<div>\n",
       "<style scoped>\n",
       "    .dataframe tbody tr th:only-of-type {\n",
       "        vertical-align: middle;\n",
       "    }\n",
       "\n",
       "    .dataframe tbody tr th {\n",
       "        vertical-align: top;\n",
       "    }\n",
       "\n",
       "    .dataframe thead th {\n",
       "        text-align: right;\n",
       "    }\n",
       "</style>\n",
       "<table border=\"1\" class=\"dataframe\">\n",
       "  <thead>\n",
       "    <tr style=\"text-align: right;\">\n",
       "      <th></th>\n",
       "      <th>dock_status</th>\n",
       "    </tr>\n",
       "    <tr>\n",
       "      <th>dock_status</th>\n",
       "      <th></th>\n",
       "    </tr>\n",
       "  </thead>\n",
       "  <tbody>\n",
       "    <tr>\n",
       "      <th>Empty Alert</th>\n",
       "      <td>634655</td>\n",
       "    </tr>\n",
       "    <tr>\n",
       "      <th>Full Alert</th>\n",
       "      <td>234890</td>\n",
       "    </tr>\n",
       "    <tr>\n",
       "      <th>Healthy</th>\n",
       "      <td>424643</td>\n",
       "    </tr>\n",
       "  </tbody>\n",
       "</table>\n",
       "</div>"
      ],
      "text/plain": [
       "             dock_status\n",
       "dock_status             \n",
       "Empty Alert       634655\n",
       "Full Alert        234890\n",
       "Healthy           424643"
      ]
     },
     "execution_count": 48,
     "metadata": {},
     "output_type": "execute_result"
    }
   ],
   "source": [
    "dock_sample2"
   ]
  },
  {
   "cell_type": "code",
   "execution_count": null,
   "metadata": {},
   "outputs": [],
   "source": []
  },
  {
   "cell_type": "code",
   "execution_count": null,
   "metadata": {},
   "outputs": [],
   "source": []
  },
  {
   "cell_type": "code",
   "execution_count": 18,
   "metadata": {},
   "outputs": [],
   "source": [
    "daily_temp = weather_df.groupby([\"date\", \"hour\"]).agg({\n",
    "  \"TMP\" : ['min', 'max', 'mean'], \n",
    "  \"wind_speed\" : [\"min\", 'max', 'mean'], \n",
    "  \"precipitation\" : [\"sum\"]\n",
    "  }).reset_index()\n",
    "daily_temp.columns = [\"_\".join(x) for x in daily_temp.columns.ravel()]\n",
    "daily_temp = daily_temp.rename(columns = {'date_': 'date', 'hour_':'hour'})"
   ]
  },
  {
   "cell_type": "code",
   "execution_count": 19,
   "metadata": {},
   "outputs": [],
   "source": [
    "dock_sample['date'] = pd.to_datetime(dock_sample['date'])"
   ]
  },
  {
   "cell_type": "code",
   "execution_count": 11,
   "metadata": {},
   "outputs": [
    {
     "data": {
      "text/plain": [
       "date                  object\n",
       "hour                   int64\n",
       "TMP_min              float64\n",
       "TMP_max              float64\n",
       "TMP_mean             float64\n",
       "wind_speed_min       float64\n",
       "wind_speed_max       float64\n",
       "wind_speed_mean      float64\n",
       "precipitation_sum    float64\n",
       "dtype: object"
      ]
     },
     "execution_count": 11,
     "metadata": {},
     "output_type": "execute_result"
    }
   ],
   "source": [
    "daily_temp.dtypes"
   ]
  },
  {
   "cell_type": "code",
   "execution_count": 20,
   "metadata": {},
   "outputs": [],
   "source": [
    "daily_temp['date'] = pd.to_datetime(daily_temp['date'])"
   ]
  },
  {
   "cell_type": "code",
   "execution_count": 21,
   "metadata": {},
   "outputs": [],
   "source": [
    "combined = dock_sample.merge(daily_temp, on = ['date','hour'], how = 'inner')"
   ]
  },
  {
   "cell_type": "code",
   "execution_count": 22,
   "metadata": {},
   "outputs": [],
   "source": [
    "pd.set_option('display.max_columns', None)"
   ]
  },
  {
   "cell_type": "code",
   "execution_count": 26,
   "metadata": {},
   "outputs": [],
   "source": [
    "# Feature Engineering\n",
    "combined['min'] = combined['minute'].apply(lambda x: 0 if x < 30 else 30)\n",
    "combined['season2'] = combined['season'].apply(lambda x: 1 if x == 'spring' else 2 if x == 'summer' else \\\n",
    "                                             3 if x == 'fall' else 4)"
   ]
  },
  {
   "cell_type": "code",
   "execution_count": 46,
   "metadata": {},
   "outputs": [],
   "source": [
    "# Random Forest Classifier"
   ]
  },
  {
   "cell_type": "code",
   "execution_count": 27,
   "metadata": {},
   "outputs": [],
   "source": [
    "X = combined[['dock_id', 'hour', 'min', 'season2', 'dayofweek', 'TMP_mean']]"
   ]
  },
  {
   "cell_type": "code",
   "execution_count": 28,
   "metadata": {},
   "outputs": [],
   "source": [
    "y = combined['dock_status']"
   ]
  },
  {
   "cell_type": "code",
   "execution_count": null,
   "metadata": {},
   "outputs": [],
   "source": []
  },
  {
   "cell_type": "code",
   "execution_count": null,
   "metadata": {},
   "outputs": [],
   "source": []
  },
  {
   "cell_type": "code",
   "execution_count": null,
   "metadata": {},
   "outputs": [],
   "source": []
  },
  {
   "cell_type": "code",
   "execution_count": 29,
   "metadata": {},
   "outputs": [],
   "source": [
    "X_train, X_test, y_train, y_test = train_test_split(X, y, test_size=0.3) # 80% training and 20% test"
   ]
  },
  {
   "cell_type": "code",
   "execution_count": 55,
   "metadata": {},
   "outputs": [],
   "source": [
    "clf=RandomForestClassifier(bootstrap=True, n_estimators=90, max_depth = 22, criterion = 'gini', class_weight = 'balanced')"
   ]
  },
  {
   "cell_type": "code",
   "execution_count": 56,
   "metadata": {},
   "outputs": [
    {
     "data": {
      "text/plain": [
       "RandomForestClassifier(class_weight='balanced', max_depth=22, n_estimators=90)"
      ]
     },
     "execution_count": 56,
     "metadata": {},
     "output_type": "execute_result"
    }
   ],
   "source": [
    "clf.fit(X_train,y_train)"
   ]
  },
  {
   "cell_type": "code",
   "execution_count": 57,
   "metadata": {},
   "outputs": [],
   "source": [
    "y_pred=clf.predict(X_test)"
   ]
  },
  {
   "cell_type": "code",
   "execution_count": 58,
   "metadata": {},
   "outputs": [
    {
     "name": "stdout",
     "output_type": "stream",
     "text": [
      "Accuracy: 0.5456713384289866\n"
     ]
    }
   ],
   "source": [
    "print(\"Accuracy:\",metrics.accuracy_score(y_test, y_pred))"
   ]
  },
  {
   "cell_type": "code",
   "execution_count": 59,
   "metadata": {},
   "outputs": [
    {
     "name": "stdout",
     "output_type": "stream",
     "text": [
      "The training error is: 0.22089\n",
      "The test     error is: 0.43844\n"
     ]
    }
   ],
   "source": [
    "randomForest = ensemble.RandomForestClassifier()\n",
    "\n",
    "# fit RF model on training set\n",
    "randomForest.set_params(random_state=0)\n",
    "\n",
    "randomForest.fit(X_train, y_train) \n",
    "\n",
    "print(\"The training error is: %.5f\" % (1 - randomForest.score(X_train, y_train)))\n",
    "print(\"The test     error is: %.5f\" % (1 - randomForest.score(X_test, y_test)))"
   ]
  },
  {
   "cell_type": "code",
   "execution_count": 60,
   "metadata": {},
   "outputs": [],
   "source": [
    "# set the parameter grid\n",
    "grid_para_forest = {\n",
    "    'criterion': ['gini', 'entropy'],\n",
    "    'max_depth': range(1, 31),\n",
    "    'n_estimators': range(10, 110, 10)\n",
    "}"
   ]
  },
  {
   "cell_type": "code",
   "execution_count": 34,
   "metadata": {},
   "outputs": [
    {
     "name": "stderr",
     "output_type": "stream",
     "text": [
      "/Users/danielchoy/opt/anaconda3/lib/python3.7/site-packages/joblib/externals/loky/process_executor.py:706: UserWarning: A worker stopped while some jobs were given to the executor. This can be caused by a too short worker timeout or by a memory leak.\n",
      "  \"timeout or by a memory leak.\", UserWarning\n"
     ]
    },
    {
     "name": "stdout",
     "output_type": "stream",
     "text": [
      "CPU times: user 7min 16s, sys: 1min 7s, total: 8min 23s\n",
      "Wall time: 8h 24min 54s\n"
     ]
    },
    {
     "data": {
      "text/plain": [
       "GridSearchCV(cv=5, estimator=RandomForestClassifier(random_state=0), n_jobs=-1,\n",
       "             param_grid={'criterion': ['gini', 'entropy'],\n",
       "                         'max_depth': range(1, 31),\n",
       "                         'n_estimators': range(10, 110, 10)},\n",
       "             scoring='accuracy')"
      ]
     },
     "execution_count": 34,
     "metadata": {},
     "output_type": "execute_result"
    }
   ],
   "source": [
    "# run the RF classifier through the grid search\n",
    "grid_search_forest = ms.GridSearchCV(randomForest, grid_para_forest, scoring='accuracy', cv=5, n_jobs=-1)\n",
    "%time grid_search_forest.fit(X_train, y_train)"
   ]
  },
  {
   "cell_type": "code",
   "execution_count": 35,
   "metadata": {},
   "outputs": [
    {
     "data": {
      "text/plain": [
       "{'criterion': 'gini', 'max_depth': 22, 'n_estimators': 90}"
      ]
     },
     "execution_count": 35,
     "metadata": {},
     "output_type": "execute_result"
    }
   ],
   "source": [
    "# get the best parameters\n",
    "grid_search_forest.best_params_"
   ]
  },
  {
   "cell_type": "code",
   "execution_count": 36,
   "metadata": {},
   "outputs": [
    {
     "data": {
      "text/plain": [
       "0.5614656451184326"
      ]
     },
     "execution_count": 36,
     "metadata": {},
     "output_type": "execute_result"
    }
   ],
   "source": [
    "# get the best score\n",
    "grid_search_forest.best_score_"
   ]
  },
  {
   "cell_type": "code",
   "execution_count": 37,
   "metadata": {},
   "outputs": [
    {
     "name": "stdout",
     "output_type": "stream",
     "text": [
      "The training error is: 0.13883\n",
      "The test     error is: 0.43265\n"
     ]
    }
   ],
   "source": [
    "# get the training/test errors\n",
    "print(\"The training error is: %.5f\" % (1 - grid_search_forest.best_estimator_.score(X_train, y_train)))\n",
    "print(\"The test     error is: %.5f\" % (1 - grid_search_forest.best_estimator_.score(X_test, y_test)))"
   ]
  },
  {
   "cell_type": "code",
   "execution_count": 34,
   "metadata": {},
   "outputs": [],
   "source": [
    "import joblib"
   ]
  },
  {
   "cell_type": "code",
   "execution_count": 61,
   "metadata": {},
   "outputs": [
    {
     "data": {
      "text/plain": [
       "['rf.save']"
      ]
     },
     "execution_count": 61,
     "metadata": {},
     "output_type": "execute_result"
    }
   ],
   "source": [
    "filename = 'rf.save'\n",
    "joblib.dump(clf, filename)"
   ]
  },
  {
   "cell_type": "code",
   "execution_count": null,
   "metadata": {},
   "outputs": [],
   "source": [
    "# (3)\n",
    "feature_importance = list(zip(oj_data.columns, randomForest.feature_importances_))\n",
    "dtype = [('feature', 'S10'), ('importance', 'float')]\n",
    "feature_importance = np.array(feature_importance, dtype=dtype)\n",
    "feature_sort = np.sort(feature_importance, order='importance')[::-1]\n",
    "[i for (i, j) in feature_sort[0:5]]"
   ]
  }
 ],
 "metadata": {
  "kernelspec": {
   "display_name": "Python 3",
   "language": "python",
   "name": "python3"
  },
  "language_info": {
   "codemirror_mode": {
    "name": "ipython",
    "version": 3
   },
   "file_extension": ".py",
   "mimetype": "text/x-python",
   "name": "python",
   "nbconvert_exporter": "python",
   "pygments_lexer": "ipython3",
   "version": "3.7.6"
  },
  "toc": {
   "base_numbering": 1,
   "nav_menu": {},
   "number_sections": false,
   "sideBar": true,
   "skip_h1_title": false,
   "title_cell": "Table of Contents",
   "title_sidebar": "Contents",
   "toc_cell": false,
   "toc_position": {},
   "toc_section_display": true,
   "toc_window_display": false
  }
 },
 "nbformat": 4,
 "nbformat_minor": 4
}
