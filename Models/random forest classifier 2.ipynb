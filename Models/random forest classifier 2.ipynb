{
 "cells": [
  {
   "cell_type": "code",
   "execution_count": 1,
   "metadata": {},
   "outputs": [],
   "source": [
    "import pandas as pd\n",
    "import random\n",
    "import numpy as np\n",
    "from joblib import load\n",
    "import glob\n",
    "from datetime import datetime\n",
    "import seaborn as sns\n",
    "import matplotlib.pyplot as plt\n",
    "from scipy.stats import zscore\n",
    "from scipy import stats\n",
    "from sklearn.model_selection import train_test_split\n",
    "from sklearn.ensemble import RandomForestClassifier\n",
    "from sklearn import metrics\n",
    "import random\n",
    "import sklearn.model_selection as ms\n",
    "from sklearn import ensemble"
   ]
  },
  {
   "cell_type": "code",
   "execution_count": 12,
   "metadata": {},
   "outputs": [
    {
     "name": "stderr",
     "output_type": "stream",
     "text": [
      "/Users/danielchoy/opt/anaconda3/lib/python3.7/site-packages/IPython/core/interactiveshell.py:3063: DtypeWarning: Columns (43,44,48,53,57,58) have mixed types.Specify dtype option on import or set low_memory=False.\n",
      "  interactivity=interactivity, compiler=compiler, result=result)\n",
      "/Users/danielchoy/opt/anaconda3/lib/python3.7/site-packages/IPython/core/interactiveshell.py:3063: DtypeWarning: Columns (45,46,50,55,59,88,90) have mixed types.Specify dtype option on import or set low_memory=False.\n",
      "  interactivity=interactivity, compiler=compiler, result=result)\n",
      "/Users/danielchoy/opt/anaconda3/lib/python3.7/site-packages/IPython/core/interactiveshell.py:3063: DtypeWarning: Columns (42,43,44,45,56,57,64,90) have mixed types.Specify dtype option on import or set low_memory=False.\n",
      "  interactivity=interactivity, compiler=compiler, result=result)\n",
      "/Users/danielchoy/opt/anaconda3/lib/python3.7/site-packages/IPython/core/interactiveshell.py:3063: DtypeWarning: Columns (42,43,44,45,49,54,58,59) have mixed types.Specify dtype option on import or set low_memory=False.\n",
      "  interactivity=interactivity, compiler=compiler, result=result)\n",
      "/Users/danielchoy/opt/anaconda3/lib/python3.7/site-packages/IPython/core/interactiveshell.py:3063: DtypeWarning: Columns (44,53,86,87) have mixed types.Specify dtype option on import or set low_memory=False.\n",
      "  interactivity=interactivity, compiler=compiler, result=result)\n",
      "/Users/danielchoy/opt/anaconda3/lib/python3.7/site-packages/IPython/core/interactiveshell.py:3063: DtypeWarning: Columns (43,47,52,56,87,88) have mixed types.Specify dtype option on import or set low_memory=False.\n",
      "  interactivity=interactivity, compiler=compiler, result=result)\n",
      "/Users/danielchoy/opt/anaconda3/lib/python3.7/site-packages/IPython/core/interactiveshell.py:3063: DtypeWarning: Columns (44,45,58,89) have mixed types.Specify dtype option on import or set low_memory=False.\n",
      "  interactivity=interactivity, compiler=compiler, result=result)\n",
      "/Users/danielchoy/opt/anaconda3/lib/python3.7/site-packages/IPython/core/interactiveshell.py:3063: DtypeWarning: Columns (44,45,46) have mixed types.Specify dtype option on import or set low_memory=False.\n",
      "  interactivity=interactivity, compiler=compiler, result=result)\n"
     ]
    }
   ],
   "source": [
    "path = '../data/weatherdata'\n",
    "all_files = glob.glob(path + \"/*.csv\")\n",
    "\n",
    "li = []\n",
    "\n",
    "for filename in all_files:\n",
    "    df = pd.read_csv(filename, index_col=None, header=0)\n",
    "    li.append(df)\n",
    "\n",
    "weather_df = pd.concat(li, axis=0, ignore_index=True)"
   ]
  },
  {
   "cell_type": "code",
   "execution_count": 9,
   "metadata": {},
   "outputs": [],
   "source": [
    "def to_milesperhour(num):\n",
    "    \"\"\"A function to convert wind speed from meters/second to miles/hour. The conversion is done by using the \n",
    "    above formula\n",
    "    \"\"\"\n",
    "    convert = (num * 3600)/(1000 * 1.6)\n",
    "    return convert"
   ]
  },
  {
   "cell_type": "code",
   "execution_count": 10,
   "metadata": {},
   "outputs": [],
   "source": [
    "def clean_weatherdata(df):\n",
    "    \"\"\"This function will clean the weather data from any given year or years (the merged weather data)\n",
    "    Weather data was obtained from NOAA( National Oceanic and Atmospheric Administration ) \n",
    "    https://www.ncei.noaa.gov/data/global-hourly/archive/csv/.\n",
    "    Additional websites were also used as references in order to interpret the numbers from the data and to\n",
    "    engineer new features such as windy and rainy. The column windy and its values (breeze, gale, force...)\n",
    "    were all based on information from NOAA https://www.weather.gov/pqr/wind. \n",
    "    https://www.visualcrossing.com/resources/documentation/weather-data/how-we-process-integrated-surface-database-historical-weather-data/\n",
    "    was used to interpret the numbers of the data.\n",
    "    \"\"\"\n",
    "    # Make a copy\n",
    "    nyweather= df.copy()\n",
    "    \n",
    "    # Select the columns that will be used\n",
    "    nyweather = nyweather[['DATE', 'SOURCE', 'LATITUDE', 'LONGITUDE', 'ELEVATION', 'NAME', 'WND', 'TMP',\n",
    "             'DEW', 'SLP', 'AA1','AA2']]\n",
    "    \n",
    "    # Clean DATE column\n",
    "    nyweather['DATE'] = nyweather['DATE'].str.replace('T', ' ')\n",
    "    \n",
    "    # Clean TMP (temperature) column. Please refer to \n",
    "    # Interpreting the numbers are based on \n",
    "    #https://www.visualcrossing.com/resources/documentation/weather-data/how-we-process-integrated-surface-database-historical-weather-data/\n",
    "\n",
    "    nyweather['TMP'] = nyweather['TMP'].astype(str)\n",
    "    nyweather['TMP'] = nyweather['TMP'].str.slice(0, -2)\n",
    "    nyweather['TMP'] = nyweather['TMP'].str.replace('+','')\n",
    "    nyweather = nyweather.drop(nyweather[nyweather.TMP == '9999'].index)\n",
    "    nyweather['TMP'] = nyweather['TMP'].astype(int)\n",
    "    nyweather['TMP'] = nyweather['TMP']/10\n",
    "    print('complete part 1')\n",
    "    \n",
    "    # Clean WND column\n",
    "    # Please refer to https://www.weather.gov/pqr/wind\n",
    "    nyweather['WND'] = nyweather['WND'].astype(str)\n",
    "    nyweather = pd.concat([nyweather, nyweather.WND.str.split(',', expand = True)],1)\n",
    "    nyweather = nyweather.rename(columns={3:'wind_speed'})\n",
    "    nyweather['wind_speed'] = nyweather['wind_speed'].astype(int)\n",
    "    nyweather['wind_speed'] = nyweather['wind_speed']/10\n",
    "    nyweather['wind_speed'] = nyweather['wind_speed'].map(to_milesperhour)\n",
    "    \n",
    "    # Engineered a new feature called windy\n",
    "    nyweather['windy'] = nyweather['wind_speed'].apply(lambda x: 'calm' if x < 4 else 'breeze' if x < 12 else \\\n",
    "                                        'moderate breeze' if x < 24 else 'strong breeze' if x < 31 else \\\n",
    "                                        'gale' if x < 63 else 'storm force')\n",
    "    nyweather = nyweather[['DATE', 'SOURCE', 'LATITUDE', 'LONGITUDE', 'ELEVATION', 'NAME', 'WND', 'TMP',\\\n",
    "                           'DEW', 'SLP', 'AA1','AA2', 'wind_speed', 'windy']]\n",
    "    \n",
    "    print('complete part 2')\n",
    "    \n",
    "    # Clean the AA1 column that has precipitation information\n",
    "    nyweather['AA1'] = nyweather['AA1'].fillna('0,0,0,0')\n",
    "    nyweather['AA1'] = nyweather['AA1'].astype(str)\n",
    "    nyweather = pd.concat([nyweather, nyweather.AA1.str.split(',', expand = True)],1)\n",
    "    nyweather = nyweather.rename(columns={1:'precipitation'})\n",
    "    nyweather['precipitation'] = nyweather['precipitation'].astype(int)\n",
    "    nyweather['precipitation'] = nyweather['precipitation']/10\n",
    "    nyweather = nyweather[['DATE', 'SOURCE', 'LATITUDE', 'LONGITUDE', 'ELEVATION', 'NAME', 'WND', 'TMP',\\\n",
    "                           'DEW', 'SLP', 'wind_speed', 'windy', 'precipitation']]\n",
    "    \n",
    "    # Engineered a new feature called rainy\n",
    "    nyweather['rainy'] = nyweather['precipitation'].apply(lambda x: 'rainy' if x > 0 else 'not rainy')\n",
    "    \n",
    "    \n",
    "    # Clean DATE column\n",
    "    # Generate new features - month, date, hour and month2\n",
    "    nyweather['DATE'] = nyweather['DATE'].apply(lambda x: datetime.strptime(x, '%Y-%m-%d %H:%M:%S'))\n",
    "    nyweather['month'] = nyweather.DATE.dt.month\n",
    "    nyweather['date'] = nyweather.DATE.dt.date\n",
    "    nyweather['hour'] = nyweather.DATE.dt.hour\n",
    "    nyweather['month2'] = nyweather.DATE.dt.month.apply(lambda x: 'Jan' if x == 1 else 'Feb' if x == 2 else \\\n",
    "    'Mar' if x == 3 else 'Apr' if x == 4 else 'May' if x == 5 else 'Jun' if x == 6 else 'Jul' if x == 7 else \\\n",
    "    'Aug' if x == 8 else 'Sep' if x == 9 else 'Oct' if x == 10 else 'Nov' if x == 11 else 'Dec' )\n",
    "    \n",
    "    # Generate cleaned dataframe\n",
    "    return nyweather"
   ]
  },
  {
   "cell_type": "code",
   "execution_count": 13,
   "metadata": {},
   "outputs": [
    {
     "name": "stdout",
     "output_type": "stream",
     "text": [
      "complete part 1\n",
      "complete part 2\n"
     ]
    }
   ],
   "source": [
    "weather_df = clean_weatherdata(weather_df)"
   ]
  },
  {
   "cell_type": "code",
   "execution_count": 14,
   "metadata": {},
   "outputs": [],
   "source": [
    "daily_temp = weather_df.groupby([\"date\", \"hour\"]).agg({\n",
    "  \"TMP\" : ['min', 'max', 'mean'], \n",
    "  \"wind_speed\" : [\"min\", 'max', 'mean'], \n",
    "  \"precipitation\" : [\"sum\"]\n",
    "  }).reset_index()\n",
    "daily_temp.columns = [\"_\".join(x) for x in daily_temp.columns.ravel()]\n",
    "daily_temp = daily_temp.rename(columns = {'date_': 'date', 'hour_':'hour'})"
   ]
  },
  {
   "cell_type": "code",
   "execution_count": 54,
   "metadata": {},
   "outputs": [],
   "source": [
    "def downsampling_out():\n",
    "    sampled_list = []\n",
    "    n = 0\n",
    "    while n <= 3:\n",
    "        print(n)\n",
    "        p = 0.01  # 1% of the lines\n",
    "        # keep the header, then take only 1% of lines\n",
    "        # if random from [0,1] interval is greater than 0.01 the row will be skipped\n",
    "        df = pd.read_csv('../data/outgoing.csv.gz', skiprows=lambda i: i>0 and random.random() > p)\n",
    "        df['Sample_num'] = n\n",
    "        sampled_list.append(df)\n",
    "        n += 1\n",
    "    return pd.concat(sampled_list)"
   ]
  },
  {
   "cell_type": "code",
   "execution_count": 62,
   "metadata": {},
   "outputs": [
    {
     "name": "stdout",
     "output_type": "stream",
     "text": [
      "0\n",
      "1\n",
      "2\n",
      "3\n"
     ]
    }
   ],
   "source": [
    "outgoing_sample = downsampling_out()"
   ]
  },
  {
   "cell_type": "code",
   "execution_count": 56,
   "metadata": {},
   "outputs": [],
   "source": [
    "def downsampling_in():\n",
    "    sampled_list = []\n",
    "    n = 0\n",
    "    while n <= 3:\n",
    "        print(n)\n",
    "        p = 0.01  # 1% of the lines\n",
    "        # keep the header, then take only 1% of lines\n",
    "        # if random from [0,1] interval is greater than 0.01 the row will be skipped\n",
    "        df = pd.read_csv('../data/incoming.csv.gz', skiprows=lambda i: i>0 and random.random() > p)\n",
    "        df['Sample_num'] = n\n",
    "        sampled_list.append(df)\n",
    "        n += 1\n",
    "    return pd.concat(sampled_list)"
   ]
  },
  {
   "cell_type": "code",
   "execution_count": 57,
   "metadata": {},
   "outputs": [
    {
     "name": "stdout",
     "output_type": "stream",
     "text": [
      "0\n",
      "1\n",
      "2\n",
      "3\n"
     ]
    }
   ],
   "source": [
    "incoming_sample = downsampling_in()"
   ]
  },
  {
   "cell_type": "code",
   "execution_count": 2,
   "metadata": {},
   "outputs": [],
   "source": [
    "#outgoing = pd.read_csv('../data/outgoing.csv.gz')"
   ]
  },
  {
   "cell_type": "code",
   "execution_count": 3,
   "metadata": {},
   "outputs": [],
   "source": [
    "#incoming = pd.read_csv('../data/incoming.csv.gz')"
   ]
  },
  {
   "cell_type": "code",
   "execution_count": 63,
   "metadata": {},
   "outputs": [],
   "source": [
    "outgoing=outgoing_sample.copy()\n",
    "incoming=incoming_sample.copy()"
   ]
  },
  {
   "cell_type": "code",
   "execution_count": 64,
   "metadata": {},
   "outputs": [],
   "source": [
    "outgoing['date'] = pd.to_datetime(outgoing['start_date'])"
   ]
  },
  {
   "cell_type": "code",
   "execution_count": 65,
   "metadata": {},
   "outputs": [],
   "source": [
    "incoming['date'] = pd.to_datetime(incoming['stop_date'])"
   ]
  },
  {
   "cell_type": "code",
   "execution_count": 66,
   "metadata": {},
   "outputs": [],
   "source": [
    "# Feature Engineering\n",
    "outgoing['month'] = outgoing.date.dt.month\n",
    "outgoing['dayofweek2'] = outgoing['date'].dt.weekday\n",
    "outgoing['season2'] = outgoing['season'].apply(lambda x: 1 if x == 'spring' else 2 if x == 'summer' else \\\n",
    "                                             3 if x == 'fall' else 4)"
   ]
  },
  {
   "cell_type": "code",
   "execution_count": 67,
   "metadata": {},
   "outputs": [],
   "source": [
    "# Feature Engineering\n",
    "incoming['month'] = incoming.date.dt.month\n",
    "incoming['dayofweek2'] = incoming['date'].dt.weekday\n",
    "incoming['season2'] = incoming['season'].apply(lambda x: 1 if x == 'spring' else 2 if x == 'summer' else \\\n",
    "                                             3 if x == 'fall' else 4)"
   ]
  },
  {
   "cell_type": "code",
   "execution_count": 68,
   "metadata": {},
   "outputs": [],
   "source": [
    "outgoing = outgoing[['start station id', 'start_date', 'date', 'month', 'dayofweek2', 'season2', 'start_hour',\\\n",
    "                    'outgoing_bike_count', 'bike_demand']].rename(columns = {'start_hour': 'hour'})"
   ]
  },
  {
   "cell_type": "code",
   "execution_count": 69,
   "metadata": {},
   "outputs": [],
   "source": [
    "incoming = incoming[['end station id', 'stop_date', 'date', 'month', 'dayofweek2', 'season2', 'stop_hour',\\\n",
    "                    'incoming_bike_count', 'dock_demand']].rename(columns = {'stop_hour': 'hour'})"
   ]
  },
  {
   "cell_type": "code",
   "execution_count": 70,
   "metadata": {},
   "outputs": [],
   "source": [
    "daily_temp['date'] = pd.to_datetime(daily_temp['date'])"
   ]
  },
  {
   "cell_type": "code",
   "execution_count": 71,
   "metadata": {},
   "outputs": [],
   "source": [
    "combined_outgoing = outgoing.merge(daily_temp, on = ['date','hour'], how = 'inner')"
   ]
  },
  {
   "cell_type": "code",
   "execution_count": 72,
   "metadata": {},
   "outputs": [],
   "source": [
    "combined_incoming = incoming.merge(daily_temp, on = ['date','hour'], how = 'inner')"
   ]
  },
  {
   "cell_type": "code",
   "execution_count": 73,
   "metadata": {},
   "outputs": [
    {
     "data": {
      "text/html": [
       "<div>\n",
       "<style scoped>\n",
       "    .dataframe tbody tr th:only-of-type {\n",
       "        vertical-align: middle;\n",
       "    }\n",
       "\n",
       "    .dataframe tbody tr th {\n",
       "        vertical-align: top;\n",
       "    }\n",
       "\n",
       "    .dataframe thead th {\n",
       "        text-align: right;\n",
       "    }\n",
       "</style>\n",
       "<table border=\"1\" class=\"dataframe\">\n",
       "  <thead>\n",
       "    <tr style=\"text-align: right;\">\n",
       "      <th></th>\n",
       "      <th>start station id</th>\n",
       "      <th>start_date</th>\n",
       "      <th>date</th>\n",
       "      <th>month</th>\n",
       "      <th>dayofweek2</th>\n",
       "      <th>season2</th>\n",
       "      <th>hour</th>\n",
       "      <th>outgoing_bike_count</th>\n",
       "      <th>bike_demand</th>\n",
       "      <th>TMP_min</th>\n",
       "      <th>TMP_max</th>\n",
       "      <th>TMP_mean</th>\n",
       "      <th>wind_speed_min</th>\n",
       "      <th>wind_speed_max</th>\n",
       "      <th>wind_speed_mean</th>\n",
       "      <th>precipitation_sum</th>\n",
       "    </tr>\n",
       "  </thead>\n",
       "  <tbody>\n",
       "    <tr>\n",
       "      <th>0</th>\n",
       "      <td>72</td>\n",
       "      <td>2013-06-21</td>\n",
       "      <td>2013-06-21</td>\n",
       "      <td>6</td>\n",
       "      <td>4</td>\n",
       "      <td>2</td>\n",
       "      <td>17</td>\n",
       "      <td>6</td>\n",
       "      <td>Medium</td>\n",
       "      <td>27.2</td>\n",
       "      <td>27.2</td>\n",
       "      <td>27.2</td>\n",
       "      <td>9.225</td>\n",
       "      <td>9.225</td>\n",
       "      <td>9.225</td>\n",
       "      <td>0.0</td>\n",
       "    </tr>\n",
       "    <tr>\n",
       "      <th>1</th>\n",
       "      <td>224</td>\n",
       "      <td>2013-06-21</td>\n",
       "      <td>2013-06-21</td>\n",
       "      <td>6</td>\n",
       "      <td>4</td>\n",
       "      <td>2</td>\n",
       "      <td>17</td>\n",
       "      <td>3</td>\n",
       "      <td>Medium</td>\n",
       "      <td>27.2</td>\n",
       "      <td>27.2</td>\n",
       "      <td>27.2</td>\n",
       "      <td>9.225</td>\n",
       "      <td>9.225</td>\n",
       "      <td>9.225</td>\n",
       "      <td>0.0</td>\n",
       "    </tr>\n",
       "    <tr>\n",
       "      <th>2</th>\n",
       "      <td>261</td>\n",
       "      <td>2013-06-21</td>\n",
       "      <td>2013-06-21</td>\n",
       "      <td>6</td>\n",
       "      <td>4</td>\n",
       "      <td>2</td>\n",
       "      <td>17</td>\n",
       "      <td>3</td>\n",
       "      <td>Medium</td>\n",
       "      <td>27.2</td>\n",
       "      <td>27.2</td>\n",
       "      <td>27.2</td>\n",
       "      <td>9.225</td>\n",
       "      <td>9.225</td>\n",
       "      <td>9.225</td>\n",
       "      <td>0.0</td>\n",
       "    </tr>\n",
       "    <tr>\n",
       "      <th>3</th>\n",
       "      <td>316</td>\n",
       "      <td>2013-06-21</td>\n",
       "      <td>2013-06-21</td>\n",
       "      <td>6</td>\n",
       "      <td>4</td>\n",
       "      <td>2</td>\n",
       "      <td>17</td>\n",
       "      <td>14</td>\n",
       "      <td>High</td>\n",
       "      <td>27.2</td>\n",
       "      <td>27.2</td>\n",
       "      <td>27.2</td>\n",
       "      <td>9.225</td>\n",
       "      <td>9.225</td>\n",
       "      <td>9.225</td>\n",
       "      <td>0.0</td>\n",
       "    </tr>\n",
       "    <tr>\n",
       "      <th>4</th>\n",
       "      <td>375</td>\n",
       "      <td>2013-06-21</td>\n",
       "      <td>2013-06-21</td>\n",
       "      <td>6</td>\n",
       "      <td>4</td>\n",
       "      <td>2</td>\n",
       "      <td>17</td>\n",
       "      <td>6</td>\n",
       "      <td>Medium</td>\n",
       "      <td>27.2</td>\n",
       "      <td>27.2</td>\n",
       "      <td>27.2</td>\n",
       "      <td>9.225</td>\n",
       "      <td>9.225</td>\n",
       "      <td>9.225</td>\n",
       "      <td>0.0</td>\n",
       "    </tr>\n",
       "    <tr>\n",
       "      <th>...</th>\n",
       "      <td>...</td>\n",
       "      <td>...</td>\n",
       "      <td>...</td>\n",
       "      <td>...</td>\n",
       "      <td>...</td>\n",
       "      <td>...</td>\n",
       "      <td>...</td>\n",
       "      <td>...</td>\n",
       "      <td>...</td>\n",
       "      <td>...</td>\n",
       "      <td>...</td>\n",
       "      <td>...</td>\n",
       "      <td>...</td>\n",
       "      <td>...</td>\n",
       "      <td>...</td>\n",
       "      <td>...</td>\n",
       "    </tr>\n",
       "    <tr>\n",
       "      <th>891453</th>\n",
       "      <td>3838</td>\n",
       "      <td>2020-04-06</td>\n",
       "      <td>2020-04-06</td>\n",
       "      <td>4</td>\n",
       "      <td>0</td>\n",
       "      <td>1</td>\n",
       "      <td>1</td>\n",
       "      <td>1</td>\n",
       "      <td>Low</td>\n",
       "      <td>11.7</td>\n",
       "      <td>11.7</td>\n",
       "      <td>11.7</td>\n",
       "      <td>0.000</td>\n",
       "      <td>0.000</td>\n",
       "      <td>0.000</td>\n",
       "      <td>0.0</td>\n",
       "    </tr>\n",
       "    <tr>\n",
       "      <th>891454</th>\n",
       "      <td>3845</td>\n",
       "      <td>2020-04-06</td>\n",
       "      <td>2020-04-06</td>\n",
       "      <td>4</td>\n",
       "      <td>0</td>\n",
       "      <td>1</td>\n",
       "      <td>1</td>\n",
       "      <td>1</td>\n",
       "      <td>Low</td>\n",
       "      <td>11.7</td>\n",
       "      <td>11.7</td>\n",
       "      <td>11.7</td>\n",
       "      <td>0.000</td>\n",
       "      <td>0.000</td>\n",
       "      <td>0.000</td>\n",
       "      <td>0.0</td>\n",
       "    </tr>\n",
       "    <tr>\n",
       "      <th>891455</th>\n",
       "      <td>3852</td>\n",
       "      <td>2020-01-24</td>\n",
       "      <td>2020-01-24</td>\n",
       "      <td>1</td>\n",
       "      <td>4</td>\n",
       "      <td>4</td>\n",
       "      <td>3</td>\n",
       "      <td>1</td>\n",
       "      <td>Low</td>\n",
       "      <td>5.0</td>\n",
       "      <td>5.0</td>\n",
       "      <td>5.0</td>\n",
       "      <td>5.850</td>\n",
       "      <td>8.100</td>\n",
       "      <td>6.975</td>\n",
       "      <td>0.0</td>\n",
       "    </tr>\n",
       "    <tr>\n",
       "      <th>891456</th>\n",
       "      <td>3998</td>\n",
       "      <td>2020-05-20</td>\n",
       "      <td>2020-05-20</td>\n",
       "      <td>5</td>\n",
       "      <td>2</td>\n",
       "      <td>1</td>\n",
       "      <td>2</td>\n",
       "      <td>1</td>\n",
       "      <td>Low</td>\n",
       "      <td>12.8</td>\n",
       "      <td>12.8</td>\n",
       "      <td>12.8</td>\n",
       "      <td>8.100</td>\n",
       "      <td>8.100</td>\n",
       "      <td>8.100</td>\n",
       "      <td>0.0</td>\n",
       "    </tr>\n",
       "    <tr>\n",
       "      <th>891457</th>\n",
       "      <td>4057</td>\n",
       "      <td>2020-11-17</td>\n",
       "      <td>2020-11-17</td>\n",
       "      <td>11</td>\n",
       "      <td>1</td>\n",
       "      <td>3</td>\n",
       "      <td>2</td>\n",
       "      <td>1</td>\n",
       "      <td>Low</td>\n",
       "      <td>11.1</td>\n",
       "      <td>11.1</td>\n",
       "      <td>11.1</td>\n",
       "      <td>11.475</td>\n",
       "      <td>11.475</td>\n",
       "      <td>11.475</td>\n",
       "      <td>0.0</td>\n",
       "    </tr>\n",
       "  </tbody>\n",
       "</table>\n",
       "<p>891458 rows × 16 columns</p>\n",
       "</div>"
      ],
      "text/plain": [
       "        start station id  start_date       date  month  dayofweek2  season2  \\\n",
       "0                     72  2013-06-21 2013-06-21      6           4        2   \n",
       "1                    224  2013-06-21 2013-06-21      6           4        2   \n",
       "2                    261  2013-06-21 2013-06-21      6           4        2   \n",
       "3                    316  2013-06-21 2013-06-21      6           4        2   \n",
       "4                    375  2013-06-21 2013-06-21      6           4        2   \n",
       "...                  ...         ...        ...    ...         ...      ...   \n",
       "891453              3838  2020-04-06 2020-04-06      4           0        1   \n",
       "891454              3845  2020-04-06 2020-04-06      4           0        1   \n",
       "891455              3852  2020-01-24 2020-01-24      1           4        4   \n",
       "891456              3998  2020-05-20 2020-05-20      5           2        1   \n",
       "891457              4057  2020-11-17 2020-11-17     11           1        3   \n",
       "\n",
       "        hour  outgoing_bike_count bike_demand  TMP_min  TMP_max  TMP_mean  \\\n",
       "0         17                    6      Medium     27.2     27.2      27.2   \n",
       "1         17                    3      Medium     27.2     27.2      27.2   \n",
       "2         17                    3      Medium     27.2     27.2      27.2   \n",
       "3         17                   14        High     27.2     27.2      27.2   \n",
       "4         17                    6      Medium     27.2     27.2      27.2   \n",
       "...      ...                  ...         ...      ...      ...       ...   \n",
       "891453     1                    1         Low     11.7     11.7      11.7   \n",
       "891454     1                    1         Low     11.7     11.7      11.7   \n",
       "891455     3                    1         Low      5.0      5.0       5.0   \n",
       "891456     2                    1         Low     12.8     12.8      12.8   \n",
       "891457     2                    1         Low     11.1     11.1      11.1   \n",
       "\n",
       "        wind_speed_min  wind_speed_max  wind_speed_mean  precipitation_sum  \n",
       "0                9.225           9.225            9.225                0.0  \n",
       "1                9.225           9.225            9.225                0.0  \n",
       "2                9.225           9.225            9.225                0.0  \n",
       "3                9.225           9.225            9.225                0.0  \n",
       "4                9.225           9.225            9.225                0.0  \n",
       "...                ...             ...              ...                ...  \n",
       "891453           0.000           0.000            0.000                0.0  \n",
       "891454           0.000           0.000            0.000                0.0  \n",
       "891455           5.850           8.100            6.975                0.0  \n",
       "891456           8.100           8.100            8.100                0.0  \n",
       "891457          11.475          11.475           11.475                0.0  \n",
       "\n",
       "[891458 rows x 16 columns]"
      ]
     },
     "execution_count": 73,
     "metadata": {},
     "output_type": "execute_result"
    }
   ],
   "source": [
    "combined_outgoing"
   ]
  },
  {
   "cell_type": "code",
   "execution_count": 98,
   "metadata": {},
   "outputs": [],
   "source": [
    "X = combined_outgoing[['start station id', 'month', 'hour', 'season2', 'dayofweek2', 'TMP_mean']]"
   ]
  },
  {
   "cell_type": "code",
   "execution_count": 99,
   "metadata": {},
   "outputs": [],
   "source": [
    "y = combined_outgoing['bike_demand']"
   ]
  },
  {
   "cell_type": "code",
   "execution_count": 100,
   "metadata": {},
   "outputs": [],
   "source": [
    "X_train, X_test, y_train, y_test = train_test_split(X, y, test_size=0.3) # 80% training and 20% test"
   ]
  },
  {
   "cell_type": "code",
   "execution_count": 101,
   "metadata": {},
   "outputs": [],
   "source": [
    "clfout=RandomForestClassifier(bootstrap=True, n_estimators=100, max_depth = 22, criterion = 'gini', class_weight = 'balanced')"
   ]
  },
  {
   "cell_type": "code",
   "execution_count": 102,
   "metadata": {},
   "outputs": [
    {
     "data": {
      "text/plain": [
       "RandomForestClassifier(class_weight='balanced', max_depth=22)"
      ]
     },
     "execution_count": 102,
     "metadata": {},
     "output_type": "execute_result"
    }
   ],
   "source": [
    "clfout.fit(X_train,y_train)"
   ]
  },
  {
   "cell_type": "code",
   "execution_count": 103,
   "metadata": {},
   "outputs": [],
   "source": [
    "y_pred=clfout.predict(X_test)"
   ]
  },
  {
   "cell_type": "code",
   "execution_count": 104,
   "metadata": {},
   "outputs": [
    {
     "name": "stdout",
     "output_type": "stream",
     "text": [
      "Accuracy: 0.5562672469880869\n"
     ]
    }
   ],
   "source": [
    "print(\"Accuracy:\",metrics.accuracy_score(y_test, y_pred))"
   ]
  },
  {
   "cell_type": "code",
   "execution_count": 105,
   "metadata": {},
   "outputs": [],
   "source": [
    "import pickle"
   ]
  },
  {
   "cell_type": "code",
   "execution_count": 106,
   "metadata": {},
   "outputs": [],
   "source": [
    "Pkl_Filename = \"clf_out.pkl\"  \n",
    "\n",
    "with open(Pkl_Filename, 'wb') as file:  \n",
    "    pickle.dump(clfout, file)"
   ]
  },
  {
   "cell_type": "code",
   "execution_count": null,
   "metadata": {},
   "outputs": [],
   "source": []
  },
  {
   "cell_type": "code",
   "execution_count": 82,
   "metadata": {},
   "outputs": [],
   "source": [
    "X = combined_incoming[['end station id', 'month', 'hour', 'season2', 'dayofweek2', 'TMP_mean']]"
   ]
  },
  {
   "cell_type": "code",
   "execution_count": 85,
   "metadata": {},
   "outputs": [],
   "source": [
    "y = combined_incoming['dock_demand']"
   ]
  },
  {
   "cell_type": "code",
   "execution_count": 86,
   "metadata": {},
   "outputs": [],
   "source": [
    "X_train, X_test, y_train, y_test = train_test_split(X, y, test_size=0.3) # 80% training and 20% test"
   ]
  },
  {
   "cell_type": "code",
   "execution_count": 87,
   "metadata": {},
   "outputs": [],
   "source": [
    "clfin=RandomForestClassifier(bootstrap=True, n_estimators=100, max_depth = 22, criterion = 'gini', class_weight = 'balanced')"
   ]
  },
  {
   "cell_type": "code",
   "execution_count": 88,
   "metadata": {},
   "outputs": [
    {
     "data": {
      "text/plain": [
       "RandomForestClassifier(class_weight='balanced', max_depth=22)"
      ]
     },
     "execution_count": 88,
     "metadata": {},
     "output_type": "execute_result"
    }
   ],
   "source": [
    "clfin.fit(X_train,y_train)"
   ]
  },
  {
   "cell_type": "code",
   "execution_count": 89,
   "metadata": {},
   "outputs": [],
   "source": [
    "y_pred=clfin.predict(X_test)"
   ]
  },
  {
   "cell_type": "code",
   "execution_count": 90,
   "metadata": {},
   "outputs": [
    {
     "name": "stdout",
     "output_type": "stream",
     "text": [
      "Accuracy: 0.5583970950590066\n"
     ]
    }
   ],
   "source": [
    "print(\"Accuracy:\",metrics.accuracy_score(y_test, y_pred))"
   ]
  },
  {
   "cell_type": "code",
   "execution_count": 107,
   "metadata": {},
   "outputs": [],
   "source": [
    "Pkl_Filename = \"clf_out.pkl\"  \n",
    "\n",
    "with open(Pkl_Filename, 'wb') as file:  \n",
    "    pickle.dump(clfin, file)"
   ]
  },
  {
   "cell_type": "code",
   "execution_count": null,
   "metadata": {},
   "outputs": [],
   "source": []
  }
 ],
 "metadata": {
  "kernelspec": {
   "display_name": "Python 3",
   "language": "python",
   "name": "python3"
  },
  "language_info": {
   "codemirror_mode": {
    "name": "ipython",
    "version": 3
   },
   "file_extension": ".py",
   "mimetype": "text/x-python",
   "name": "python",
   "nbconvert_exporter": "python",
   "pygments_lexer": "ipython3",
   "version": "3.7.6"
  },
  "toc": {
   "base_numbering": 1,
   "nav_menu": {},
   "number_sections": false,
   "sideBar": true,
   "skip_h1_title": false,
   "title_cell": "Table of Contents",
   "title_sidebar": "Contents",
   "toc_cell": false,
   "toc_position": {},
   "toc_section_display": true,
   "toc_window_display": false
  }
 },
 "nbformat": 4,
 "nbformat_minor": 4
}
