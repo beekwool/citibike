{
 "cells": [
  {
   "cell_type": "code",
   "execution_count": 1,
   "metadata": {},
   "outputs": [],
   "source": [
    "import pandas as pd\n",
    "import numpy as np\n",
    "from joblib import load\n"
   ]
  },
  {
   "cell_type": "code",
   "execution_count": null,
   "metadata": {},
   "outputs": [],
   "source": [
    "def generate_pairs(rebalance_in, rebalance_out, original_df, paired_list):\n",
    "    # Iterate through stations that need bikes added to them\n",
    "    # Pair each station with the closest station that needs bikes removed\n",
    "    for i in rebalance_in.station_id:\n",
    "        out_stations = list(rebalance_out.station_id)\n",
    "        if len(out_stations) > 0:\n",
    "            # Find closest station from which to take bikes from\n",
    "            df = pd.DataFrame(station_dict[i], columns = ['station', 'distance']).set_index('station')\n",
    "            df = df.loc[out_stations].sort_values('distance')\n",
    "            nearest_station = int(list(df.index.values)[0])\n",
    "            \n",
    "            # Update original dataframe of stations that need rebalancing to reflect the rebalancing\n",
    "            original_df.loc[original_df['station_id'] == nearest_station, 'depletion_status'] = \"Healthy\"\n",
    "            original_df.loc[original_df['station_id'] == i, 'depletion_status'] = \"Healthy\"\n",
    "            # Remove the rebalanced station from the data frame of stations to remove bikes from\n",
    "            rebalance_out = rebalance_out[rebalance_out['station_id']!=nearest_station]\n",
    "            \n",
    "            #print(f'Station {i} is closest to Station {nearest_station}')\n",
    "            paired_list.append((i, nearest_station))\n",
    "        else:\n",
    "            break\n",
    "    return original_df, paired_list"
   ]
  }
 ],
 "metadata": {
  "kernelspec": {
   "display_name": "Python 3",
   "language": "python",
   "name": "python3"
  },
  "language_info": {
   "codemirror_mode": {
    "name": "ipython",
    "version": 3
   },
   "file_extension": ".py",
   "mimetype": "text/x-python",
   "name": "python",
   "nbconvert_exporter": "python",
   "pygments_lexer": "ipython3",
   "version": "3.7.6"
  },
  "toc": {
   "base_numbering": 1,
   "nav_menu": {},
   "number_sections": false,
   "sideBar": true,
   "skip_h1_title": false,
   "title_cell": "Table of Contents",
   "title_sidebar": "Contents",
   "toc_cell": false,
   "toc_position": {},
   "toc_section_display": true,
   "toc_window_display": false
  }
 },
 "nbformat": 4,
 "nbformat_minor": 4
}
