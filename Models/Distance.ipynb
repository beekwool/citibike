{
 "cells": [
  {
   "cell_type": "code",
   "execution_count": 7,
   "metadata": {},
   "outputs": [],
   "source": [
    "import pandas as pd\n",
    "import numpy as np\n",
    "import pickle\n",
    "from sklearn.neighbors import DistanceMetric\n",
    "from math import radians"
   ]
  },
  {
   "cell_type": "code",
   "execution_count": 2,
   "metadata": {},
   "outputs": [
    {
     "name": "stderr",
     "output_type": "stream",
     "text": [
      "/Users/danielchoy/opt/anaconda3/lib/python3.7/site-packages/IPython/core/interactiveshell.py:3063: DtypeWarning: Columns (11) have mixed types.Specify dtype option on import or set low_memory=False.\n",
      "  interactivity=interactivity, compiler=compiler, result=result)\n"
     ]
    }
   ],
   "source": [
    "stations = pd.read_csv('../data/stations_cleaned.csv.gz')"
   ]
  },
  {
   "cell_type": "code",
   "execution_count": 3,
   "metadata": {},
   "outputs": [
    {
     "data": {
      "text/plain": [
       "788"
      ]
     },
     "execution_count": 3,
     "metadata": {},
     "output_type": "execute_result"
    }
   ],
   "source": [
    "stations['dock_id'].nunique()"
   ]
  },
  {
   "cell_type": "code",
   "execution_count": 23,
   "metadata": {},
   "outputs": [],
   "source": [
    "stations2 = stations[['dock_id', '_lat', '_long']]"
   ]
  },
  {
   "cell_type": "code",
   "execution_count": 29,
   "metadata": {},
   "outputs": [],
   "source": [
    "stations2 = stations2.drop_duplicates(subset = ['dock_id'])"
   ]
  },
  {
   "cell_type": "code",
   "execution_count": 30,
   "metadata": {},
   "outputs": [],
   "source": [
    "stations2['dock_id'] = stations2['dock_id'].astype(str)"
   ]
  },
  {
   "cell_type": "code",
   "execution_count": 32,
   "metadata": {},
   "outputs": [
    {
     "data": {
      "text/plain": [
       "dock_id     object\n",
       "_lat       float64\n",
       "_long      float64\n",
       "dtype: object"
      ]
     },
     "execution_count": 32,
     "metadata": {},
     "output_type": "execute_result"
    }
   ],
   "source": [
    "stations2.dtypes"
   ]
  },
  {
   "cell_type": "code",
   "execution_count": 33,
   "metadata": {},
   "outputs": [],
   "source": [
    "# Convert the Lat/Long degress in Radians\n",
    "stations2['_lat'] = np.radians(stations2['_lat'])\n",
    "stations2['_long'] = np.radians(stations2['_long'])"
   ]
  },
  {
   "cell_type": "code",
   "execution_count": 26,
   "metadata": {},
   "outputs": [],
   "source": [
    "# Scipy get_metrics()\n",
    "dist = DistanceMetric.get_metric('haversine')"
   ]
  },
  {
   "cell_type": "code",
   "execution_count": 27,
   "metadata": {},
   "outputs": [
    {
     "data": {
      "text/plain": [
       "array([[ 0.71152312, -1.29143769],\n",
       "       [ 0.71152312, -1.29143769],\n",
       "       [ 0.71152312, -1.29143769],\n",
       "       ...,\n",
       "       [ 0.71218438, -1.29075287],\n",
       "       [ 0.71218438, -1.29075287],\n",
       "       [ 0.71218438, -1.29075287]])"
      ]
     },
     "execution_count": 27,
     "metadata": {},
     "output_type": "execute_result"
    }
   ],
   "source": [
    "stations2[['_lat','_long']].to_numpy()"
   ]
  },
  {
   "cell_type": "code",
   "execution_count": 34,
   "metadata": {},
   "outputs": [
    {
     "data": {
      "text/plain": [
       "array([[0.        , 0.09670131, 0.10957526, ..., 0.1493099 , 0.11837509,\n",
       "        0.10588206],\n",
       "       [0.09670131, 0.        , 0.01992532, ..., 0.20987665, 0.20839775,\n",
       "        0.19514325],\n",
       "       [0.10957526, 0.01992532, 0.        , ..., 0.20939936, 0.21602826,\n",
       "        0.20268656],\n",
       "       ...,\n",
       "       [0.1493099 , 0.20987665, 0.20939936, ..., 0.        , 0.08734277,\n",
       "        0.08426583],\n",
       "       [0.11837509, 0.20839775, 0.21602826, ..., 0.08734277, 0.        ,\n",
       "        0.01334694],\n",
       "       [0.10588206, 0.19514325, 0.20268656, ..., 0.08426583, 0.01334694,\n",
       "        0.        ]])"
      ]
     },
     "execution_count": 34,
     "metadata": {},
     "output_type": "execute_result"
    }
   ],
   "source": [
    "dist.pairwise(stations2 [['_lat','_long']].to_numpy())*6373"
   ]
  },
  {
   "cell_type": "code",
   "execution_count": 37,
   "metadata": {},
   "outputs": [],
   "source": [
    "Distance = pd.DataFrame(dist.pairwise(stations2[['_lat','_long']].to_numpy())*6373, columns=stations2.dock_id.unique(), index=stations2.dock_id.unique())"
   ]
  },
  {
   "cell_type": "code",
   "execution_count": 38,
   "metadata": {},
   "outputs": [],
   "source": [
    "Distance.to_csv(\"../Data/distance.csv\")"
   ]
  },
  {
   "cell_type": "code",
   "execution_count": 13,
   "metadata": {},
   "outputs": [],
   "source": [
    "cities_df = pd.DataFrame({'city':['bangalore','Mumbai','Delhi','kolkatta','chennai','bhopal'],\n",
    "    'lat':[12.9716,19.076,28.7041,22.5726,13.0827,23.2599],\n",
    "                          'lon':[77.5946,72.877,77.1025,88.639,80.2707,77.4126],\n",
    "                          })"
   ]
  }
 ],
 "metadata": {
  "kernelspec": {
   "display_name": "Python 3",
   "language": "python",
   "name": "python3"
  },
  "language_info": {
   "codemirror_mode": {
    "name": "ipython",
    "version": 3
   },
   "file_extension": ".py",
   "mimetype": "text/x-python",
   "name": "python",
   "nbconvert_exporter": "python",
   "pygments_lexer": "ipython3",
   "version": "3.7.6"
  },
  "toc": {
   "base_numbering": 1,
   "nav_menu": {},
   "number_sections": false,
   "sideBar": true,
   "skip_h1_title": false,
   "title_cell": "Table of Contents",
   "title_sidebar": "Contents",
   "toc_cell": false,
   "toc_position": {},
   "toc_section_display": true,
   "toc_window_display": false
  }
 },
 "nbformat": 4,
 "nbformat_minor": 4
}
