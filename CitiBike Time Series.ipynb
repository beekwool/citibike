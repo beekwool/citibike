{
 "cells": [
  {
   "cell_type": "code",
   "execution_count": 1,
   "metadata": {},
   "outputs": [],
   "source": [
    "import pandas as pd\n",
    "import numpy as np\n",
    "from pandas.tseries.holiday import USFederalHolidayCalendar\n",
    "from pandas.tseries.offsets import CustomBusinessMonthBegin\n",
    "import datetime\n",
    "from math import radians, cos, sin, asin, sqrt\n",
    "def haversine(df):\n",
    "    \"\"\"\n",
    "    Calculate the great circle distance between two points \n",
    "    on the earth (specified in decimal degrees)\n",
    "    \"\"\"\n",
    "    # convert decimal degrees to radians\n",
    "    miles_list = []\n",
    "    for i in df.index.tolist():\n",
    "        df.loc[i,'start station longitude'], df.loc[i,'start station latitude'], \\\n",
    "               df.loc[i,'end station longitude'], df.loc[i,'end station latitude'] = map(radians, \n",
    "        [df.loc[i,'start station longitude'], df.loc[i,'start station latitude'], df.loc[i,'end station longitude'], \n",
    "         df.loc[i,'end station latitude']])\n",
    "        # haversine formula \n",
    "        dlon = df.loc[i,'end station longitude'] - df.loc[i,'start station longitude'] \n",
    "        dlat = df.loc[i,'end station latitude'] - df.loc[i,'start station latitude'] \n",
    "        a = sin(dlat/2)**2 + cos(df.loc[i,'start station latitude']) * cos(df.loc[i,'end station latitude']) * sin(dlon/2)**2\n",
    "        c = 2 * asin(sqrt(a)) \n",
    "        # Radius of earth in miles is 3958.8\n",
    "        miles = 3958.8 * c\n",
    "        miles_list.append(miles)\n",
    "    return pd.Series(miles_list)\n",
    "\n"
   ]
  },
  {
   "cell_type": "code",
   "execution_count": 2,
   "metadata": {},
   "outputs": [],
   "source": [
    "rider_df = pd.read_csv(r'C:\\Users\\mmotd\\OneDrive\\Documents\\Boot Camp Files\\Capstone\\downsampled_rider.csv.gz', \n",
    "                      parse_dates = ['starttime', 'stoptime', 'start_date', 'stop_date'])"
   ]
  },
  {
   "cell_type": "code",
   "execution_count": 3,
   "metadata": {},
   "outputs": [],
   "source": [
    "def feature_engineering(rider_df):\n",
    "    rider_df = rider_df.drop('Unnamed: 0', axis = 1)\n",
    "    \n",
    "    rider_df['weekend'] = pd.Series([1 if (i == 'Saturday') | (i == 'Sunday') else 0 for i in rider_df.dayofweek])\n",
    "    \n",
    "    rider_df['miles'] = haversine(rider_df.loc[:,['start station longitude', 'start station latitude', \n",
    "                              'end station longitude', 'end station latitude']])\n",
    "    \n",
    "    rider_df = rider_df.drop('Sample_num', axis = 1)\n",
    "    \n",
    "    federal_holidays = CustomBusinessMonthBegin(calendar=USFederalHolidayCalendar())\n",
    "    holidays = pd.Series(pd.date_range(start='01/01/2013', end='11/30/2020',freq=federal_holidays).tolist())\n",
    "    holidays = [i.date() for i in holidays]\n",
    "    rider_df['holidays'] = rider_df['start_date'].isin(holidays)\n",
    "    \n",
    "    rider_df['month'] = rider_df['starttime'].dt.strftime('%m')\n",
    "    \n",
    "    rider_df['quarter'] = pd.Series(['Q1' if (i >= '01' and i <= '03') else 'Q2' if (i >= '04' and i <= '06') else 'Q3'\\\n",
    "                                     if (i >= '07' and i <= '09') else 'Q4' for i in rider_df['month']])\n",
    "    '''\n",
    "    Creating a dataframe that distinguishes between winter and summer daylight savings times.\n",
    "    A 0 denotes winter while a 1 denotes summer. Filtered the winter dsv and summer dsv and stored\n",
    "    into separate lists. Created boolean columns for each category and created a column that determines\n",
    "    if the timestamp does not fall under the dsv boundaries.\n",
    "    '''\n",
    "    \n",
    "    sorted_times = rider_df['starttime'].sort_values(ascending = False)\n",
    "    start = sorted_times.min()\n",
    "    end = sorted_times.max()\n",
    "    dates = pd.date_range(start=start, end=end,  tz='US/Eastern')\n",
    "    df1 = pd.DataFrame({'dst_flag': 1, 'date1': dates.tz_localize(None)}, index=dates)\n",
    "\n",
    "    # add extra day on each end so that there are no nan's after the join    \n",
    "    dates = pd.to_datetime(pd.date_range(start=start - pd.to_timedelta(1, 'd'), end=end + pd.to_timedelta(1, 'd'), freq='h'), utc=True)\n",
    "    df2 = pd.DataFrame({'date2': dates.tz_localize(None)}, index=dates)\n",
    "    \n",
    "    out = df1.join(df2)\n",
    "    out['dst_flag'] = (out['date1'] - out['date2']) / pd.to_timedelta(1, unit='h') + 5\n",
    "    out.drop(columns=['date1', 'date2'], inplace=True)\n",
    "    summer_dst = list(pd.Series(out[out['dst_flag'] == 1].index).dt.strftime('%Y-%m-%d'))\n",
    "    winter_dst = list(pd.Series(out[out['dst_flag'] == 0].index).dt.strftime('%Y-%m-%d'))\n",
    "    total_dst = summer_dst + winter_dst\n",
    "    rider_df['summer_dst'] = rider_df['start_date'].isin(summer_dst).astype(int)\n",
    "    rider_df['winter_dst'] = rider_df['start_date'].isin(winter_dst).astype(int)\n",
    "    rider_df['not_dst'] = rider_df['start_date'].isin(total_dst).astype(int)\n",
    "    # Reversing the boolean values. Want 0 to be equal to dsv and 1 to be not dsv\n",
    "    rider_df['not_dst'] = pd.Series([0 if i == 1 else 1 for i in rider_df['not_dst']])\n",
    "    return rider_df"
   ]
  },
  {
   "cell_type": "code",
   "execution_count": 4,
   "metadata": {},
   "outputs": [],
   "source": [
    "rider_df = feature_engineering(rider_df)"
   ]
  }
 ],
 "metadata": {
  "kernelspec": {
   "display_name": "Python 3",
   "language": "python",
   "name": "python3"
  },
  "language_info": {
   "codemirror_mode": {
    "name": "ipython",
    "version": 3
   },
   "file_extension": ".py",
   "mimetype": "text/x-python",
   "name": "python",
   "nbconvert_exporter": "python",
   "pygments_lexer": "ipython3",
   "version": "3.8.3"
  }
 },
 "nbformat": 4,
 "nbformat_minor": 4
}
