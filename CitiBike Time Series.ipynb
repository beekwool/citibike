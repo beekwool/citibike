{
 "cells": [
  {
   "cell_type": "code",
   "execution_count": 1,
   "metadata": {},
   "outputs": [],
   "source": [
    "import pandas as pd\n",
    "import numpy as np\n",
    "from pandas.tseries.holiday import USFederalHolidayCalendar\n",
    "from pandas.tseries.offsets import CustomBusinessMonthBegin\n",
    "import datetime\n",
    "from math import radians, cos, sin, asin, sqrt\n",
    "def haversine(df):\n",
    "    \"\"\"\n",
    "    Calculate the great circle distance between two points \n",
    "    on the earth (specified in decimal degrees)\n",
    "    \"\"\"\n",
    "    # convert decimal degrees to radians\n",
    "    miles_list = []\n",
    "    for i in df.index.tolist():\n",
    "        df.loc[i,'start station longitude'], df.loc[i,'start station latitude'], \\\n",
    "               df.loc[i,'end station longitude'], df.loc[i,'end station latitude'] = map(radians, \n",
    "        [df.loc[i,'start station longitude'], df.loc[i,'start station latitude'], df.loc[i,'end station longitude'], \n",
    "         df.loc[i,'end station latitude']])\n",
    "        # haversine formula \n",
    "        dlon = df.loc[i,'end station longitude'] - df.loc[i,'start station longitude'] \n",
    "        dlat = df.loc[i,'end station latitude'] - df.loc[i,'start station latitude'] \n",
    "        a = sin(dlat/2)**2 + cos(df.loc[i,'start station latitude']) * cos(df.loc[i,'end station latitude']) * sin(dlon/2)**2\n",
    "        c = 2 * asin(sqrt(a)) \n",
    "        # Radius of earth in miles is 3958.8\n",
    "        miles = 3958.8 * c\n",
    "        miles_list.append(miles)\n",
    "    return pd.Series(miles_list)\n",
    "\n"
   ]
  },
  {
   "cell_type": "code",
   "execution_count": 2,
   "metadata": {},
   "outputs": [],
   "source": [
    "rider_df = pd.read_csv(r'C:\\Users\\mmotd\\OneDrive\\Documents\\Boot Camp Files\\Capstone\\downsampled_rider.csv.gz')"
   ]
  },
  {
   "cell_type": "code",
   "execution_count": 3,
   "metadata": {},
   "outputs": [],
   "source": [
    "def feature_engineering(rider_df):\n",
    "    rider_df = rider_df.drop('Unnamed: 0', axis = 1)\n",
    "    rider_df['weekend'] = pd.Series([1 if (i == 'Saturday') | (i == 'Sunday') else 0 for i in rider_df.dayofweek])\n",
    "    rider_df['miles'] = haversine(rider_df.loc[:,['start station longitude', 'start station latitude', \n",
    "                              'end station longitude', 'end station latitude']])\n",
    "    rider_df = rider_df.drop('Sample_num', axis = 1)\n",
    "    federal_holidays = CustomBusinessMonthBegin(calendar=USFederalHolidayCalendar())\n",
    "    holidays = pd.Series(pd.date_range(start='01/01/2013', end='11/30/2020',freq=federal_holidays).tolist())\n",
    "    holidays = [i.date() for i in holidays]\n",
    "    rider_df['start_date'] = pd.to_datetime(rider_df['start_date'])\n",
    "    rider_df['holidays'] = rider_df['start_date'].isin(holidays)"
   ]
  },
  {
   "cell_type": "code",
   "execution_count": 4,
   "metadata": {},
   "outputs": [],
   "source": [
    "rider_df = feature_engineering(rider_df)"
   ]
  }
 ],
 "metadata": {
  "kernelspec": {
   "display_name": "Python 3",
   "language": "python",
   "name": "python3"
  },
  "language_info": {
   "codemirror_mode": {
    "name": "ipython",
    "version": 3
   },
   "file_extension": ".py",
   "mimetype": "text/x-python",
   "name": "python",
   "nbconvert_exporter": "python",
   "pygments_lexer": "ipython3",
   "version": "3.8.3"
  }
 },
 "nbformat": 4,
 "nbformat_minor": 4
}
