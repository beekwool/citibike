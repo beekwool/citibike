{
 "cells": [
  {
   "cell_type": "markdown",
   "metadata": {},
   "source": [
    "This notebook creates the tables: \n",
    "* station_id_lat_lon\n",
    "* station_distance\n",
    "\n",
    "\n",
    "station_id_lat_lon columns:\n",
    "* station\t\n",
    "* station_id\t\n",
    "* latitude\t\n",
    "* longitude\n",
    "\n",
    "station_distance:\n",
    "* start station id\t\n",
    "* end station id\t\n",
    "* miles\t\n",
    "\n",
    "Note:\n",
    "* station_id_lat_lon: Coordinates attained from the latest trip information from citibike site\n",
    "\n",
    "* data source: https://s3.amazonaws.com/tripdata/index.html\n",
    "* Most recent file: 202011-citibike-tripdata.csv\n",
    " \n",
    "* station_distance: geodestic distance between the two coordinates\n",
    "* reference on geodestic distnace: https://en.wikipedia.org/wiki/Geodesics_on_an_ellipsoid\n"
   ]
  },
  {
   "cell_type": "code",
   "execution_count": 1,
   "metadata": {},
   "outputs": [],
   "source": [
    "import numpy as np\n",
    "import pandas as pd"
   ]
  },
  {
   "cell_type": "code",
   "execution_count": 2,
   "metadata": {},
   "outputs": [],
   "source": [
    "tripdata_raw = pd.read_csv('/Users/bkuo/Local Documents/Bootcamp 2020/Project/Capstone/CitiBikeCapStone/Data/Trip data/202011-citibike-tripdata.csv')"
   ]
  },
  {
   "cell_type": "code",
   "execution_count": 3,
   "metadata": {},
   "outputs": [
    {
     "data": {
      "text/html": [
       "<div>\n",
       "<style scoped>\n",
       "    .dataframe tbody tr th:only-of-type {\n",
       "        vertical-align: middle;\n",
       "    }\n",
       "\n",
       "    .dataframe tbody tr th {\n",
       "        vertical-align: top;\n",
       "    }\n",
       "\n",
       "    .dataframe thead th {\n",
       "        text-align: right;\n",
       "    }\n",
       "</style>\n",
       "<table border=\"1\" class=\"dataframe\">\n",
       "  <thead>\n",
       "    <tr style=\"text-align: right;\">\n",
       "      <th></th>\n",
       "      <th>tripduration</th>\n",
       "      <th>start station id</th>\n",
       "      <th>start station latitude</th>\n",
       "      <th>start station longitude</th>\n",
       "      <th>end station id</th>\n",
       "      <th>end station latitude</th>\n",
       "      <th>end station longitude</th>\n",
       "      <th>bikeid</th>\n",
       "      <th>birth year</th>\n",
       "      <th>gender</th>\n",
       "    </tr>\n",
       "  </thead>\n",
       "  <tbody>\n",
       "    <tr>\n",
       "      <th>count</th>\n",
       "      <td>1.736704e+06</td>\n",
       "      <td>1.736704e+06</td>\n",
       "      <td>1.736704e+06</td>\n",
       "      <td>1.736704e+06</td>\n",
       "      <td>1.736704e+06</td>\n",
       "      <td>1.736704e+06</td>\n",
       "      <td>1.736704e+06</td>\n",
       "      <td>1.736704e+06</td>\n",
       "      <td>1.736704e+06</td>\n",
       "      <td>1.736704e+06</td>\n",
       "    </tr>\n",
       "    <tr>\n",
       "      <th>mean</th>\n",
       "      <td>1.150961e+03</td>\n",
       "      <td>2.134801e+03</td>\n",
       "      <td>4.074266e+01</td>\n",
       "      <td>-7.397583e+01</td>\n",
       "      <td>2.130156e+03</td>\n",
       "      <td>4.074232e+01</td>\n",
       "      <td>-7.397599e+01</td>\n",
       "      <td>3.918440e+04</td>\n",
       "      <td>1.981293e+03</td>\n",
       "      <td>1.181464e+00</td>\n",
       "    </tr>\n",
       "    <tr>\n",
       "      <th>std</th>\n",
       "      <td>1.155238e+04</td>\n",
       "      <td>1.555192e+03</td>\n",
       "      <td>3.627091e-02</td>\n",
       "      <td>2.348935e-02</td>\n",
       "      <td>1.556285e+03</td>\n",
       "      <td>3.617605e-02</td>\n",
       "      <td>2.356461e-02</td>\n",
       "      <td>9.057289e+03</td>\n",
       "      <td>1.259026e+01</td>\n",
       "      <td>5.982931e-01</td>\n",
       "    </tr>\n",
       "    <tr>\n",
       "      <th>min</th>\n",
       "      <td>6.100000e+01</td>\n",
       "      <td>7.200000e+01</td>\n",
       "      <td>4.065540e+01</td>\n",
       "      <td>-7.402535e+01</td>\n",
       "      <td>7.200000e+01</td>\n",
       "      <td>4.065540e+01</td>\n",
       "      <td>-7.407106e+01</td>\n",
       "      <td>1.452900e+04</td>\n",
       "      <td>1.884000e+03</td>\n",
       "      <td>0.000000e+00</td>\n",
       "    </tr>\n",
       "    <tr>\n",
       "      <th>25%</th>\n",
       "      <td>3.950000e+02</td>\n",
       "      <td>4.380000e+02</td>\n",
       "      <td>4.071817e+01</td>\n",
       "      <td>-7.399266e+01</td>\n",
       "      <td>4.370000e+02</td>\n",
       "      <td>4.071773e+01</td>\n",
       "      <td>-7.399301e+01</td>\n",
       "      <td>3.482200e+04</td>\n",
       "      <td>1.969000e+03</td>\n",
       "      <td>1.000000e+00</td>\n",
       "    </tr>\n",
       "    <tr>\n",
       "      <th>50%</th>\n",
       "      <td>7.060000e+02</td>\n",
       "      <td>3.126000e+03</td>\n",
       "      <td>4.074174e+01</td>\n",
       "      <td>-7.398068e+01</td>\n",
       "      <td>3.124000e+03</td>\n",
       "      <td>4.074146e+01</td>\n",
       "      <td>-7.398093e+01</td>\n",
       "      <td>4.132000e+04</td>\n",
       "      <td>1.984000e+03</td>\n",
       "      <td>1.000000e+00</td>\n",
       "    </tr>\n",
       "    <tr>\n",
       "      <th>75%</th>\n",
       "      <td>1.256000e+03</td>\n",
       "      <td>3.532000e+03</td>\n",
       "      <td>4.076591e+01</td>\n",
       "      <td>-7.395961e+01</td>\n",
       "      <td>3.530000e+03</td>\n",
       "      <td>4.076527e+01</td>\n",
       "      <td>-7.395995e+01</td>\n",
       "      <td>4.691100e+04</td>\n",
       "      <td>1.991000e+03</td>\n",
       "      <td>2.000000e+00</td>\n",
       "    </tr>\n",
       "    <tr>\n",
       "      <th>max</th>\n",
       "      <td>2.422830e+06</td>\n",
       "      <td>4.249000e+03</td>\n",
       "      <td>4.085225e+01</td>\n",
       "      <td>-7.388431e+01</td>\n",
       "      <td>4.249000e+03</td>\n",
       "      <td>4.085225e+01</td>\n",
       "      <td>-7.388431e+01</td>\n",
       "      <td>4.993200e+04</td>\n",
       "      <td>2.004000e+03</td>\n",
       "      <td>2.000000e+00</td>\n",
       "    </tr>\n",
       "  </tbody>\n",
       "</table>\n",
       "</div>"
      ],
      "text/plain": [
       "       tripduration  start station id  start station latitude  \\\n",
       "count  1.736704e+06      1.736704e+06            1.736704e+06   \n",
       "mean   1.150961e+03      2.134801e+03            4.074266e+01   \n",
       "std    1.155238e+04      1.555192e+03            3.627091e-02   \n",
       "min    6.100000e+01      7.200000e+01            4.065540e+01   \n",
       "25%    3.950000e+02      4.380000e+02            4.071817e+01   \n",
       "50%    7.060000e+02      3.126000e+03            4.074174e+01   \n",
       "75%    1.256000e+03      3.532000e+03            4.076591e+01   \n",
       "max    2.422830e+06      4.249000e+03            4.085225e+01   \n",
       "\n",
       "       start station longitude  end station id  end station latitude  \\\n",
       "count             1.736704e+06    1.736704e+06          1.736704e+06   \n",
       "mean             -7.397583e+01    2.130156e+03          4.074232e+01   \n",
       "std               2.348935e-02    1.556285e+03          3.617605e-02   \n",
       "min              -7.402535e+01    7.200000e+01          4.065540e+01   \n",
       "25%              -7.399266e+01    4.370000e+02          4.071773e+01   \n",
       "50%              -7.398068e+01    3.124000e+03          4.074146e+01   \n",
       "75%              -7.395961e+01    3.530000e+03          4.076527e+01   \n",
       "max              -7.388431e+01    4.249000e+03          4.085225e+01   \n",
       "\n",
       "       end station longitude        bikeid    birth year        gender  \n",
       "count           1.736704e+06  1.736704e+06  1.736704e+06  1.736704e+06  \n",
       "mean           -7.397599e+01  3.918440e+04  1.981293e+03  1.181464e+00  \n",
       "std             2.356461e-02  9.057289e+03  1.259026e+01  5.982931e-01  \n",
       "min            -7.407106e+01  1.452900e+04  1.884000e+03  0.000000e+00  \n",
       "25%            -7.399301e+01  3.482200e+04  1.969000e+03  1.000000e+00  \n",
       "50%            -7.398093e+01  4.132000e+04  1.984000e+03  1.000000e+00  \n",
       "75%            -7.395995e+01  4.691100e+04  1.991000e+03  2.000000e+00  \n",
       "max            -7.388431e+01  4.993200e+04  2.004000e+03  2.000000e+00  "
      ]
     },
     "execution_count": 3,
     "metadata": {},
     "output_type": "execute_result"
    }
   ],
   "source": [
    "tripdata_raw.describe()"
   ]
  },
  {
   "cell_type": "code",
   "execution_count": 4,
   "metadata": {},
   "outputs": [
    {
     "name": "stdout",
     "output_type": "stream",
     "text": [
      "<class 'pandas.core.frame.DataFrame'>\n",
      "RangeIndex: 1736704 entries, 0 to 1736703\n",
      "Data columns (total 15 columns):\n",
      "tripduration               int64\n",
      "starttime                  object\n",
      "stoptime                   object\n",
      "start station id           int64\n",
      "start station name         object\n",
      "start station latitude     float64\n",
      "start station longitude    float64\n",
      "end station id             int64\n",
      "end station name           object\n",
      "end station latitude       float64\n",
      "end station longitude      float64\n",
      "bikeid                     int64\n",
      "usertype                   object\n",
      "birth year                 int64\n",
      "gender                     int64\n",
      "dtypes: float64(4), int64(6), object(5)\n",
      "memory usage: 198.8+ MB\n"
     ]
    }
   ],
   "source": [
    "tripdata_raw.info()"
   ]
  },
  {
   "cell_type": "code",
   "execution_count": 5,
   "metadata": {
    "scrolled": true
   },
   "outputs": [
    {
     "data": {
      "text/plain": [
       "tripduration               0\n",
       "starttime                  0\n",
       "stoptime                   0\n",
       "start station id           0\n",
       "start station name         0\n",
       "start station latitude     0\n",
       "start station longitude    0\n",
       "end station id             0\n",
       "end station name           0\n",
       "end station latitude       0\n",
       "end station longitude      0\n",
       "bikeid                     0\n",
       "usertype                   0\n",
       "birth year                 0\n",
       "gender                     0\n",
       "dtype: int64"
      ]
     },
     "execution_count": 5,
     "metadata": {},
     "output_type": "execute_result"
    }
   ],
   "source": [
    "tripdata_raw.isna().sum()"
   ]
  },
  {
   "cell_type": "markdown",
   "metadata": {},
   "source": [
    "Following cells makes the stations lat lon table:"
   ]
  },
  {
   "cell_type": "code",
   "execution_count": 19,
   "metadata": {},
   "outputs": [],
   "source": [
    "# finding distinct station lat lons\n",
    "s_lat_lon = tripdata_raw[['start station name', 'start station id','start station latitude', 'start station longitude']]\n",
    "s_lat_lon = s_lat_lon.drop_duplicates().rename(columns = {'start station name':'station', 'start station id':'station_id','start station latitude':'latitude', \n",
    "                            'start station longitude':'longitude'})\n",
    "e_lat_lon = tripdata_raw[['end station name', 'end station id', 'end station latitude', 'end station longitude']]\n",
    "e_lat_lon = e_lat_lon.drop_duplicates().rename(columns = {'end station name':'station', 'end station id':'station_id','end station latitude':'latitude', \n",
    "                            'end station longitude':'longitude'})\n",
    "stn_lat_lon = pd.concat([s_lat_lon, e_lat_lon]).drop_duplicates()\n"
   ]
  },
  {
   "cell_type": "code",
   "execution_count": 20,
   "metadata": {
    "scrolled": true
   },
   "outputs": [
    {
     "data": {
      "text/plain": [
       "(1161, 4)"
      ]
     },
     "execution_count": 20,
     "metadata": {},
     "output_type": "execute_result"
    }
   ],
   "source": [
    "# total stations: 1161 stations (not considering active or not)\n",
    "stn_lat_lon.shape"
   ]
  },
  {
   "cell_type": "code",
   "execution_count": 21,
   "metadata": {},
   "outputs": [
    {
     "data": {
      "text/html": [
       "<div>\n",
       "<style scoped>\n",
       "    .dataframe tbody tr th:only-of-type {\n",
       "        vertical-align: middle;\n",
       "    }\n",
       "\n",
       "    .dataframe tbody tr th {\n",
       "        vertical-align: top;\n",
       "    }\n",
       "\n",
       "    .dataframe thead th {\n",
       "        text-align: right;\n",
       "    }\n",
       "</style>\n",
       "<table border=\"1\" class=\"dataframe\">\n",
       "  <thead>\n",
       "    <tr style=\"text-align: right;\">\n",
       "      <th></th>\n",
       "      <th>station</th>\n",
       "      <th>station_id</th>\n",
       "      <th>latitude</th>\n",
       "      <th>longitude</th>\n",
       "    </tr>\n",
       "  </thead>\n",
       "  <tbody>\n",
       "    <tr>\n",
       "      <th>0</th>\n",
       "      <td>W Broadway &amp; Spring St</td>\n",
       "      <td>3467</td>\n",
       "      <td>40.724947</td>\n",
       "      <td>-74.001659</td>\n",
       "    </tr>\n",
       "    <tr>\n",
       "      <th>1</th>\n",
       "      <td>40 Ave &amp; 9 St</td>\n",
       "      <td>3557</td>\n",
       "      <td>40.757420</td>\n",
       "      <td>-73.945133</td>\n",
       "    </tr>\n",
       "    <tr>\n",
       "      <th>2</th>\n",
       "      <td>Roebling St &amp; N 4 St</td>\n",
       "      <td>3085</td>\n",
       "      <td>40.714690</td>\n",
       "      <td>-73.957390</td>\n",
       "    </tr>\n",
       "    <tr>\n",
       "      <th>3</th>\n",
       "      <td>Cliff St &amp; Fulton St</td>\n",
       "      <td>3783</td>\n",
       "      <td>40.708380</td>\n",
       "      <td>-74.004950</td>\n",
       "    </tr>\n",
       "    <tr>\n",
       "      <th>4</th>\n",
       "      <td>W 59 St &amp; 10 Ave</td>\n",
       "      <td>422</td>\n",
       "      <td>40.770513</td>\n",
       "      <td>-73.988038</td>\n",
       "    </tr>\n",
       "  </tbody>\n",
       "</table>\n",
       "</div>"
      ],
      "text/plain": [
       "                  station  station_id   latitude  longitude\n",
       "0  W Broadway & Spring St        3467  40.724947 -74.001659\n",
       "1           40 Ave & 9 St        3557  40.757420 -73.945133\n",
       "2    Roebling St & N 4 St        3085  40.714690 -73.957390\n",
       "3    Cliff St & Fulton St        3783  40.708380 -74.004950\n",
       "4        W 59 St & 10 Ave         422  40.770513 -73.988038"
      ]
     },
     "execution_count": 21,
     "metadata": {},
     "output_type": "execute_result"
    }
   ],
   "source": [
    "# final table\n",
    "stn_lat_lon.head()"
   ]
  },
  {
   "cell_type": "code",
   "execution_count": 11,
   "metadata": {},
   "outputs": [],
   "source": [
    "stn_lat_lon.to_csv('station_id_lat_lon')"
   ]
  },
  {
   "cell_type": "markdown",
   "metadata": {},
   "source": [
    "Following cells calculates distances between all stations:"
   ]
  },
  {
   "cell_type": "code",
   "execution_count": 22,
   "metadata": {},
   "outputs": [],
   "source": [
    "# creating OD pair distance table\n",
    "s_lat_lon['key'] = 1\n",
    "e_lat_lon['key'] = 1"
   ]
  },
  {
   "cell_type": "code",
   "execution_count": 23,
   "metadata": {
    "scrolled": true
   },
   "outputs": [
    {
     "data": {
      "text/plain": [
       "(1337472, 8)"
      ]
     },
     "execution_count": 23,
     "metadata": {},
     "output_type": "execute_result"
    }
   ],
   "source": [
    "stn_dist = pd.merge(s_lat_lon, e_lat_lon, on = 'key').drop(\"key\", 1).drop_duplicates()  #1161\n",
    "stn_dist.shape"
   ]
  },
  {
   "cell_type": "code",
   "execution_count": null,
   "metadata": {
    "scrolled": true
   },
   "outputs": [],
   "source": [
    "# running this part of the query will take a very very long while\n",
    "from geopy import distance\n",
    "\n",
    "stn_dist['start_coor'] = list(zip(stn_dist.latitude_x, stn_dist.longitude_x)) \n",
    "stn_dist['end_coor'] = list(zip(stn_dist.latitude_y, stn_dist.longitude_y))\n",
    "\n",
    "dist = []\n",
    "for start in stn_dist['start_coor']:\n",
    "    for end in stn_dist['end_coor']:\n",
    "        dist.append([start, end, distance.distance(start, end).miles])    \n",
    "dist = pd.DataFrame(dist, columns = ['start_coor', 'end_coor', 'miles'])   \n",
    "stn_dist = stn_dist.merge(dist, left_on = ['start_coor', 'end_coor'], \\\n",
    "                          right_on= ['start_coor', 'end_coor'], how='left')\n",
    "stn_dist = stn_dist.drop_duplicates()\n",
    "stn_dist = stn_dist[['station_id_x', 'station_id_y', 'miles']]\n",
    "stn_dist = stn_dist.rename(columns = {'station_id_x':'s_station_id',\n",
    "                            'station_id_y':'e_station_id'})\n"
   ]
  },
  {
   "cell_type": "code",
   "execution_count": null,
   "metadata": {},
   "outputs": [],
   "source": [
    "stn_dist.head()"
   ]
  },
  {
   "cell_type": "code",
   "execution_count": null,
   "metadata": {},
   "outputs": [],
   "source": [
    "stn_dist.to_csv('station_distance')"
   ]
  }
 ],
 "metadata": {
  "kernelspec": {
   "display_name": "Python 3",
   "language": "python",
   "name": "python3"
  }
 },
 "nbformat": 4,
 "nbformat_minor": 2
}
