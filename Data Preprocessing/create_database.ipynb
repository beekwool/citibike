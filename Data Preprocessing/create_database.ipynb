{
 "cells": [
  {
   "cell_type": "code",
   "execution_count": null,
   "metadata": {},
   "outputs": [],
   "source": [
    "import pandas as pd\n",
    "import sqlite3\n",
    "from pandas.io import sql\n",
    "import subprocess"
   ]
  },
  {
   "cell_type": "code",
   "execution_count": 1,
   "metadata": {},
   "outputs": [
    {
     "name": "stderr",
     "output_type": "stream",
     "text": [
      "/Users/danielchoy/opt/anaconda3/lib/python3.7/site-packages/ipykernel_launcher.py:38: UserWarning: The spaces in these column names will not be changed. In pandas versions < 0.14, spaces were converted to underscores.\n"
     ]
    }
   ],
   "source": [
    "# File paths\n",
    "data = 'data/ride data/combined.csv'\n",
    "sqlite = 'citibike.sqlite'\n",
    "table_name = 'rides' # name for the SQLite database table\n",
    "chunksize = 300000 # number of chunksize to to process at each iteration\n",
    "\n",
    "# columns names from the CSV file\n",
    "columns = ['tripduration','starttime','stoptime','start station id','start station name','start station latitude','start station longitude','end station id','end station name','end station latitude','end station longitude','bikeid','usertype','birth year','gender']\n",
    "\n",
    "# Get number of lines in the CSV file\n",
    "nlines = subprocess.check_output(['wc', '-l', data])\n",
    "nlines = int(nlines.split()[0]) \n",
    "\n",
    "\n",
    "cnx = sqlite3.connect(sqlite)\n",
    "\n",
    "# Iteratively read CSV and dump lines into the SQLite table\n",
    "for i in range(0, nlines, chunksize):  \n",
    "    \n",
    "    df = pd.read_csv(data,  \n",
    "            header=None,  # no header, define column header manually later\n",
    "            nrows=chunksize, # number of rows to read at each iteration\n",
    "            skiprows=i, low_memory= False)   # skip rows that were already read\n",
    "         \n",
    "    df.columns = columns\n",
    "\n",
    "    sql.to_sql(df, \n",
    "                name=table_name, \n",
    "                con=cnx, \n",
    "                index=False,\n",
    "                if_exists='append') \n",
    "cnx.close()    "
   ]
  }
 ],
 "metadata": {
  "kernelspec": {
   "display_name": "Python 3",
   "language": "python",
   "name": "python3"
  },
  "language_info": {
   "codemirror_mode": {
    "name": "ipython",
    "version": 3
   },
   "file_extension": ".py",
   "mimetype": "text/x-python",
   "name": "python",
   "nbconvert_exporter": "python",
   "pygments_lexer": "ipython3",
   "version": "3.7.6"
  },
  "toc": {
   "base_numbering": 1,
   "nav_menu": {},
   "number_sections": false,
   "sideBar": true,
   "skip_h1_title": false,
   "title_cell": "Table of Contents",
   "title_sidebar": "Contents",
   "toc_cell": false,
   "toc_position": {},
   "toc_section_display": true,
   "toc_window_display": false
  }
 },
 "nbformat": 4,
 "nbformat_minor": 4
}
