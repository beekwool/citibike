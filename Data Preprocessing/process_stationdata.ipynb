{
 "cells": [
  {
   "cell_type": "code",
   "execution_count": 8,
   "metadata": {},
   "outputs": [],
   "source": [
    "import pandas as pd\n",
    "\n",
    "# Function to process station data from a given year\n",
    "# Original datasets are tab-deliminated datasets \n",
    "def process_yearlydata(year):\n",
    "    temp = pd.read_csv(f\"../data/stationdata/merged{year}.csv\")\n",
    "\n",
    "    # Generate the list of columns to be used. Assign the temporary dataframe a placeholder column name\n",
    "    colnames = temp.columns[0].split('\\t')\n",
    "    temp.columns = ['_']\n",
    "\n",
    "    # Split dataframe into multiple columns and save that to a new temporary dataframe\n",
    "    temp_expanded = temp['_'].str.split(\"\\t\", expand = True)\n",
    "\n",
    "    # Drop any unnecessary columns created by the splitting\n",
    "    if temp_expanded.shape[1]>13:\n",
    "        temp_expanded.drop(list(range(13, temp_expanded.shape[1])), axis = 1, inplace = True)\n",
    "    \n",
    "    # Assign the correct column names to the dataframe and write it to disk\n",
    "    temp_expanded.columns = colnames[0:13]\n",
    "    temp_expanded.to_csv(f\"../data/stationdata/stations{year}.csv\", index = False)    \n"
   ]
  },
  {
   "cell_type": "code",
   "execution_count": 9,
   "metadata": {
    "hide_input": false
   },
   "outputs": [],
   "source": [
    "process_yearlydata(2015)\n",
    "process_yearlydata(2016)\n",
    "process_yearlydata(2017)\n",
    "process_yearlydata(2018)\n",
    "process_yearlydata(2019)"
   ]
  },
  {
   "cell_type": "code",
   "execution_count": 14,
   "metadata": {},
   "outputs": [
    {
     "name": "stderr",
     "output_type": "stream",
     "text": [
      "/Users/danielchoy/opt/anaconda3/lib/python3.7/site-packages/IPython/core/interactiveshell.py:3063: DtypeWarning: Columns (0,3,4,5,6,7,8,9,10,11,12) have mixed types.Specify dtype option on import or set low_memory=False.\n",
      "  interactivity=interactivity, compiler=compiler, result=result)\n"
     ]
    }
   ],
   "source": [
    "# Read in the processed datafiles\n",
    "stations2015 = pd.read_csv(\"data/stationdata/stations2015.csv\")\n",
    "stations2016 = pd.read_csv(\"data/stationdata/stations2016.csv\")\n",
    "stations2017 = pd.read_csv(\"data/stationdata/stations2017.csv\")\n",
    "stations2018 = pd.read_csv(\"data/stationdata/stations2018.csv\")\n",
    "stations2019 = pd.read_csv(\"data/stationdata/stations2019.csv\")\n",
    "\n",
    "# Concatenate them into a single dataframe\n",
    "stations = pd.concat([stations2015, stations2016, stations2017, stations2018, stations2019])\n",
    "\n",
    "\n",
    "# Write the concatenated dataframe to csv\n",
    "stations.to_csv(\"data/stationdata/stations.csv\", index = False)"
   ]
  },
  {
   "cell_type": "code",
   "execution_count": 16,
   "metadata": {},
   "outputs": [
    {
     "data": {
      "text/html": [
       "<div>\n",
       "<style scoped>\n",
       "    .dataframe tbody tr th:only-of-type {\n",
       "        vertical-align: middle;\n",
       "    }\n",
       "\n",
       "    .dataframe tbody tr th {\n",
       "        vertical-align: top;\n",
       "    }\n",
       "\n",
       "    .dataframe thead th {\n",
       "        text-align: right;\n",
       "    }\n",
       "</style>\n",
       "<table border=\"1\" class=\"dataframe\">\n",
       "  <thead>\n",
       "    <tr style=\"text-align: right;\">\n",
       "      <th></th>\n",
       "      <th>dock_id</th>\n",
       "      <th>dock_name</th>\n",
       "      <th>date</th>\n",
       "      <th>hour</th>\n",
       "      <th>minute</th>\n",
       "      <th>pm</th>\n",
       "      <th>avail_bikes</th>\n",
       "      <th>avail_docks</th>\n",
       "      <th>tot_docks</th>\n",
       "      <th>_lat</th>\n",
       "      <th>_long</th>\n",
       "      <th>in_service</th>\n",
       "      <th>status_key</th>\n",
       "    </tr>\n",
       "  </thead>\n",
       "  <tbody>\n",
       "    <tr>\n",
       "      <th>1671950</th>\n",
       "      <td>3534</td>\n",
       "      <td>\"Frederick Douglass Blvd &amp; W 117 St\"</td>\n",
       "      <td>\"19-01-31\"</td>\n",
       "      <td>9</td>\n",
       "      <td>28</td>\n",
       "      <td>1</td>\n",
       "      <td>18</td>\n",
       "      <td>21</td>\n",
       "      <td>39</td>\n",
       "      <td>40.8052</td>\n",
       "      <td>-73.9547</td>\n",
       "      <td>1</td>\n",
       "      <td>1</td>\n",
       "    </tr>\n",
       "    <tr>\n",
       "      <th>1671951</th>\n",
       "      <td>3534</td>\n",
       "      <td>\"Frederick Douglass Blvd &amp; W 117 St\"</td>\n",
       "      <td>\"19-01-31\"</td>\n",
       "      <td>10</td>\n",
       "      <td>7</td>\n",
       "      <td>1</td>\n",
       "      <td>18</td>\n",
       "      <td>21</td>\n",
       "      <td>39</td>\n",
       "      <td>40.8052</td>\n",
       "      <td>-73.9547</td>\n",
       "      <td>1</td>\n",
       "      <td>1</td>\n",
       "    </tr>\n",
       "    <tr>\n",
       "      <th>1671952</th>\n",
       "      <td>3534</td>\n",
       "      <td>\"Frederick Douglass Blvd &amp; W 117 St\"</td>\n",
       "      <td>\"19-01-31\"</td>\n",
       "      <td>10</td>\n",
       "      <td>44</td>\n",
       "      <td>1</td>\n",
       "      <td>18</td>\n",
       "      <td>21</td>\n",
       "      <td>39</td>\n",
       "      <td>40.8052</td>\n",
       "      <td>-73.9547</td>\n",
       "      <td>1</td>\n",
       "      <td>1</td>\n",
       "    </tr>\n",
       "    <tr>\n",
       "      <th>1671953</th>\n",
       "      <td>3534</td>\n",
       "      <td>\"Frederick Douglass Blvd &amp; W 117 St\"</td>\n",
       "      <td>\"19-01-31\"</td>\n",
       "      <td>11</td>\n",
       "      <td>32</td>\n",
       "      <td>1</td>\n",
       "      <td>19</td>\n",
       "      <td>20</td>\n",
       "      <td>39</td>\n",
       "      <td>40.8052</td>\n",
       "      <td>-73.9547</td>\n",
       "      <td>1</td>\n",
       "      <td>1</td>\n",
       "    </tr>\n",
       "    <tr>\n",
       "      <th>1671954</th>\n",
       "      <td>3534</td>\n",
       "      <td>\"Frederick Douglass Blvd &amp; W 117 St\"</td>\n",
       "      <td>\"19-01-31\"</td>\n",
       "      <td>12</td>\n",
       "      <td>15</td>\n",
       "      <td>1</td>\n",
       "      <td>13</td>\n",
       "      <td>26</td>\n",
       "      <td>39</td>\n",
       "      <td>40.8052</td>\n",
       "      <td>-73.9547</td>\n",
       "      <td>1</td>\n",
       "      <td>1</td>\n",
       "    </tr>\n",
       "  </tbody>\n",
       "</table>\n",
       "</div>"
      ],
      "text/plain": [
       "        dock_id                             dock_name        date hour minute  \\\n",
       "1671950    3534  \"Frederick Douglass Blvd & W 117 St\"  \"19-01-31\"    9     28   \n",
       "1671951    3534  \"Frederick Douglass Blvd & W 117 St\"  \"19-01-31\"   10      7   \n",
       "1671952    3534  \"Frederick Douglass Blvd & W 117 St\"  \"19-01-31\"   10     44   \n",
       "1671953    3534  \"Frederick Douglass Blvd & W 117 St\"  \"19-01-31\"   11     32   \n",
       "1671954    3534  \"Frederick Douglass Blvd & W 117 St\"  \"19-01-31\"   12     15   \n",
       "\n",
       "        pm avail_bikes avail_docks tot_docks     _lat    _long in_service  \\\n",
       "1671950  1          18          21        39  40.8052 -73.9547          1   \n",
       "1671951  1          18          21        39  40.8052 -73.9547          1   \n",
       "1671952  1          18          21        39  40.8052 -73.9547          1   \n",
       "1671953  1          19          20        39  40.8052 -73.9547          1   \n",
       "1671954  1          13          26        39  40.8052 -73.9547          1   \n",
       "\n",
       "        status_key  \n",
       "1671950          1  \n",
       "1671951          1  \n",
       "1671952          1  \n",
       "1671953          1  \n",
       "1671954          1  "
      ]
     },
     "execution_count": 16,
     "metadata": {},
     "output_type": "execute_result"
    }
   ],
   "source": [
    "stations.tail(5)"
   ]
  },
  {
   "cell_type": "code",
   "execution_count": 17,
   "metadata": {},
   "outputs": [
    {
     "data": {
      "text/plain": [
       "1469"
      ]
     },
     "execution_count": 17,
     "metadata": {},
     "output_type": "execute_result"
    }
   ],
   "source": [
    "# Distinct customers\n",
    "stations['dock_id'].nunique()"
   ]
  },
  {
   "cell_type": "code",
   "execution_count": null,
   "metadata": {},
   "outputs": [],
   "source": []
  }
 ],
 "metadata": {
  "kernelspec": {
   "display_name": "Python 3",
   "language": "python",
   "name": "python3"
  },
  "language_info": {
   "codemirror_mode": {
    "name": "ipython",
    "version": 3
   },
   "file_extension": ".py",
   "mimetype": "text/x-python",
   "name": "python",
   "nbconvert_exporter": "python",
   "pygments_lexer": "ipython3",
   "version": "3.7.6"
  },
  "toc": {
   "base_numbering": 1,
   "nav_menu": {},
   "number_sections": false,
   "sideBar": true,
   "skip_h1_title": false,
   "title_cell": "Table of Contents",
   "title_sidebar": "Contents",
   "toc_cell": false,
   "toc_position": {},
   "toc_section_display": true,
   "toc_window_display": false
  }
 },
 "nbformat": 4,
 "nbformat_minor": 4
}
