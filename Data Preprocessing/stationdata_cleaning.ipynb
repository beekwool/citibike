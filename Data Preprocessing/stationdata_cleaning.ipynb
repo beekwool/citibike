{
 "cells": [
  {
   "cell_type": "code",
   "execution_count": 1,
   "metadata": {},
   "outputs": [],
   "source": [
    "# Import libraries\n",
    "import pandas as pd\n",
    "import numpy as np\n",
    "import re"
   ]
  },
  {
   "cell_type": "code",
   "execution_count": 2,
   "metadata": {},
   "outputs": [
    {
     "name": "stderr",
     "output_type": "stream",
     "text": [
      "/Users/danielchoy/opt/anaconda3/lib/python3.7/site-packages/IPython/core/interactiveshell.py:3063: DtypeWarning: Columns (0,3,4,5,6,7,8,9,10,11,12) have mixed types.Specify dtype option on import or set low_memory=False.\n",
      "  interactivity=interactivity, compiler=compiler, result=result)\n"
     ]
    }
   ],
   "source": [
    "# Read the merged stations.csv file. Note stationdata_process.ipynb for more information\n",
    "stations = pd.read_csv('../data/stationdata/stations.csv')"
   ]
  },
  {
   "cell_type": "code",
   "execution_count": 3,
   "metadata": {},
   "outputs": [],
   "source": [
    "stations_cleaning = stations.copy()"
   ]
  },
  {
   "cell_type": "code",
   "execution_count": 5,
   "metadata": {},
   "outputs": [
    {
     "data": {
      "text/html": [
       "<div>\n",
       "<style scoped>\n",
       "    .dataframe tbody tr th:only-of-type {\n",
       "        vertical-align: middle;\n",
       "    }\n",
       "\n",
       "    .dataframe tbody tr th {\n",
       "        vertical-align: top;\n",
       "    }\n",
       "\n",
       "    .dataframe thead th {\n",
       "        text-align: right;\n",
       "    }\n",
       "</style>\n",
       "<table border=\"1\" class=\"dataframe\">\n",
       "  <thead>\n",
       "    <tr style=\"text-align: right;\">\n",
       "      <th></th>\n",
       "      <th>dock_id</th>\n",
       "      <th>dock_name</th>\n",
       "      <th>date</th>\n",
       "      <th>hour</th>\n",
       "      <th>minute</th>\n",
       "      <th>pm</th>\n",
       "      <th>avail_bikes</th>\n",
       "      <th>avail_docks</th>\n",
       "      <th>tot_docks</th>\n",
       "      <th>_lat</th>\n",
       "      <th>_long</th>\n",
       "      <th>in_service</th>\n",
       "      <th>status_key</th>\n",
       "    </tr>\n",
       "  </thead>\n",
       "  <tbody>\n",
       "    <tr>\n",
       "      <th>0</th>\n",
       "      <td>72</td>\n",
       "      <td>\"W 52 St &amp; 11 Ave\"</td>\n",
       "      <td>\"15-03-01\"</td>\n",
       "      <td>1</td>\n",
       "      <td>6</td>\n",
       "      <td>0</td>\n",
       "      <td>8</td>\n",
       "      <td>31</td>\n",
       "      <td>39</td>\n",
       "      <td>40.7673</td>\n",
       "      <td>-73.9939</td>\n",
       "      <td>1</td>\n",
       "      <td>1</td>\n",
       "    </tr>\n",
       "    <tr>\n",
       "      <th>1</th>\n",
       "      <td>72</td>\n",
       "      <td>\"W 52 St &amp; 11 Ave\"</td>\n",
       "      <td>\"15-03-01\"</td>\n",
       "      <td>1</td>\n",
       "      <td>16</td>\n",
       "      <td>0</td>\n",
       "      <td>8</td>\n",
       "      <td>31</td>\n",
       "      <td>39</td>\n",
       "      <td>40.7673</td>\n",
       "      <td>-73.9939</td>\n",
       "      <td>1</td>\n",
       "      <td>1</td>\n",
       "    </tr>\n",
       "    <tr>\n",
       "      <th>2</th>\n",
       "      <td>72</td>\n",
       "      <td>\"W 52 St &amp; 11 Ave\"</td>\n",
       "      <td>\"15-03-01\"</td>\n",
       "      <td>1</td>\n",
       "      <td>25</td>\n",
       "      <td>0</td>\n",
       "      <td>8</td>\n",
       "      <td>30</td>\n",
       "      <td>38</td>\n",
       "      <td>40.7673</td>\n",
       "      <td>-73.9939</td>\n",
       "      <td>1</td>\n",
       "      <td>1</td>\n",
       "    </tr>\n",
       "    <tr>\n",
       "      <th>3</th>\n",
       "      <td>72</td>\n",
       "      <td>\"W 52 St &amp; 11 Ave\"</td>\n",
       "      <td>\"15-03-01\"</td>\n",
       "      <td>1</td>\n",
       "      <td>35</td>\n",
       "      <td>0</td>\n",
       "      <td>8</td>\n",
       "      <td>30</td>\n",
       "      <td>38</td>\n",
       "      <td>40.7673</td>\n",
       "      <td>-73.9939</td>\n",
       "      <td>1</td>\n",
       "      <td>1</td>\n",
       "    </tr>\n",
       "    <tr>\n",
       "      <th>4</th>\n",
       "      <td>72</td>\n",
       "      <td>\"W 52 St &amp; 11 Ave\"</td>\n",
       "      <td>\"15-03-01\"</td>\n",
       "      <td>1</td>\n",
       "      <td>45</td>\n",
       "      <td>0</td>\n",
       "      <td>8</td>\n",
       "      <td>30</td>\n",
       "      <td>38</td>\n",
       "      <td>40.7673</td>\n",
       "      <td>-73.9939</td>\n",
       "      <td>1</td>\n",
       "      <td>1</td>\n",
       "    </tr>\n",
       "    <tr>\n",
       "      <th>5</th>\n",
       "      <td>72</td>\n",
       "      <td>\"W 52 St &amp; 11 Ave\"</td>\n",
       "      <td>\"15-03-01\"</td>\n",
       "      <td>1</td>\n",
       "      <td>54</td>\n",
       "      <td>0</td>\n",
       "      <td>7</td>\n",
       "      <td>31</td>\n",
       "      <td>38</td>\n",
       "      <td>40.7673</td>\n",
       "      <td>-73.9939</td>\n",
       "      <td>1</td>\n",
       "      <td>1</td>\n",
       "    </tr>\n",
       "    <tr>\n",
       "      <th>6</th>\n",
       "      <td>72</td>\n",
       "      <td>\"W 52 St &amp; 11 Ave\"</td>\n",
       "      <td>\"15-03-01\"</td>\n",
       "      <td>2</td>\n",
       "      <td>2</td>\n",
       "      <td>0</td>\n",
       "      <td>8</td>\n",
       "      <td>31</td>\n",
       "      <td>39</td>\n",
       "      <td>40.7673</td>\n",
       "      <td>-73.9939</td>\n",
       "      <td>1</td>\n",
       "      <td>1</td>\n",
       "    </tr>\n",
       "    <tr>\n",
       "      <th>7</th>\n",
       "      <td>72</td>\n",
       "      <td>\"W 52 St &amp; 11 Ave\"</td>\n",
       "      <td>\"15-03-01\"</td>\n",
       "      <td>2</td>\n",
       "      <td>13</td>\n",
       "      <td>0</td>\n",
       "      <td>8</td>\n",
       "      <td>31</td>\n",
       "      <td>39</td>\n",
       "      <td>40.7673</td>\n",
       "      <td>-73.9939</td>\n",
       "      <td>1</td>\n",
       "      <td>1</td>\n",
       "    </tr>\n",
       "    <tr>\n",
       "      <th>8</th>\n",
       "      <td>72</td>\n",
       "      <td>\"W 52 St &amp; 11 Ave\"</td>\n",
       "      <td>\"15-03-01\"</td>\n",
       "      <td>2</td>\n",
       "      <td>22</td>\n",
       "      <td>0</td>\n",
       "      <td>8</td>\n",
       "      <td>31</td>\n",
       "      <td>39</td>\n",
       "      <td>40.7673</td>\n",
       "      <td>-73.9939</td>\n",
       "      <td>1</td>\n",
       "      <td>1</td>\n",
       "    </tr>\n",
       "    <tr>\n",
       "      <th>9</th>\n",
       "      <td>72</td>\n",
       "      <td>\"W 52 St &amp; 11 Ave\"</td>\n",
       "      <td>\"15-03-01\"</td>\n",
       "      <td>2</td>\n",
       "      <td>32</td>\n",
       "      <td>0</td>\n",
       "      <td>8</td>\n",
       "      <td>31</td>\n",
       "      <td>39</td>\n",
       "      <td>40.7673</td>\n",
       "      <td>-73.9939</td>\n",
       "      <td>1</td>\n",
       "      <td>1</td>\n",
       "    </tr>\n",
       "  </tbody>\n",
       "</table>\n",
       "</div>"
      ],
      "text/plain": [
       "  dock_id           dock_name        date hour minute pm avail_bikes  \\\n",
       "0      72  \"W 52 St & 11 Ave\"  \"15-03-01\"    1      6  0           8   \n",
       "1      72  \"W 52 St & 11 Ave\"  \"15-03-01\"    1     16  0           8   \n",
       "2      72  \"W 52 St & 11 Ave\"  \"15-03-01\"    1     25  0           8   \n",
       "3      72  \"W 52 St & 11 Ave\"  \"15-03-01\"    1     35  0           8   \n",
       "4      72  \"W 52 St & 11 Ave\"  \"15-03-01\"    1     45  0           8   \n",
       "5      72  \"W 52 St & 11 Ave\"  \"15-03-01\"    1     54  0           7   \n",
       "6      72  \"W 52 St & 11 Ave\"  \"15-03-01\"    2      2  0           8   \n",
       "7      72  \"W 52 St & 11 Ave\"  \"15-03-01\"    2     13  0           8   \n",
       "8      72  \"W 52 St & 11 Ave\"  \"15-03-01\"    2     22  0           8   \n",
       "9      72  \"W 52 St & 11 Ave\"  \"15-03-01\"    2     32  0           8   \n",
       "\n",
       "  avail_docks tot_docks     _lat    _long in_service status_key  \n",
       "0          31        39  40.7673 -73.9939          1          1  \n",
       "1          31        39  40.7673 -73.9939          1          1  \n",
       "2          30        38  40.7673 -73.9939          1          1  \n",
       "3          30        38  40.7673 -73.9939          1          1  \n",
       "4          30        38  40.7673 -73.9939          1          1  \n",
       "5          31        38  40.7673 -73.9939          1          1  \n",
       "6          31        39  40.7673 -73.9939          1          1  \n",
       "7          31        39  40.7673 -73.9939          1          1  \n",
       "8          31        39  40.7673 -73.9939          1          1  \n",
       "9          31        39  40.7673 -73.9939          1          1  "
      ]
     },
     "execution_count": 5,
     "metadata": {},
     "output_type": "execute_result"
    }
   ],
   "source": [
    "stations_cleaning.head(10)"
   ]
  },
  {
   "cell_type": "code",
   "execution_count": 6,
   "metadata": {},
   "outputs": [
    {
     "data": {
      "text/plain": [
       "dock_id        0\n",
       "dock_name      0\n",
       "date           0\n",
       "hour           0\n",
       "minute         0\n",
       "pm             0\n",
       "avail_bikes    3\n",
       "avail_docks    0\n",
       "tot_docks      1\n",
       "_lat           2\n",
       "_long          2\n",
       "in_service     0\n",
       "status_key     2\n",
       "dtype: int64"
      ]
     },
     "execution_count": 6,
     "metadata": {},
     "output_type": "execute_result"
    }
   ],
   "source": [
    "stations_cleaning.isnull().sum()"
   ]
  },
  {
   "cell_type": "markdown",
   "metadata": {},
   "source": [
    "#### Remove missing values "
   ]
  },
  {
   "cell_type": "code",
   "execution_count": 7,
   "metadata": {},
   "outputs": [],
   "source": [
    "stations_cleaning.dropna(inplace = True)\n",
    "stations_cleaning.drop(stations_cleaning[stations_cleaning['dock_id'].apply(lambda x: isinstance(x, str))].index, inplace = True)\n",
    "stations_cleaning = stations_cleaning[stations_cleaning['tot_docks'] < 500]"
   ]
  },
  {
   "cell_type": "markdown",
   "metadata": {},
   "source": [
    "#### Creating available bikes and docks"
   ]
  },
  {
   "cell_type": "code",
   "execution_count": 10,
   "metadata": {},
   "outputs": [],
   "source": [
    "mask = ~stations_cleaning['avail_bikes'].astype(str).str.contains('[A-z]')\n",
    "stations_cleaning = stations_cleaning[mask]"
   ]
  },
  {
   "cell_type": "code",
   "execution_count": 11,
   "metadata": {},
   "outputs": [],
   "source": [
    "# Remove quotation marks so strings can be converted to integers\n",
    "stations_cleaning['avail_bikes'] = stations_cleaning['avail_bikes'].apply(\n",
    "    lambda x: re.sub(\"\\\"\", \"\", str(x)))"
   ]
  },
  {
   "cell_type": "code",
   "execution_count": null,
   "metadata": {},
   "outputs": [],
   "source": [
    "# Drop empty values\n",
    "stations_cleaning = stations_cleaning[stations_cleaning['avail_bikes'] != \"\"]\n",
    "\n",
    "# Convert strings to integers\n",
    "stations_cleaning['avail_bikes'] = stations_cleaning['avail_bikes'].astype(float).astype(int)\n",
    "\n",
    "# Remove any row with an impossible number of bikes\n",
    "stations_cleaning = stations_cleaning[stations_cleaning['avail_bikes'] <= 100]"
   ]
  },
  {
   "cell_type": "code",
   "execution_count": null,
   "metadata": {},
   "outputs": [],
   "source": []
  },
  {
   "cell_type": "code",
   "execution_count": null,
   "metadata": {},
   "outputs": [],
   "source": []
  },
  {
   "cell_type": "code",
   "execution_count": null,
   "metadata": {},
   "outputs": [],
   "source": []
  }
 ],
 "metadata": {
  "kernelspec": {
   "display_name": "Python 3",
   "language": "python",
   "name": "python3"
  },
  "language_info": {
   "codemirror_mode": {
    "name": "ipython",
    "version": 3
   },
   "file_extension": ".py",
   "mimetype": "text/x-python",
   "name": "python",
   "nbconvert_exporter": "python",
   "pygments_lexer": "ipython3",
   "version": "3.7.6"
  },
  "toc": {
   "base_numbering": 1,
   "nav_menu": {},
   "number_sections": false,
   "sideBar": true,
   "skip_h1_title": false,
   "title_cell": "Table of Contents",
   "title_sidebar": "Contents",
   "toc_cell": false,
   "toc_position": {},
   "toc_section_display": true,
   "toc_window_display": false
  }
 },
 "nbformat": 4,
 "nbformat_minor": 4
}
